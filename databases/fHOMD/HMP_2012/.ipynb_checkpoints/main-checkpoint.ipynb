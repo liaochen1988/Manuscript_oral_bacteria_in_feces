{
 "cells": [
  {
   "cell_type": "code",
   "execution_count": 32,
   "id": "577ec7e6-0e67-4c15-8b37-b6afec836b43",
   "metadata": {},
   "outputs": [],
   "source": [
    "import pandas as pd\n",
    "import numpy as np\n",
    "import seaborn as sns\n",
    "import matplotlib.pyplot as plt"
   ]
  },
  {
   "cell_type": "markdown",
   "id": "3ec5e24f-1b1e-442c-b3f4-9ec1fcccd96e",
   "metadata": {},
   "source": [
    "# Find oral species (mean relative abundance >= 0.1% and prevalence >= 5%)"
   ]
  },
  {
   "cell_type": "code",
   "execution_count": 41,
   "id": "6e4be66a-3b5b-41fd-b603-82d82a28d56c",
   "metadata": {},
   "outputs": [
    {
     "name": "stdout",
     "output_type": "stream",
     "text": [
      "number of oral taxa = 111\n"
     ]
    }
   ],
   "source": [
    "df_oral = pd.read_csv(\"relative_abundance.txt\", sep=\"\\t\")\n",
    "df_oral = df_oral[df_oral.body_site=='oralcavity'].set_index('sample_id')\n",
    "nsamples = len(df_oral)\n",
    "df_oral = df_oral.iloc[:, 21:].T\n",
    "df_oral['mean_relabun_in_oral'] = df_oral.mean(axis=1)\n",
    "df_oral['prevalence_in_oral'] = 100-(df_oral.iloc[:,0:-1] == 0).astype(int).sum(axis=1)/nsamples*100\n",
    "df_oral = df_oral.sort_values('mean_relabun_in_oral')\n",
    "df_oral = df_oral[(df_oral.mean_relabun_in_oral>=0.1) & (df_oral.prevalence_in_oral>=5)]\n",
    "print('number of oral taxa = %d' % (len(df_oral.index)))\n",
    "df_oral.index.to_frame().rename({0:'OralTaxa'}, axis=1).to_csv('oral_taxa.csv', index=False)"
   ]
  },
  {
   "cell_type": "markdown",
   "id": "1fe718e3-f63e-424a-bfb0-102cc1578e6d",
   "metadata": {},
   "source": [
    "# Compare growth rate between oral and non-oral models"
   ]
  },
  {
   "cell_type": "code",
   "execution_count": 46,
   "id": "0cd193a2-33f4-4e7f-a49a-7514c5dd8594",
   "metadata": {},
   "outputs": [
    {
     "name": "stdout",
     "output_type": "stream",
     "text": [
      "['Abiotrophia_sp', 'Actinobaculum_sp', 'Actinomyces_graevenitzii', 'Actinomyces_johnsonii', 'Actinomyces_massiliensis', 'Actinomyces_naeslundii', 'Actinomyces_odontolyticus', 'Actinomyces_oris', 'Actinomyces_sp', 'Actinomyces_viscosus', 'Aggregatibacter_aphrophilus', 'Aggregatibacter_segnis', 'Aggregatibacter_sp', 'Alloprevotella_tannerae', 'Atopobium_parvulum', 'Bacteroidetes_oral', 'Campylobacter_concisus', 'Campylobacter_gracilis', 'Campylobacter_showae', 'Capnocytophaga_gingivalis', 'Capnocytophaga_granulosa', 'Capnocytophaga_leadbetteri', 'Capnocytophaga_ochracea', 'Capnocytophaga_sputigena', 'Cardiobacterium_hominis', 'Cardiobacterium_valvarum', 'Corynebacterium_durum', 'Corynebacterium_matruchotii', 'Cutibacterium_acnes', 'Eikenella_corrodens', 'Eubacterium_sulci', 'Fusobacterium_hwasookii', 'Fusobacterium_nucleatum', 'Fusobacterium_periodonticum', 'Gemella_haemolysans', 'Gemella_morbillorum', 'Gemella_sanguinis', 'Haemophilus_haemolyticus', 'Haemophilus_parainfluenzae', 'Haemophilus_paraphrohaemolyticus', 'Haemophilus_quentini', 'Haemophilus_sp', 'Haemophilus_sputorum', 'Kingella_oralis', 'Lachnoanaerobaculum_saburreum', 'Lachnospiraceae_bacterium', 'Lautropia_mirabilis', 'Leptotrichia_buccalis', 'Leptotrichia_hofstadii', 'Leptotrichia_sp', 'Leptotrichia_wadei', 'Megasphaera_micronuciformis', 'Mogibacterium_diversum', 'Neisseria_cinerea', 'Neisseria_elongata', 'Neisseria_flavescens', 'Neisseria_meningitidis', 'Neisseria_mucosa', 'Neisseria_perflava', 'Neisseria_sicca', 'Neisseria_sp', 'Neisseria_subflava', 'Oribacterium_parvum', 'Oribacterium_sinus', 'Porphyromonas_catoniae', 'Porphyromonas_endodontalis', 'Porphyromonas_somerae', 'Porphyromonas_sp', 'Prevotella_histicola', 'Prevotella_intermedia', 'Prevotella_jejuni', 'Prevotella_melaninogenica', 'Prevotella_nigrescens', 'Prevotella_oris', 'Prevotella_pallens', 'Prevotella_salivae', 'Prevotella_shahii', 'Prevotella_sp', 'Pseudopropionibacterium_propionicum', 'Rothia_aeria', 'Rothia_dentocariosa', 'Rothia_mucilaginosa', 'Selenomonas_noxia', 'Stomatobaculum_longum', 'Streptococcus_australis', 'Streptococcus_cristatus', 'Streptococcus_gordonii', 'Streptococcus_infantis', 'Streptococcus_mitis', 'Streptococcus_oralis', 'Streptococcus_parasanguinis', 'Streptococcus_pneumoniae', 'Streptococcus_pseudopneumoniae', 'Streptococcus_salivarius', 'Streptococcus_sanguinis', 'Streptococcus_sp', 'Streptococcus_vestibularis', 'Tannerella_sp', 'Veillonella_atypica', 'Veillonella_dispar', 'Veillonella_infantium', 'Veillonella_parvula', 'Veillonella_sp']\n"
     ]
    }
   ],
   "source": [
    "df_oral = pd.read_csv('oral_taxa.csv')\n",
    "oral_species_prefix = []\n",
    "for taxon in df_oral.OralTaxa:\n",
    "    if '|s__' in taxon:\n",
    "        oral_species_prefix.append(('_').join(taxon.split('|s__')[-1].split('_')[0:2]))\n",
    "oral_species_prefix = sorted(list(set(oral_species_prefix)))\n",
    "print(oral_species_prefix)"
   ]
  },
  {
   "cell_type": "code",
   "execution_count": 53,
   "id": "42b84374-8321-4dc5-8448-6e2de2e76fdd",
   "metadata": {},
   "outputs": [
    {
     "data": {
      "text/html": [
       "<div>\n",
       "<style scoped>\n",
       "    .dataframe tbody tr th:only-of-type {\n",
       "        vertical-align: middle;\n",
       "    }\n",
       "\n",
       "    .dataframe tbody tr th {\n",
       "        vertical-align: top;\n",
       "    }\n",
       "\n",
       "    .dataframe thead th {\n",
       "        text-align: right;\n",
       "    }\n",
       "</style>\n",
       "<table border=\"1\" class=\"dataframe\">\n",
       "  <thead>\n",
       "    <tr style=\"text-align: right;\">\n",
       "      <th></th>\n",
       "      <th>agoraid</th>\n",
       "      <th>max_growth_rate</th>\n",
       "      <th>medium</th>\n",
       "      <th>agoraid_prefix</th>\n",
       "      <th>is_oral</th>\n",
       "    </tr>\n",
       "  </thead>\n",
       "  <tbody>\n",
       "    <tr>\n",
       "      <th>4908</th>\n",
       "      <td>Abiotrophia_defectiva_ATCC_49176</td>\n",
       "      <td>0.229485</td>\n",
       "      <td>AGORA_WD</td>\n",
       "      <td>Abiotrophia_defectiva</td>\n",
       "      <td>No</td>\n",
       "    </tr>\n",
       "    <tr>\n",
       "      <th>4909</th>\n",
       "      <td>Achromobacter_xylosoxidans_A8</td>\n",
       "      <td>0.402918</td>\n",
       "      <td>AGORA_WD</td>\n",
       "      <td>Achromobacter_xylosoxidans</td>\n",
       "      <td>No</td>\n",
       "    </tr>\n",
       "    <tr>\n",
       "      <th>4910</th>\n",
       "      <td>Achromobacter_xylosoxidans_NBRC_15126</td>\n",
       "      <td>0.217327</td>\n",
       "      <td>AGORA_WD</td>\n",
       "      <td>Achromobacter_xylosoxidans</td>\n",
       "      <td>No</td>\n",
       "    </tr>\n",
       "    <tr>\n",
       "      <th>4911</th>\n",
       "      <td>Acidaminococcus_fermentans_DSM_20731</td>\n",
       "      <td>0.200883</td>\n",
       "      <td>AGORA_WD</td>\n",
       "      <td>Acidaminococcus_fermentans</td>\n",
       "      <td>No</td>\n",
       "    </tr>\n",
       "    <tr>\n",
       "      <th>4912</th>\n",
       "      <td>Acidaminococcus_intestini_RyC_MR95</td>\n",
       "      <td>0.066094</td>\n",
       "      <td>AGORA_WD</td>\n",
       "      <td>Acidaminococcus_intestini</td>\n",
       "      <td>No</td>\n",
       "    </tr>\n",
       "  </tbody>\n",
       "</table>\n",
       "</div>"
      ],
      "text/plain": [
       "                                    agoraid  max_growth_rate    medium  \\\n",
       "4908       Abiotrophia_defectiva_ATCC_49176         0.229485  AGORA_WD   \n",
       "4909          Achromobacter_xylosoxidans_A8         0.402918  AGORA_WD   \n",
       "4910  Achromobacter_xylosoxidans_NBRC_15126         0.217327  AGORA_WD   \n",
       "4911   Acidaminococcus_fermentans_DSM_20731         0.200883  AGORA_WD   \n",
       "4912     Acidaminococcus_intestini_RyC_MR95         0.066094  AGORA_WD   \n",
       "\n",
       "                  agoraid_prefix is_oral  \n",
       "4908       Abiotrophia_defectiva      No  \n",
       "4909  Achromobacter_xylosoxidans      No  \n",
       "4910  Achromobacter_xylosoxidans      No  \n",
       "4911  Acidaminococcus_fermentans      No  \n",
       "4912   Acidaminococcus_intestini      No  "
      ]
     },
     "execution_count": 53,
     "metadata": {},
     "output_type": "execute_result"
    }
   ],
   "source": [
    "df_growth = pd.read_csv('tbl_max_growth.csv')\n",
    "df_growth = df_growth[df_growth.medium=='AGORA_WD']\n",
    "df_growth['agoraid_prefix'] = [('_').join(mid.split('_')[0:2]) for mid in df_growth.agoraid]\n",
    "df_growth['is_oral'] = ['Yes' if mid in oral_species_prefix else 'No' for mid in df_growth.agoraid_prefix]  \n",
    "df_growth.head()"
   ]
  },
  {
   "cell_type": "code",
   "execution_count": 55,
   "id": "7dd0dc39-62e5-4db7-ac67-c0021d622052",
   "metadata": {},
   "outputs": [
    {
     "data": {
      "image/png": "[encoded data removed]",
      "text/plain": [
       "<Figure size 432x288 with 1 Axes>"
      ]
     },
     "metadata": {
      "needs_background": "light"
     },
     "output_type": "display_data"
    }
   ],
   "source": [
    "fig, ax = plt.subplots(figsize=(6,4))\n",
    "_ = sns.boxplot(y='max_growth_rate', x='is_oral', data=df_growth, ax=ax)"
   ]
  },
  {
   "cell_type": "code",
   "execution_count": 56,
   "id": "7899cc54-6b16-41db-b1da-ca8363c2c18b",
   "metadata": {},
   "outputs": [
    {
     "data": {
      "text/html": [
       "<div>\n",
       "<style scoped>\n",
       "    .dataframe tbody tr th:only-of-type {\n",
       "        vertical-align: middle;\n",
       "    }\n",
       "\n",
       "    .dataframe tbody tr th {\n",
       "        vertical-align: top;\n",
       "    }\n",
       "\n",
       "    .dataframe thead th {\n",
       "        text-align: right;\n",
       "    }\n",
       "</style>\n",
       "<table border=\"1\" class=\"dataframe\">\n",
       "  <thead>\n",
       "    <tr style=\"text-align: right;\">\n",
       "      <th></th>\n",
       "      <th>max_growth_rate</th>\n",
       "    </tr>\n",
       "    <tr>\n",
       "      <th>is_oral</th>\n",
       "      <th></th>\n",
       "    </tr>\n",
       "  </thead>\n",
       "  <tbody>\n",
       "    <tr>\n",
       "      <th>No</th>\n",
       "      <td>0.351193</td>\n",
       "    </tr>\n",
       "    <tr>\n",
       "      <th>Yes</th>\n",
       "      <td>0.245333</td>\n",
       "    </tr>\n",
       "  </tbody>\n",
       "</table>\n",
       "</div>"
      ],
      "text/plain": [
       "         max_growth_rate\n",
       "is_oral                 \n",
       "No              0.351193\n",
       "Yes             0.245333"
      ]
     },
     "execution_count": 56,
     "metadata": {},
     "output_type": "execute_result"
    }
   ],
   "source": [
    "df_growth.groupby(['is_oral']).agg(np.mean)"
   ]
  },
  {
   "cell_type": "code",
   "execution_count": 57,
   "id": "5e9fcf9c-b72a-4d6d-ae42-62751ede2dbd",
   "metadata": {},
   "outputs": [
    {
     "data": {
      "text/plain": [
       "1.4583333333333333"
      ]
     },
     "execution_count": 57,
     "metadata": {},
     "output_type": "execute_result"
    }
   ],
   "source": [
    "0.35/0.24"
   ]
  },
  {
   "cell_type": "code",
   "execution_count": null,
   "id": "cbc23332-0ff0-42b4-9a5b-7d852ca0cede",
   "metadata": {},
   "outputs": [],
   "source": []
  }
 ],
 "metadata": {
  "kernelspec": {
   "display_name": "Python 3",
   "language": "python",
   "name": "python3"
  },
  "language_info": {
   "codemirror_mode": {
    "name": "ipython",
    "version": 3
   },
   "file_extension": ".py",
   "mimetype": "text/x-python",
   "name": "python",
   "nbconvert_exporter": "python",
   "pygments_lexer": "ipython3",
   "version": "3.8.5"
  }
 },
 "nbformat": 4,
 "nbformat_minor": 5
}
