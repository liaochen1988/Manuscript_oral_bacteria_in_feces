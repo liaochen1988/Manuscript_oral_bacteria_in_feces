{
 "cells": [
  {
   "cell_type": "code",
   "execution_count": 2,
   "id": "577ec7e6-0e67-4c15-8b37-b6afec836b43",
   "metadata": {},
   "outputs": [],
   "source": [
    "import pandas as pd\n",
    "import numpy as np\n",
    "from Bio import SeqIO\n",
    "import re\n",
    "from copy import deepcopy"
   ]
  },
  {
   "cell_type": "markdown",
   "id": "685f894a-7b13-414f-80a6-eb30c1746807",
   "metadata": {},
   "source": [
    "# Compute relative abundance and prevalence of oral ASVs"
   ]
  },
  {
   "cell_type": "code",
   "execution_count": 8,
   "id": "889b41d3-63ff-4b65-b076-bc0dbcede90e",
   "metadata": {},
   "outputs": [
    {
     "name": "stdout",
     "output_type": "stream",
     "text": [
      "# oral samples of HMP = 414\n",
      "# oral samples of Brito = 140\n"
     ]
    },
    {
     "data": {
      "text/html": [
       "<div>\n",
       "<style scoped>\n",
       "    .dataframe tbody tr th:only-of-type {\n",
       "        vertical-align: middle;\n",
       "    }\n",
       "\n",
       "    .dataframe tbody tr th {\n",
       "        vertical-align: top;\n",
       "    }\n",
       "\n",
       "    .dataframe thead th {\n",
       "        text-align: right;\n",
       "    }\n",
       "</style>\n",
       "<table border=\"1\" class=\"dataframe\">\n",
       "  <thead>\n",
       "    <tr style=\"text-align: right;\">\n",
       "      <th>sample_id</th>\n",
       "      <th>MeanRelabunOral</th>\n",
       "      <th>PrevalenceOral</th>\n",
       "    </tr>\n",
       "  </thead>\n",
       "  <tbody>\n",
       "    <tr>\n",
       "      <th>k__Bacteria|p__Actinobacteria|c__Actinobacteria|o__Actinomycetales|f__Actinomycetaceae|g__Actinobaculum|s__Actinobaculum_sp_oral_taxon_183</th>\n",
       "      <td>0.550773</td>\n",
       "      <td>0.458484</td>\n",
       "    </tr>\n",
       "    <tr>\n",
       "      <th>k__Bacteria|p__Actinobacteria|c__Actinobacteria|o__Actinomycetales|f__Actinomycetaceae|g__Actinomyces|s__Actinomyces_cardiffensis</th>\n",
       "      <td>0.007559</td>\n",
       "      <td>0.083032</td>\n",
       "    </tr>\n",
       "    <tr>\n",
       "      <th>k__Bacteria|p__Actinobacteria|c__Actinobacteria|o__Actinomycetales|f__Actinomycetaceae|g__Actinomyces|s__Actinomyces_denticolens</th>\n",
       "      <td>0.000025</td>\n",
       "      <td>0.003610</td>\n",
       "    </tr>\n",
       "    <tr>\n",
       "      <th>k__Bacteria|p__Actinobacteria|c__Actinobacteria|o__Actinomycetales|f__Actinomycetaceae|g__Actinomyces|s__Actinomyces_georgiae</th>\n",
       "      <td>0.009867</td>\n",
       "      <td>0.216606</td>\n",
       "    </tr>\n",
       "    <tr>\n",
       "      <th>k__Bacteria|p__Actinobacteria|c__Actinobacteria|o__Actinomycetales|f__Actinomycetaceae|g__Actinomyces|s__Actinomyces_graevenitzii</th>\n",
       "      <td>1.191794</td>\n",
       "      <td>0.646209</td>\n",
       "    </tr>\n",
       "  </tbody>\n",
       "</table>\n",
       "</div>"
      ],
      "text/plain": [
       "sample_id                                           MeanRelabunOral  \\\n",
       "k__Bacteria|p__Actinobacteria|c__Actinobacteria...         0.550773   \n",
       "k__Bacteria|p__Actinobacteria|c__Actinobacteria...         0.007559   \n",
       "k__Bacteria|p__Actinobacteria|c__Actinobacteria...         0.000025   \n",
       "k__Bacteria|p__Actinobacteria|c__Actinobacteria...         0.009867   \n",
       "k__Bacteria|p__Actinobacteria|c__Actinobacteria...         1.191794   \n",
       "\n",
       "sample_id                                           PrevalenceOral  \n",
       "k__Bacteria|p__Actinobacteria|c__Actinobacteria...        0.458484  \n",
       "k__Bacteria|p__Actinobacteria|c__Actinobacteria...        0.083032  \n",
       "k__Bacteria|p__Actinobacteria|c__Actinobacteria...        0.003610  \n",
       "k__Bacteria|p__Actinobacteria|c__Actinobacteria...        0.216606  \n",
       "k__Bacteria|p__Actinobacteria|c__Actinobacteria...        0.646209  "
      ]
     },
     "execution_count": 8,
     "metadata": {},
     "output_type": "execute_result"
    }
   ],
   "source": [
    "# read HMP\n",
    "df_hmp = pd.read_csv(\"HMP_2012/relative_abundance.txt\", sep=\"\\t\")\n",
    "df_hmp = df_hmp[df_hmp.body_site=='oralcavity'].set_index('sample_id')\n",
    "df_hmp = df_hmp.iloc[:, 21:].T\n",
    "print(\"# oral samples of HMP = %d\" % (len(df_hmp.columns)))\n",
    "\n",
    "# read brito\n",
    "df_brito = pd.read_csv(\"BritoIL_2016/relative_abundance.txt\", sep=\"\\t\")\n",
    "df_brito = df_brito[df_brito.body_site=='oralcavity'].set_index('sample_id')\n",
    "df_brito = df_brito.iloc[:, 21:].T\n",
    "print(\"# oral samples of Brito = %d\" % (len(df_brito.columns)))\n",
    "      \n",
    "# combine\n",
    "df_oral = pd.merge(df_hmp, df_brito, left_index=True, right_index=True, how='outer').fillna(0)\n",
    "df_oral = df_oral.loc[[x for x in df_oral.index if 'k__Bacteria' in x and 'Chloroplast' not in x and 'Mitochondria' not in x]]\n",
    "df_oral = df_oral.loc[~(df_oral==0).all(axis=1)]\n",
    "df_oral['MeanRelabunOral'] = df_oral.mean(axis=1)\n",
    "df_oral['PrevalenceOral'] = (df_oral.iloc[:,0:-1] >1e-3).astype(int).mean(axis=1)\n",
    "df_oral = df_oral[['MeanRelabunOral', 'PrevalenceOral']]\n",
    "df_oral.head()"
   ]
  },
  {
   "cell_type": "markdown",
   "id": "6bb0c923-ce58-425b-a764-be4ea62615e9",
   "metadata": {},
   "source": [
    "# Compute relative abundance and prevalence of gut ASVs"
   ]
  },
  {
   "cell_type": "code",
   "execution_count": 10,
   "id": "ddfc73fc-2ee4-4c69-afe6-7107a20b09f8",
   "metadata": {},
   "outputs": [
    {
     "name": "stdout",
     "output_type": "stream",
     "text": [
      "# fecal samples of HMP = 147\n",
      "# fecal samples of Brito = 172\n"
     ]
    },
    {
     "data": {
      "text/html": [
       "<div>\n",
       "<style scoped>\n",
       "    .dataframe tbody tr th:only-of-type {\n",
       "        vertical-align: middle;\n",
       "    }\n",
       "\n",
       "    .dataframe tbody tr th {\n",
       "        vertical-align: top;\n",
       "    }\n",
       "\n",
       "    .dataframe thead th {\n",
       "        text-align: right;\n",
       "    }\n",
       "</style>\n",
       "<table border=\"1\" class=\"dataframe\">\n",
       "  <thead>\n",
       "    <tr style=\"text-align: right;\">\n",
       "      <th>sample_id</th>\n",
       "      <th>MeanRelabunGut</th>\n",
       "      <th>PrevalenceGut</th>\n",
       "    </tr>\n",
       "  </thead>\n",
       "  <tbody>\n",
       "    <tr>\n",
       "      <th>k__Bacteria|p__Actinobacteria|c__Actinobacteria|o__Actinomycetales|f__Actinomycetaceae|g__Actinobaculum|s__Actinobaculum_sp_oral_taxon_183</th>\n",
       "      <td>0.000039</td>\n",
       "      <td>0.009404</td>\n",
       "    </tr>\n",
       "    <tr>\n",
       "      <th>k__Bacteria|p__Actinobacteria|c__Actinobacteria|o__Actinomycetales|f__Actinomycetaceae|g__Actinomyces|s__Actinomyces_cardiffensis</th>\n",
       "      <td>0.000001</td>\n",
       "      <td>0.000000</td>\n",
       "    </tr>\n",
       "    <tr>\n",
       "      <th>k__Bacteria|p__Actinobacteria|c__Actinobacteria|o__Actinomycetales|f__Actinomycetaceae|g__Actinomyces|s__Actinomyces_graevenitzii</th>\n",
       "      <td>0.000310</td>\n",
       "      <td>0.050157</td>\n",
       "    </tr>\n",
       "    <tr>\n",
       "      <th>k__Bacteria|p__Actinobacteria|c__Actinobacteria|o__Actinomycetales|f__Actinomycetaceae|g__Actinomyces|s__Actinomyces_johnsonii</th>\n",
       "      <td>0.000021</td>\n",
       "      <td>0.009404</td>\n",
       "    </tr>\n",
       "    <tr>\n",
       "      <th>k__Bacteria|p__Actinobacteria|c__Actinobacteria|o__Actinomycetales|f__Actinomycetaceae|g__Actinomyces|s__Actinomyces_naeslundii</th>\n",
       "      <td>0.000074</td>\n",
       "      <td>0.018809</td>\n",
       "    </tr>\n",
       "  </tbody>\n",
       "</table>\n",
       "</div>"
      ],
      "text/plain": [
       "sample_id                                           MeanRelabunGut  \\\n",
       "k__Bacteria|p__Actinobacteria|c__Actinobacteria...        0.000039   \n",
       "k__Bacteria|p__Actinobacteria|c__Actinobacteria...        0.000001   \n",
       "k__Bacteria|p__Actinobacteria|c__Actinobacteria...        0.000310   \n",
       "k__Bacteria|p__Actinobacteria|c__Actinobacteria...        0.000021   \n",
       "k__Bacteria|p__Actinobacteria|c__Actinobacteria...        0.000074   \n",
       "\n",
       "sample_id                                           PrevalenceGut  \n",
       "k__Bacteria|p__Actinobacteria|c__Actinobacteria...       0.009404  \n",
       "k__Bacteria|p__Actinobacteria|c__Actinobacteria...       0.000000  \n",
       "k__Bacteria|p__Actinobacteria|c__Actinobacteria...       0.050157  \n",
       "k__Bacteria|p__Actinobacteria|c__Actinobacteria...       0.009404  \n",
       "k__Bacteria|p__Actinobacteria|c__Actinobacteria...       0.018809  "
      ]
     },
     "execution_count": 10,
     "metadata": {},
     "output_type": "execute_result"
    }
   ],
   "source": [
    "# read HMP\n",
    "df_hmp = pd.read_csv(\"HMP_2012/relative_abundance.txt\", sep=\"\\t\")\n",
    "df_hmp = df_hmp[df_hmp.body_site=='stool'].set_index('sample_id')\n",
    "df_hmp = df_hmp.iloc[:, 21:].T\n",
    "print(\"# fecal samples of HMP = %d\" % (len(df_hmp.columns)))\n",
    "\n",
    "# read brito\n",
    "df_brito = pd.read_csv(\"BritoIL_2016/relative_abundance.txt\", sep=\"\\t\")\n",
    "df_brito = df_brito[df_brito.body_site=='stool'].set_index('sample_id')\n",
    "df_brito = df_brito.iloc[:, 21:].T\n",
    "print(\"# fecal samples of Brito = %d\" % (len(df_brito.columns)))\n",
    "\n",
    "# combine\n",
    "df_gut = pd.merge(df_hmp, df_brito, left_index=True, right_index=True, how='outer').fillna(0)\n",
    "df_gut = df_gut.loc[[x for x in df_gut.index if 'k__Bacteria' in x and 'Chloroplast' not in x and 'Mitochondria' not in x]]\n",
    "df_gut = df_gut.loc[~(df_gut==0).all(axis=1)]\n",
    "df_gut['MeanRelabunGut'] = df_gut.mean(axis=1)\n",
    "df_gut['PrevalenceGut'] = (df_gut.iloc[:,0:-1] >1e-3).astype(int).mean(axis=1)\n",
    "df_gut = df_gut[['MeanRelabunGut', 'PrevalenceGut']]\n",
    "df_gut.head()"
   ]
  },
  {
   "cell_type": "markdown",
   "id": "1e556ce4-ff4b-4724-9b59-341e583cd643",
   "metadata": {},
   "source": [
    "# Combine and filter"
   ]
  },
  {
   "cell_type": "code",
   "execution_count": 8,
   "id": "e84ae32f-948f-4d1d-a87a-2a094d20d225",
   "metadata": {},
   "outputs": [
    {
     "name": "stdout",
     "output_type": "stream",
     "text": [
      "number of oral species after filtering = 92\n"
     ]
    },
    {
     "data": {
      "text/html": [
       "<div>\n",
       "<style scoped>\n",
       "    .dataframe tbody tr th:only-of-type {\n",
       "        vertical-align: middle;\n",
       "    }\n",
       "\n",
       "    .dataframe tbody tr th {\n",
       "        vertical-align: top;\n",
       "    }\n",
       "\n",
       "    .dataframe thead th {\n",
       "        text-align: right;\n",
       "    }\n",
       "</style>\n",
       "<table border=\"1\" class=\"dataframe\">\n",
       "  <thead>\n",
       "    <tr style=\"text-align: right;\">\n",
       "      <th>sample_id</th>\n",
       "      <th>MeanRelabunOral</th>\n",
       "      <th>PrevalenceOral</th>\n",
       "      <th>MeanRelabunGut</th>\n",
       "      <th>PrevalenceGut</th>\n",
       "    </tr>\n",
       "  </thead>\n",
       "  <tbody>\n",
       "    <tr>\n",
       "      <th>k__Bacteria|p__Actinobacteria|c__Actinobacteria|o__Actinomycetales|f__Actinomycetaceae|g__Actinobaculum|s__Actinobaculum_sp_oral_taxon_183</th>\n",
       "      <td>0.550773</td>\n",
       "      <td>0.458484</td>\n",
       "      <td>0.000039</td>\n",
       "      <td>0.009404</td>\n",
       "    </tr>\n",
       "    <tr>\n",
       "      <th>k__Bacteria|p__Actinobacteria|c__Actinobacteria|o__Actinomycetales|f__Actinomycetaceae|g__Actinomyces|s__Actinomyces_johnsonii</th>\n",
       "      <td>0.143748</td>\n",
       "      <td>0.395307</td>\n",
       "      <td>0.000021</td>\n",
       "      <td>0.009404</td>\n",
       "    </tr>\n",
       "    <tr>\n",
       "      <th>k__Bacteria|p__Actinobacteria|c__Actinobacteria|o__Actinomycetales|f__Actinomycetaceae|g__Actinomyces|s__Actinomyces_massiliensis</th>\n",
       "      <td>0.354643</td>\n",
       "      <td>0.402527</td>\n",
       "      <td>0.000000</td>\n",
       "      <td>0.000000</td>\n",
       "    </tr>\n",
       "    <tr>\n",
       "      <th>k__Bacteria|p__Actinobacteria|c__Actinobacteria|o__Actinomycetales|f__Actinomycetaceae|g__Actinomyces|s__Actinomyces_naeslundii</th>\n",
       "      <td>0.505413</td>\n",
       "      <td>0.635379</td>\n",
       "      <td>0.000074</td>\n",
       "      <td>0.018809</td>\n",
       "    </tr>\n",
       "    <tr>\n",
       "      <th>k__Bacteria|p__Actinobacteria|c__Actinobacteria|o__Actinomycetales|f__Actinomycetaceae|g__Actinomyces|s__Actinomyces_sp_S6_Spd3</th>\n",
       "      <td>0.127484</td>\n",
       "      <td>0.500000</td>\n",
       "      <td>0.000110</td>\n",
       "      <td>0.034483</td>\n",
       "    </tr>\n",
       "  </tbody>\n",
       "</table>\n",
       "</div>"
      ],
      "text/plain": [
       "sample_id                                           MeanRelabunOral  \\\n",
       "k__Bacteria|p__Actinobacteria|c__Actinobacteria...         0.550773   \n",
       "k__Bacteria|p__Actinobacteria|c__Actinobacteria...         0.143748   \n",
       "k__Bacteria|p__Actinobacteria|c__Actinobacteria...         0.354643   \n",
       "k__Bacteria|p__Actinobacteria|c__Actinobacteria...         0.505413   \n",
       "k__Bacteria|p__Actinobacteria|c__Actinobacteria...         0.127484   \n",
       "\n",
       "sample_id                                           PrevalenceOral  \\\n",
       "k__Bacteria|p__Actinobacteria|c__Actinobacteria...        0.458484   \n",
       "k__Bacteria|p__Actinobacteria|c__Actinobacteria...        0.395307   \n",
       "k__Bacteria|p__Actinobacteria|c__Actinobacteria...        0.402527   \n",
       "k__Bacteria|p__Actinobacteria|c__Actinobacteria...        0.635379   \n",
       "k__Bacteria|p__Actinobacteria|c__Actinobacteria...        0.500000   \n",
       "\n",
       "sample_id                                           MeanRelabunGut  \\\n",
       "k__Bacteria|p__Actinobacteria|c__Actinobacteria...        0.000039   \n",
       "k__Bacteria|p__Actinobacteria|c__Actinobacteria...        0.000021   \n",
       "k__Bacteria|p__Actinobacteria|c__Actinobacteria...        0.000000   \n",
       "k__Bacteria|p__Actinobacteria|c__Actinobacteria...        0.000074   \n",
       "k__Bacteria|p__Actinobacteria|c__Actinobacteria...        0.000110   \n",
       "\n",
       "sample_id                                           PrevalenceGut  \n",
       "k__Bacteria|p__Actinobacteria|c__Actinobacteria...       0.009404  \n",
       "k__Bacteria|p__Actinobacteria|c__Actinobacteria...       0.009404  \n",
       "k__Bacteria|p__Actinobacteria|c__Actinobacteria...       0.000000  \n",
       "k__Bacteria|p__Actinobacteria|c__Actinobacteria...       0.018809  \n",
       "k__Bacteria|p__Actinobacteria|c__Actinobacteria...       0.034483  "
      ]
     },
     "execution_count": 8,
     "metadata": {},
     "output_type": "execute_result"
    }
   ],
   "source": [
    "df_combined = pd.merge(df_oral, df_gut, left_index=True, right_index=True, how='outer').fillna(0)\n",
    "df_combined = df_combined[(df_combined.MeanRelabunOral > 0.1) & (df_combined.PrevalenceOral > 0.05) & (df_combined.MeanRelabunGut<=0.1) & (df_combined.PrevalenceGut <= 0.05)]\n",
    "print('number of oral species after filtering = %d' % (len(df_combined)))\n",
    "df_combined.head()"
   ]
  },
  {
   "cell_type": "markdown",
   "id": "83e2ec0d-7ef4-444a-a66e-836f59471fc9",
   "metadata": {},
   "source": [
    "# Write filtered sequences to fasta"
   ]
  },
  {
   "cell_type": "code",
   "execution_count": 9,
   "id": "640a1cd7-8356-495b-80db-5e9c844ea76d",
   "metadata": {
    "tags": []
   },
   "outputs": [
    {
     "data": {
      "text/html": [
       "<div>\n",
       "<style scoped>\n",
       "    .dataframe tbody tr th:only-of-type {\n",
       "        vertical-align: middle;\n",
       "    }\n",
       "\n",
       "    .dataframe tbody tr th {\n",
       "        vertical-align: top;\n",
       "    }\n",
       "\n",
       "    .dataframe thead th {\n",
       "        text-align: right;\n",
       "    }\n",
       "</style>\n",
       "<table border=\"1\" class=\"dataframe\">\n",
       "  <thead>\n",
       "    <tr style=\"text-align: right;\">\n",
       "      <th>sample_id</th>\n",
       "      <th>taxon</th>\n",
       "      <th>MeanRelabunOral</th>\n",
       "      <th>PrevalenceOral</th>\n",
       "      <th>MeanRelabunGut</th>\n",
       "      <th>PrevalenceGut</th>\n",
       "      <th>species</th>\n",
       "      <th>species_binomial</th>\n",
       "    </tr>\n",
       "  </thead>\n",
       "  <tbody>\n",
       "    <tr>\n",
       "      <th>0</th>\n",
       "      <td>k__Bacteria|p__Actinobacteria|c__Actinobacteri...</td>\n",
       "      <td>0.550773</td>\n",
       "      <td>0.458484</td>\n",
       "      <td>0.000039</td>\n",
       "      <td>0.009404</td>\n",
       "      <td>Actinobaculum_sp_oral_taxon_183</td>\n",
       "      <td>Actinobaculum sp</td>\n",
       "    </tr>\n",
       "    <tr>\n",
       "      <th>1</th>\n",
       "      <td>k__Bacteria|p__Actinobacteria|c__Actinobacteri...</td>\n",
       "      <td>0.143748</td>\n",
       "      <td>0.395307</td>\n",
       "      <td>0.000021</td>\n",
       "      <td>0.009404</td>\n",
       "      <td>Actinomyces_johnsonii</td>\n",
       "      <td>Actinomyces johnsonii</td>\n",
       "    </tr>\n",
       "    <tr>\n",
       "      <th>2</th>\n",
       "      <td>k__Bacteria|p__Actinobacteria|c__Actinobacteri...</td>\n",
       "      <td>0.354643</td>\n",
       "      <td>0.402527</td>\n",
       "      <td>0.000000</td>\n",
       "      <td>0.000000</td>\n",
       "      <td>Actinomyces_massiliensis</td>\n",
       "      <td>Actinomyces massiliensis</td>\n",
       "    </tr>\n",
       "    <tr>\n",
       "      <th>3</th>\n",
       "      <td>k__Bacteria|p__Actinobacteria|c__Actinobacteri...</td>\n",
       "      <td>0.505413</td>\n",
       "      <td>0.635379</td>\n",
       "      <td>0.000074</td>\n",
       "      <td>0.018809</td>\n",
       "      <td>Actinomyces_naeslundii</td>\n",
       "      <td>Actinomyces naeslundii</td>\n",
       "    </tr>\n",
       "    <tr>\n",
       "      <th>4</th>\n",
       "      <td>k__Bacteria|p__Actinobacteria|c__Actinobacteri...</td>\n",
       "      <td>0.127484</td>\n",
       "      <td>0.500000</td>\n",
       "      <td>0.000110</td>\n",
       "      <td>0.034483</td>\n",
       "      <td>Actinomyces_sp_S6_Spd3</td>\n",
       "      <td>Actinomyces sp</td>\n",
       "    </tr>\n",
       "  </tbody>\n",
       "</table>\n",
       "</div>"
      ],
      "text/plain": [
       "sample_id                                              taxon  MeanRelabunOral  \\\n",
       "0          k__Bacteria|p__Actinobacteria|c__Actinobacteri...         0.550773   \n",
       "1          k__Bacteria|p__Actinobacteria|c__Actinobacteri...         0.143748   \n",
       "2          k__Bacteria|p__Actinobacteria|c__Actinobacteri...         0.354643   \n",
       "3          k__Bacteria|p__Actinobacteria|c__Actinobacteri...         0.505413   \n",
       "4          k__Bacteria|p__Actinobacteria|c__Actinobacteri...         0.127484   \n",
       "\n",
       "sample_id  PrevalenceOral  MeanRelabunGut  PrevalenceGut  \\\n",
       "0                0.458484        0.000039       0.009404   \n",
       "1                0.395307        0.000021       0.009404   \n",
       "2                0.402527        0.000000       0.000000   \n",
       "3                0.635379        0.000074       0.018809   \n",
       "4                0.500000        0.000110       0.034483   \n",
       "\n",
       "sample_id                          species          species_binomial  \n",
       "0          Actinobaculum_sp_oral_taxon_183          Actinobaculum sp  \n",
       "1                    Actinomyces_johnsonii     Actinomyces johnsonii  \n",
       "2                 Actinomyces_massiliensis  Actinomyces massiliensis  \n",
       "3                   Actinomyces_naeslundii    Actinomyces naeslundii  \n",
       "4                   Actinomyces_sp_S6_Spd3            Actinomyces sp  "
      ]
     },
     "execution_count": 9,
     "metadata": {},
     "output_type": "execute_result"
    }
   ],
   "source": [
    "df2write = deepcopy(df_combined).reset_index().rename({'index':'taxon'}, axis=1)\n",
    "df2write['species'] = [t.split('s__')[1] for t in df2write.taxon]\n",
    "df2write['species_binomial'] = [' '.join(x.split('_')[0:2]) for x in df2write.species]\n",
    "df2write.head()"
   ]
  },
  {
   "cell_type": "code",
   "execution_count": 11,
   "id": "de59ff76-e566-420b-94f0-b9d02274a5ef",
   "metadata": {},
   "outputs": [],
   "source": [
    "df2write.to_csv(\"oral_typical_species.csv\", index=False)"
   ]
  },
  {
   "cell_type": "code",
   "execution_count": 39,
   "id": "88d7f038-59c8-498c-8154-7eb889ff55ec",
   "metadata": {},
   "outputs": [
    {
     "data": {
      "text/plain": [
       "92"
      ]
     },
     "execution_count": 39,
     "metadata": {},
     "output_type": "execute_result"
    }
   ],
   "source": [
    "len(df2write)"
   ]
  },
  {
   "cell_type": "code",
   "execution_count": 40,
   "id": "6dbad419-64b4-45dd-980d-d42edb0389f6",
   "metadata": {},
   "outputs": [
    {
     "data": {
      "text/html": [
       "<div>\n",
       "<style scoped>\n",
       "    .dataframe tbody tr th:only-of-type {\n",
       "        vertical-align: middle;\n",
       "    }\n",
       "\n",
       "    .dataframe tbody tr th {\n",
       "        vertical-align: top;\n",
       "    }\n",
       "\n",
       "    .dataframe thead th {\n",
       "        text-align: right;\n",
       "    }\n",
       "</style>\n",
       "<table border=\"1\" class=\"dataframe\">\n",
       "  <thead>\n",
       "    <tr style=\"text-align: right;\">\n",
       "      <th></th>\n",
       "      <th>Subject_SeqID</th>\n",
       "      <th>Subject_SeqDescription</th>\n",
       "      <th>Subject_Sequence</th>\n",
       "    </tr>\n",
       "  </thead>\n",
       "  <tbody>\n",
       "    <tr>\n",
       "      <th>0</th>\n",
       "      <td>623_4320</td>\n",
       "      <td>623_4320 | Campylobacter gracilis | HMT-623 | ...</td>\n",
       "      <td>AGTGAACGCTGGCGGCGTGCCTAATACATGCAAGTCGAACGGAATT...</td>\n",
       "    </tr>\n",
       "    <tr>\n",
       "      <th>1</th>\n",
       "      <td>575_6977</td>\n",
       "      <td>575_6977 | Campylobacter concisus | HMT-575 | ...</td>\n",
       "      <td>AGTGAACGCTGGCGGCGTGCCTAATACATGCAAGTCGAACGGACAA...</td>\n",
       "    </tr>\n",
       "    <tr>\n",
       "      <th>2</th>\n",
       "      <td>763_6974</td>\n",
       "      <td>763_6974 | Campylobacter showae | HMT-763 | St...</td>\n",
       "      <td>AGTGAACGCTGGCGGCGTGCCTAATACATGCAAGTCGAACGGAGAT...</td>\n",
       "    </tr>\n",
       "    <tr>\n",
       "      <th>3</th>\n",
       "      <td>325_1347</td>\n",
       "      <td>325_1347 | Capnocytophaga granulosa | HMT-325 ...</td>\n",
       "      <td>GATGAACGCTAGCGGCAGGCCTAACACATGCAAGTCGAGGGAGAAG...</td>\n",
       "    </tr>\n",
       "    <tr>\n",
       "      <th>4</th>\n",
       "      <td>325AH015</td>\n",
       "      <td>325AH015 | Capnocytophaga granulosa | HMT-325 ...</td>\n",
       "      <td>GATGAACGCTAGCGGCAGGCCTAACACATGCAAGTCGAGGGAGAAG...</td>\n",
       "    </tr>\n",
       "  </tbody>\n",
       "</table>\n",
       "</div>"
      ],
      "text/plain": [
       "  Subject_SeqID                             Subject_SeqDescription  \\\n",
       "0      623_4320  623_4320 | Campylobacter gracilis | HMT-623 | ...   \n",
       "1      575_6977  575_6977 | Campylobacter concisus | HMT-575 | ...   \n",
       "2      763_6974  763_6974 | Campylobacter showae | HMT-763 | St...   \n",
       "3      325_1347  325_1347 | Capnocytophaga granulosa | HMT-325 ...   \n",
       "4      325AH015  325AH015 | Capnocytophaga granulosa | HMT-325 ...   \n",
       "\n",
       "                                    Subject_Sequence  \n",
       "0  AGTGAACGCTGGCGGCGTGCCTAATACATGCAAGTCGAACGGAATT...  \n",
       "1  AGTGAACGCTGGCGGCGTGCCTAATACATGCAAGTCGAACGGACAA...  \n",
       "2  AGTGAACGCTGGCGGCGTGCCTAATACATGCAAGTCGAACGGAGAT...  \n",
       "3  GATGAACGCTAGCGGCAGGCCTAACACATGCAAGTCGAGGGAGAAG...  \n",
       "4  GATGAACGCTAGCGGCAGGCCTAACACATGCAAGTCGAGGGAGAAG...  "
      ]
     },
     "execution_count": 40,
     "metadata": {},
     "output_type": "execute_result"
    }
   ],
   "source": [
    "fasta_sequences = SeqIO.parse(open(\"../HOMD/HOMD.fasta\"),'fasta')\n",
    "with open(\"fHOMD.fasta\", \"w\") as out_file:\n",
    "    res = []\n",
    "    for fasta in fasta_sequences:\n",
    "        name, description, sequence = fasta.id, fasta.description, str(fasta.seq)\n",
    "        species = description.split('|')[1].strip()\n",
    "        \n",
    "        # remove parenthesis and inside\n",
    "        species = re.sub(r\"\\((.*?)\\)\", \"\", species)\n",
    "        species = re.sub(r\"\\[(.*?)\\]\", \"\", species)\n",
    "                            \n",
    "        # get binomial species name\n",
    "        species_binomial = ' '.join(re.split('\\s+', species)[0:2]).rstrip('.')\n",
    "        if species_binomial in list(df2write.species_binomial):\n",
    "            out_file.write(\">%s\\n\" % description)\n",
    "            out_file.write(\"%s\\n\" % sequence)\n",
    "            \n",
    "            res.append([name,description,sequence])\n",
    "df_homd = pd.DataFrame(res, columns=['Subject_SeqID','Subject_SeqDescription','Subject_Sequence'])\n",
    "df_homd.to_csv(\"fHOMD_text.csv\", index=False)\n",
    "df_homd.head()"
   ]
  },
  {
   "cell_type": "code",
   "execution_count": 41,
   "id": "cbc23332-0ff0-42b4-9a5b-7d852ca0cede",
   "metadata": {},
   "outputs": [
    {
     "data": {
      "text/plain": [
       "210"
      ]
     },
     "execution_count": 41,
     "metadata": {},
     "output_type": "execute_result"
    }
   ],
   "source": [
    "len(df_homd)"
   ]
  },
  {
   "cell_type": "code",
   "execution_count": null,
   "id": "1723f897-ace0-4119-ac04-c8966b5c1b30",
   "metadata": {},
   "outputs": [],
   "source": []
  }
 ],
 "metadata": {
  "kernelspec": {
   "display_name": "Python 3 (ipykernel)",
   "language": "python",
   "name": "python3"
  },
  "language_info": {
   "codemirror_mode": {
    "name": "ipython",
    "version": 3
   },
   "file_extension": ".py",
   "mimetype": "text/x-python",
   "name": "python",
   "nbconvert_exporter": "python",
   "pygments_lexer": "ipython3",
   "version": "3.9.9"
  }
 },
 "nbformat": 4,
 "nbformat_minor": 5
}
