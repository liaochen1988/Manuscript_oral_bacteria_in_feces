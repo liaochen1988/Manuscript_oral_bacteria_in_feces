{
 "cells": [
  {
   "cell_type": "code",
   "execution_count": 1,
   "id": "7288c8ba-4cba-409c-aa6f-f82a5f19589a",
   "metadata": {},
   "outputs": [],
   "source": [
    "import pandas as pd\n",
    "import numpy as np\n",
    "import os\n",
    "from Bio import SeqIO\n",
    "from Bio import Entrez\n",
    "Entrez.email = \"liaochen1988@gmail.com\""
   ]
  },
  {
   "cell_type": "markdown",
   "id": "8bcd6e88-9a00-4a2a-bb92-bc1548fde7e3",
   "metadata": {},
   "source": [
    "# Read supplementary table 3"
   ]
  },
  {
   "cell_type": "code",
   "execution_count": 7,
   "id": "7d261a1a-78cc-477b-ab6c-7babf7df055e",
   "metadata": {},
   "outputs": [
    {
     "name": "stdout",
     "output_type": "stream",
     "text": [
      "244 sequences found.\n"
     ]
    },
    {
     "data": {
      "text/html": [
       "<div>\n",
       "<style scoped>\n",
       "    .dataframe tbody tr th:only-of-type {\n",
       "        vertical-align: middle;\n",
       "    }\n",
       "\n",
       "    .dataframe tbody tr th {\n",
       "        vertical-align: top;\n",
       "    }\n",
       "\n",
       "    .dataframe thead th {\n",
       "        text-align: right;\n",
       "    }\n",
       "</style>\n",
       "<table border=\"1\" class=\"dataframe\">\n",
       "  <thead>\n",
       "    <tr style=\"text-align: right;\">\n",
       "      <th></th>\n",
       "      <th>TaxonID</th>\n",
       "      <th>StrainName</th>\n",
       "      <th>Accession</th>\n",
       "    </tr>\n",
       "  </thead>\n",
       "  <tbody>\n",
       "    <tr>\n",
       "      <th>0</th>\n",
       "      <td>Taxon_11</td>\n",
       "      <td>1XD42-8T</td>\n",
       "      <td>MK287634</td>\n",
       "    </tr>\n",
       "    <tr>\n",
       "      <th>1</th>\n",
       "      <td>Taxon_12</td>\n",
       "      <td>1X-D42-93T</td>\n",
       "      <td>MK287644</td>\n",
       "    </tr>\n",
       "    <tr>\n",
       "      <th>2</th>\n",
       "      <td>Taxon_13</td>\n",
       "      <td>28T</td>\n",
       "      <td>MK287655</td>\n",
       "    </tr>\n",
       "    <tr>\n",
       "      <th>3</th>\n",
       "      <td>Taxon_14</td>\n",
       "      <td>MGB-1T</td>\n",
       "      <td>MK287666</td>\n",
       "    </tr>\n",
       "    <tr>\n",
       "      <th>4</th>\n",
       "      <td>Taxon_15</td>\n",
       "      <td>1X-D21-19T</td>\n",
       "      <td>MK287676</td>\n",
       "    </tr>\n",
       "  </tbody>\n",
       "</table>\n",
       "</div>"
      ],
      "text/plain": [
       "    TaxonID  StrainName Accession\n",
       "0  Taxon_11    1XD42-8T  MK287634\n",
       "1  Taxon_12  1X-D42-93T  MK287644\n",
       "2  Taxon_13         28T  MK287655\n",
       "3  Taxon_14      MGB-1T  MK287666\n",
       "4  Taxon_15  1X-D21-19T  MK287676"
      ]
     },
     "execution_count": 7,
     "metadata": {},
     "output_type": "execute_result"
    }
   ],
   "source": [
    "df_supp3 = pd.read_excel(\"SuppData3.xlsx\")\n",
    "print(\"%d sequences found.\" % (len(df_supp3)))\n",
    "df_supp3.head()"
   ]
  },
  {
   "cell_type": "markdown",
   "id": "dfd70e7d-a90b-4ab8-9503-5a16a26dcb50",
   "metadata": {},
   "source": [
    "# Download sequences from NCBI and write to fasta"
   ]
  },
  {
   "cell_type": "code",
   "execution_count": 6,
   "id": "5f533f13-1893-42b4-9305-a62c37963e8c",
   "metadata": {},
   "outputs": [],
   "source": [
    "out_file = open(\"mGMB.fasta\", \"w\")\n",
    "for acc in df_supp3.Accession:\n",
    "    net_handle = Entrez.efetch(db=\"nucleotide\", id=acc, rettype=\"fasta\", retmode=\"text\")\n",
    "    record = net_handle.read()\n",
    "    record = record.split('\\n')[0]+'\\n'+('').join(record.split('\\n')[1:])\n",
    "    out_file.write(\"%s\\n\" % record)\n",
    "out_file.close()"
   ]
  },
  {
   "cell_type": "code",
   "execution_count": null,
   "id": "b7cf1b72-80be-4cd9-9e62-4a49b5233ca3",
   "metadata": {},
   "outputs": [],
   "source": []
  }
 ],
 "metadata": {
  "kernelspec": {
   "display_name": "Python 3",
   "language": "python",
   "name": "python3"
  },
  "language_info": {
   "codemirror_mode": {
    "name": "ipython",
    "version": 3
   },
   "file_extension": ".py",
   "mimetype": "text/x-python",
   "name": "python",
   "nbconvert_exporter": "python",
   "pygments_lexer": "ipython3",
   "version": "3.8.5"
  }
 },
 "nbformat": 4,
 "nbformat_minor": 5
}
