{
 "cells": [
  {
   "cell_type": "code",
   "execution_count": 1,
   "id": "38735290-691c-46f3-825c-6ea53dc002b7",
   "metadata": {},
   "outputs": [],
   "source": [
    "import pandas as pd\n",
    "import matplotlib.pyplot as plt\n",
    "import seaborn as sns\n",
    "import numpy as np\n",
    "from copy import deepcopy\n",
    "from collections import Counter\n",
    "from scipy.stats import pearsonr\n",
    "import subprocess\n",
    "from scipy.spatial.distance import braycurtis\n",
    "%matplotlib inline\n",
    "import time\n",
    "from Bio import Entrez\n",
    "Entrez.email = 'liaochen1988@gmail.com'\n",
    "from Bio import SeqIO"
   ]
  },
  {
   "cell_type": "markdown",
   "id": "4547a18c-99ac-4590-ba76-b3eecc385345",
   "metadata": {},
   "source": [
    "# Step 1: Find oral-typical ASVs in Theis et al. but not in MOMD"
   ]
  },
  {
   "cell_type": "markdown",
   "id": "f8247045-203c-474e-850e-63c6a75885b7",
   "metadata": {},
   "source": [
    "## Read metadata"
   ]
  },
  {
   "cell_type": "code",
   "execution_count": 2,
   "id": "ad4e31af-ef4b-421c-8792-455c7e1f8b87",
   "metadata": {},
   "outputs": [
    {
     "data": {
      "text/html": [
       "<div>\n",
       "<style scoped>\n",
       "    .dataframe tbody tr th:only-of-type {\n",
       "        vertical-align: middle;\n",
       "    }\n",
       "\n",
       "    .dataframe tbody tr th {\n",
       "        vertical-align: top;\n",
       "    }\n",
       "\n",
       "    .dataframe thead th {\n",
       "        text-align: right;\n",
       "    }\n",
       "</style>\n",
       "<table border=\"1\" class=\"dataframe\">\n",
       "  <thead>\n",
       "    <tr style=\"text-align: right;\">\n",
       "      <th></th>\n",
       "      <th>SampleName</th>\n",
       "      <th>BodySite</th>\n",
       "      <th>Mouse</th>\n",
       "    </tr>\n",
       "    <tr>\n",
       "      <th>SampleID</th>\n",
       "      <th></th>\n",
       "      <th></th>\n",
       "      <th></th>\n",
       "    </tr>\n",
       "  </thead>\n",
       "  <tbody>\n",
       "    <tr>\n",
       "      <th>SRR10664986</th>\n",
       "      <td>Maternal_Oral_M6</td>\n",
       "      <td>Oral</td>\n",
       "      <td>M6</td>\n",
       "    </tr>\n",
       "    <tr>\n",
       "      <th>SRR10664989</th>\n",
       "      <td>Maternal_Oral_M10</td>\n",
       "      <td>Oral</td>\n",
       "      <td>M10</td>\n",
       "    </tr>\n",
       "    <tr>\n",
       "      <th>SRR10665002</th>\n",
       "      <td>Maternal_Oral_M5</td>\n",
       "      <td>Oral</td>\n",
       "      <td>M5</td>\n",
       "    </tr>\n",
       "    <tr>\n",
       "      <th>SRR10665005</th>\n",
       "      <td>Maternal_Distal_Intestine_M12</td>\n",
       "      <td>Distal</td>\n",
       "      <td>M12</td>\n",
       "    </tr>\n",
       "    <tr>\n",
       "      <th>SRR10665009</th>\n",
       "      <td>Maternal_Distal_Intestine_M8</td>\n",
       "      <td>Distal</td>\n",
       "      <td>M8</td>\n",
       "    </tr>\n",
       "  </tbody>\n",
       "</table>\n",
       "</div>"
      ],
      "text/plain": [
       "                                SampleName BodySite Mouse\n",
       "SampleID                                                 \n",
       "SRR10664986               Maternal_Oral_M6     Oral    M6\n",
       "SRR10664989              Maternal_Oral_M10     Oral   M10\n",
       "SRR10665002               Maternal_Oral_M5     Oral    M5\n",
       "SRR10665005  Maternal_Distal_Intestine_M12   Distal   M12\n",
       "SRR10665009   Maternal_Distal_Intestine_M8   Distal    M8"
      ]
     },
     "execution_count": 2,
     "metadata": {},
     "output_type": "execute_result"
    }
   ],
   "source": [
    "df_meta = pd.read_csv('Theis_mSphere2020_qiime2_output/SraRunTable.txt')[['Run','source_material_ID']]\n",
    "df_meta.columns = ['SampleID','SampleName']\n",
    "df_meta = df_meta[df_meta.SampleName.str.contains('Maternal')]\n",
    "df_meta = df_meta[(df_meta.SampleName.str.contains('Oral')) | (df_meta.SampleName.str.contains('Intestine'))]\n",
    "df_meta['BodySite'] = [x.split('_')[1] for x in df_meta.SampleName]\n",
    "df_meta['Mouse'] = [x.split('_')[-1] for x in df_meta.SampleName]\n",
    "df_meta = df_meta.set_index('SampleID')\n",
    "df_meta = df_meta[df_meta.BodySite != 'Proximal']\n",
    "df_meta.head()"
   ]
  },
  {
   "cell_type": "markdown",
   "id": "5ddd409d-5923-40d5-bb84-994e914b7eca",
   "metadata": {},
   "source": [
    "## Read taxonomy data"
   ]
  },
  {
   "cell_type": "code",
   "execution_count": 3,
   "id": "f78c9b4e-3807-45e1-802e-da651060985f",
   "metadata": {},
   "outputs": [
    {
     "data": {
      "text/html": [
       "<div>\n",
       "<style scoped>\n",
       "    .dataframe tbody tr th:only-of-type {\n",
       "        vertical-align: middle;\n",
       "    }\n",
       "\n",
       "    .dataframe tbody tr th {\n",
       "        vertical-align: top;\n",
       "    }\n",
       "\n",
       "    .dataframe thead th {\n",
       "        text-align: right;\n",
       "    }\n",
       "</style>\n",
       "<table border=\"1\" class=\"dataframe\">\n",
       "  <thead>\n",
       "    <tr style=\"text-align: right;\">\n",
       "      <th></th>\n",
       "      <th>Feature ID</th>\n",
       "      <th>Taxon</th>\n",
       "      <th>Confidence</th>\n",
       "      <th>LowestTaxonomy</th>\n",
       "    </tr>\n",
       "  </thead>\n",
       "  <tbody>\n",
       "    <tr>\n",
       "      <th>0</th>\n",
       "      <td>ff2be076cf928bdf0eb0935b49878911</td>\n",
       "      <td>d__Bacteria; p__Firmicutes; c__Bacilli; o__Lac...</td>\n",
       "      <td>0.983031</td>\n",
       "      <td>s__Streptococcus_danieliae</td>\n",
       "    </tr>\n",
       "    <tr>\n",
       "      <th>1</th>\n",
       "      <td>95fdd816723ca482a5caba10bea171c8</td>\n",
       "      <td>d__Bacteria; p__Firmicutes; c__Bacilli; o__Lac...</td>\n",
       "      <td>0.999987</td>\n",
       "      <td>g__Lactobacillus</td>\n",
       "    </tr>\n",
       "    <tr>\n",
       "      <th>2</th>\n",
       "      <td>b4f3850fd3c56b21b6eb92fc8e4c7087</td>\n",
       "      <td>d__Bacteria; p__Proteobacteria; c__Gammaproteo...</td>\n",
       "      <td>0.843519</td>\n",
       "      <td>s__Muribacter_muris</td>\n",
       "    </tr>\n",
       "    <tr>\n",
       "      <th>3</th>\n",
       "      <td>f80166d86a7f15b69b6ac97505299c3a</td>\n",
       "      <td>d__Bacteria; p__Bacteroidota; c__Bacteroidia; ...</td>\n",
       "      <td>0.999823</td>\n",
       "      <td>g__Muribaculaceae</td>\n",
       "    </tr>\n",
       "    <tr>\n",
       "      <th>4</th>\n",
       "      <td>7f9b6e8f00d7dee79027e94f592ed7d7</td>\n",
       "      <td>d__Bacteria; p__Proteobacteria; c__Gammaproteo...</td>\n",
       "      <td>0.837048</td>\n",
       "      <td>g__Rodentibacter</td>\n",
       "    </tr>\n",
       "  </tbody>\n",
       "</table>\n",
       "</div>"
      ],
      "text/plain": [
       "                         Feature ID  \\\n",
       "0  ff2be076cf928bdf0eb0935b49878911   \n",
       "1  95fdd816723ca482a5caba10bea171c8   \n",
       "2  b4f3850fd3c56b21b6eb92fc8e4c7087   \n",
       "3  f80166d86a7f15b69b6ac97505299c3a   \n",
       "4  7f9b6e8f00d7dee79027e94f592ed7d7   \n",
       "\n",
       "                                               Taxon  Confidence  \\\n",
       "0  d__Bacteria; p__Firmicutes; c__Bacilli; o__Lac...    0.983031   \n",
       "1  d__Bacteria; p__Firmicutes; c__Bacilli; o__Lac...    0.999987   \n",
       "2  d__Bacteria; p__Proteobacteria; c__Gammaproteo...    0.843519   \n",
       "3  d__Bacteria; p__Bacteroidota; c__Bacteroidia; ...    0.999823   \n",
       "4  d__Bacteria; p__Proteobacteria; c__Gammaproteo...    0.837048   \n",
       "\n",
       "               LowestTaxonomy  \n",
       "0  s__Streptococcus_danieliae  \n",
       "1            g__Lactobacillus  \n",
       "2         s__Muribacter_muris  \n",
       "3           g__Muribaculaceae  \n",
       "4            g__Rodentibacter  "
      ]
     },
     "execution_count": 3,
     "metadata": {},
     "output_type": "execute_result"
    }
   ],
   "source": [
    "df_tax = pd.read_csv('Theis_mSphere2020_qiime2_output/taxonomy.tsv', sep=\"\\t\")\n",
    "df_tax = df_tax[df_tax.Taxon.str.contains('d__Bacteria')]\n",
    "df_tax = df_tax[~(df_tax.Taxon.str.contains('Chloroplast') | df_tax.Taxon.str.contains('Mitochondria'))]\n",
    "df_tax['LowestTaxonomy'] = [t.split(';')[-1].strip() for t in df_tax.Taxon]\n",
    "df_tax.head()"
   ]
  },
  {
   "cell_type": "markdown",
   "id": "51ba6e53-4867-4ce9-af68-65456cc6f5b4",
   "metadata": {},
   "source": [
    "## Read count data"
   ]
  },
  {
   "cell_type": "code",
   "execution_count": 4,
   "id": "b06400f1-9488-4a40-a77f-6e87a5924dde",
   "metadata": {},
   "outputs": [
    {
     "name": "stdout",
     "output_type": "stream",
     "text": [
      "minimum total count = 47032\n"
     ]
    },
    {
     "data": {
      "text/html": [
       "<div>\n",
       "<style scoped>\n",
       "    .dataframe tbody tr th:only-of-type {\n",
       "        vertical-align: middle;\n",
       "    }\n",
       "\n",
       "    .dataframe tbody tr th {\n",
       "        vertical-align: top;\n",
       "    }\n",
       "\n",
       "    .dataframe thead th {\n",
       "        text-align: right;\n",
       "    }\n",
       "</style>\n",
       "<table border=\"1\" class=\"dataframe\">\n",
       "  <thead>\n",
       "    <tr style=\"text-align: right;\">\n",
       "      <th>#OTU ID</th>\n",
       "      <th>ff2be076cf928bdf0eb0935b49878911</th>\n",
       "      <th>95fdd816723ca482a5caba10bea171c8</th>\n",
       "      <th>b4f3850fd3c56b21b6eb92fc8e4c7087</th>\n",
       "      <th>f80166d86a7f15b69b6ac97505299c3a</th>\n",
       "      <th>7f9b6e8f00d7dee79027e94f592ed7d7</th>\n",
       "      <th>e06e73c0550bfd3f63b73915855c10b6</th>\n",
       "      <th>d04b16de2b3bfa84754a4eafcfaec69a</th>\n",
       "      <th>499f1c879aa937fd84ec658999d69c43</th>\n",
       "      <th>4f983ab505c9e0936ecafdda621aead9</th>\n",
       "      <th>8e6f1849d93723676dff6cb1962941a8</th>\n",
       "      <th>...</th>\n",
       "      <th>57e004c428aa50fe1cc37bdc1d46079d</th>\n",
       "      <th>846eb3442b06d98d439a86b95886caea</th>\n",
       "      <th>f16ebdc0f55ee36421412ee28e794539</th>\n",
       "      <th>0c2d1909b9b17f119ed68d167dbf70c1</th>\n",
       "      <th>d1ec9052f7c3fe43ddd5c60db74e478f</th>\n",
       "      <th>2e82f0a6e000d1175398088dd18eec06</th>\n",
       "      <th>442f093e392d58dc3c0831d4ea5354fa</th>\n",
       "      <th>a6f36ae440733e414ff6dc7073f08970</th>\n",
       "      <th>6a488b59170dfe78137f884be500d984</th>\n",
       "      <th>e38bafa6321bd4ed4b15f934c3eb652c</th>\n",
       "    </tr>\n",
       "    <tr>\n",
       "      <th>SampleID</th>\n",
       "      <th></th>\n",
       "      <th></th>\n",
       "      <th></th>\n",
       "      <th></th>\n",
       "      <th></th>\n",
       "      <th></th>\n",
       "      <th></th>\n",
       "      <th></th>\n",
       "      <th></th>\n",
       "      <th></th>\n",
       "      <th></th>\n",
       "      <th></th>\n",
       "      <th></th>\n",
       "      <th></th>\n",
       "      <th></th>\n",
       "      <th></th>\n",
       "      <th></th>\n",
       "      <th></th>\n",
       "      <th></th>\n",
       "      <th></th>\n",
       "      <th></th>\n",
       "    </tr>\n",
       "  </thead>\n",
       "  <tbody>\n",
       "    <tr>\n",
       "      <th>SRR10664986</th>\n",
       "      <td>0.516117</td>\n",
       "      <td>0.074481</td>\n",
       "      <td>0.111137</td>\n",
       "      <td>0.008675</td>\n",
       "      <td>0.013948</td>\n",
       "      <td>0.095850</td>\n",
       "      <td>0.002637</td>\n",
       "      <td>0.000489</td>\n",
       "      <td>0.000319</td>\n",
       "      <td>0.000000</td>\n",
       "      <td>...</td>\n",
       "      <td>0.0</td>\n",
       "      <td>0.0</td>\n",
       "      <td>0.0</td>\n",
       "      <td>0.0</td>\n",
       "      <td>0.0</td>\n",
       "      <td>0.0</td>\n",
       "      <td>0.0</td>\n",
       "      <td>0.0</td>\n",
       "      <td>0.0</td>\n",
       "      <td>0.0</td>\n",
       "    </tr>\n",
       "    <tr>\n",
       "      <th>SRR10664989</th>\n",
       "      <td>0.428259</td>\n",
       "      <td>0.078081</td>\n",
       "      <td>0.053979</td>\n",
       "      <td>0.040268</td>\n",
       "      <td>0.015380</td>\n",
       "      <td>0.121390</td>\n",
       "      <td>0.016713</td>\n",
       "      <td>0.039721</td>\n",
       "      <td>0.006687</td>\n",
       "      <td>0.012085</td>\n",
       "      <td>...</td>\n",
       "      <td>0.0</td>\n",
       "      <td>0.0</td>\n",
       "      <td>0.0</td>\n",
       "      <td>0.0</td>\n",
       "      <td>0.0</td>\n",
       "      <td>0.0</td>\n",
       "      <td>0.0</td>\n",
       "      <td>0.0</td>\n",
       "      <td>0.0</td>\n",
       "      <td>0.0</td>\n",
       "    </tr>\n",
       "    <tr>\n",
       "      <th>SRR10665002</th>\n",
       "      <td>0.542537</td>\n",
       "      <td>0.012532</td>\n",
       "      <td>0.000000</td>\n",
       "      <td>0.000000</td>\n",
       "      <td>0.344050</td>\n",
       "      <td>0.083909</td>\n",
       "      <td>0.000021</td>\n",
       "      <td>0.000000</td>\n",
       "      <td>0.000000</td>\n",
       "      <td>0.000000</td>\n",
       "      <td>...</td>\n",
       "      <td>0.0</td>\n",
       "      <td>0.0</td>\n",
       "      <td>0.0</td>\n",
       "      <td>0.0</td>\n",
       "      <td>0.0</td>\n",
       "      <td>0.0</td>\n",
       "      <td>0.0</td>\n",
       "      <td>0.0</td>\n",
       "      <td>0.0</td>\n",
       "      <td>0.0</td>\n",
       "    </tr>\n",
       "    <tr>\n",
       "      <th>SRR10665005</th>\n",
       "      <td>0.000217</td>\n",
       "      <td>0.018508</td>\n",
       "      <td>0.000024</td>\n",
       "      <td>0.097249</td>\n",
       "      <td>0.000000</td>\n",
       "      <td>0.000000</td>\n",
       "      <td>0.066832</td>\n",
       "      <td>0.008965</td>\n",
       "      <td>0.047458</td>\n",
       "      <td>0.028837</td>\n",
       "      <td>...</td>\n",
       "      <td>0.0</td>\n",
       "      <td>0.0</td>\n",
       "      <td>0.0</td>\n",
       "      <td>0.0</td>\n",
       "      <td>0.0</td>\n",
       "      <td>0.0</td>\n",
       "      <td>0.0</td>\n",
       "      <td>0.0</td>\n",
       "      <td>0.0</td>\n",
       "      <td>0.0</td>\n",
       "    </tr>\n",
       "    <tr>\n",
       "      <th>SRR10665009</th>\n",
       "      <td>0.000107</td>\n",
       "      <td>0.002261</td>\n",
       "      <td>0.000000</td>\n",
       "      <td>0.048887</td>\n",
       "      <td>0.000000</td>\n",
       "      <td>0.000000</td>\n",
       "      <td>0.035693</td>\n",
       "      <td>0.035645</td>\n",
       "      <td>0.021404</td>\n",
       "      <td>0.057251</td>\n",
       "      <td>...</td>\n",
       "      <td>0.0</td>\n",
       "      <td>0.0</td>\n",
       "      <td>0.0</td>\n",
       "      <td>0.0</td>\n",
       "      <td>0.0</td>\n",
       "      <td>0.0</td>\n",
       "      <td>0.0</td>\n",
       "      <td>0.0</td>\n",
       "      <td>0.0</td>\n",
       "      <td>0.0</td>\n",
       "    </tr>\n",
       "  </tbody>\n",
       "</table>\n",
       "<p>5 rows × 673 columns</p>\n",
       "</div>"
      ],
      "text/plain": [
       "#OTU ID      ff2be076cf928bdf0eb0935b49878911  \\\n",
       "SampleID                                        \n",
       "SRR10664986                          0.516117   \n",
       "SRR10664989                          0.428259   \n",
       "SRR10665002                          0.542537   \n",
       "SRR10665005                          0.000217   \n",
       "SRR10665009                          0.000107   \n",
       "\n",
       "#OTU ID      95fdd816723ca482a5caba10bea171c8  \\\n",
       "SampleID                                        \n",
       "SRR10664986                          0.074481   \n",
       "SRR10664989                          0.078081   \n",
       "SRR10665002                          0.012532   \n",
       "SRR10665005                          0.018508   \n",
       "SRR10665009                          0.002261   \n",
       "\n",
       "#OTU ID      b4f3850fd3c56b21b6eb92fc8e4c7087  \\\n",
       "SampleID                                        \n",
       "SRR10664986                          0.111137   \n",
       "SRR10664989                          0.053979   \n",
       "SRR10665002                          0.000000   \n",
       "SRR10665005                          0.000024   \n",
       "SRR10665009                          0.000000   \n",
       "\n",
       "#OTU ID      f80166d86a7f15b69b6ac97505299c3a  \\\n",
       "SampleID                                        \n",
       "SRR10664986                          0.008675   \n",
       "SRR10664989                          0.040268   \n",
       "SRR10665002                          0.000000   \n",
       "SRR10665005                          0.097249   \n",
       "SRR10665009                          0.048887   \n",
       "\n",
       "#OTU ID      7f9b6e8f00d7dee79027e94f592ed7d7  \\\n",
       "SampleID                                        \n",
       "SRR10664986                          0.013948   \n",
       "SRR10664989                          0.015380   \n",
       "SRR10665002                          0.344050   \n",
       "SRR10665005                          0.000000   \n",
       "SRR10665009                          0.000000   \n",
       "\n",
       "#OTU ID      e06e73c0550bfd3f63b73915855c10b6  \\\n",
       "SampleID                                        \n",
       "SRR10664986                          0.095850   \n",
       "SRR10664989                          0.121390   \n",
       "SRR10665002                          0.083909   \n",
       "SRR10665005                          0.000000   \n",
       "SRR10665009                          0.000000   \n",
       "\n",
       "#OTU ID      d04b16de2b3bfa84754a4eafcfaec69a  \\\n",
       "SampleID                                        \n",
       "SRR10664986                          0.002637   \n",
       "SRR10664989                          0.016713   \n",
       "SRR10665002                          0.000021   \n",
       "SRR10665005                          0.066832   \n",
       "SRR10665009                          0.035693   \n",
       "\n",
       "#OTU ID      499f1c879aa937fd84ec658999d69c43  \\\n",
       "SampleID                                        \n",
       "SRR10664986                          0.000489   \n",
       "SRR10664989                          0.039721   \n",
       "SRR10665002                          0.000000   \n",
       "SRR10665005                          0.008965   \n",
       "SRR10665009                          0.035645   \n",
       "\n",
       "#OTU ID      4f983ab505c9e0936ecafdda621aead9  \\\n",
       "SampleID                                        \n",
       "SRR10664986                          0.000319   \n",
       "SRR10664989                          0.006687   \n",
       "SRR10665002                          0.000000   \n",
       "SRR10665005                          0.047458   \n",
       "SRR10665009                          0.021404   \n",
       "\n",
       "#OTU ID      8e6f1849d93723676dff6cb1962941a8  ...  \\\n",
       "SampleID                                       ...   \n",
       "SRR10664986                          0.000000  ...   \n",
       "SRR10664989                          0.012085  ...   \n",
       "SRR10665002                          0.000000  ...   \n",
       "SRR10665005                          0.028837  ...   \n",
       "SRR10665009                          0.057251  ...   \n",
       "\n",
       "#OTU ID      57e004c428aa50fe1cc37bdc1d46079d  \\\n",
       "SampleID                                        \n",
       "SRR10664986                               0.0   \n",
       "SRR10664989                               0.0   \n",
       "SRR10665002                               0.0   \n",
       "SRR10665005                               0.0   \n",
       "SRR10665009                               0.0   \n",
       "\n",
       "#OTU ID      846eb3442b06d98d439a86b95886caea  \\\n",
       "SampleID                                        \n",
       "SRR10664986                               0.0   \n",
       "SRR10664989                               0.0   \n",
       "SRR10665002                               0.0   \n",
       "SRR10665005                               0.0   \n",
       "SRR10665009                               0.0   \n",
       "\n",
       "#OTU ID      f16ebdc0f55ee36421412ee28e794539  \\\n",
       "SampleID                                        \n",
       "SRR10664986                               0.0   \n",
       "SRR10664989                               0.0   \n",
       "SRR10665002                               0.0   \n",
       "SRR10665005                               0.0   \n",
       "SRR10665009                               0.0   \n",
       "\n",
       "#OTU ID      0c2d1909b9b17f119ed68d167dbf70c1  \\\n",
       "SampleID                                        \n",
       "SRR10664986                               0.0   \n",
       "SRR10664989                               0.0   \n",
       "SRR10665002                               0.0   \n",
       "SRR10665005                               0.0   \n",
       "SRR10665009                               0.0   \n",
       "\n",
       "#OTU ID      d1ec9052f7c3fe43ddd5c60db74e478f  \\\n",
       "SampleID                                        \n",
       "SRR10664986                               0.0   \n",
       "SRR10664989                               0.0   \n",
       "SRR10665002                               0.0   \n",
       "SRR10665005                               0.0   \n",
       "SRR10665009                               0.0   \n",
       "\n",
       "#OTU ID      2e82f0a6e000d1175398088dd18eec06  \\\n",
       "SampleID                                        \n",
       "SRR10664986                               0.0   \n",
       "SRR10664989                               0.0   \n",
       "SRR10665002                               0.0   \n",
       "SRR10665005                               0.0   \n",
       "SRR10665009                               0.0   \n",
       "\n",
       "#OTU ID      442f093e392d58dc3c0831d4ea5354fa  \\\n",
       "SampleID                                        \n",
       "SRR10664986                               0.0   \n",
       "SRR10664989                               0.0   \n",
       "SRR10665002                               0.0   \n",
       "SRR10665005                               0.0   \n",
       "SRR10665009                               0.0   \n",
       "\n",
       "#OTU ID      a6f36ae440733e414ff6dc7073f08970  \\\n",
       "SampleID                                        \n",
       "SRR10664986                               0.0   \n",
       "SRR10664989                               0.0   \n",
       "SRR10665002                               0.0   \n",
       "SRR10665005                               0.0   \n",
       "SRR10665009                               0.0   \n",
       "\n",
       "#OTU ID      6a488b59170dfe78137f884be500d984  \\\n",
       "SampleID                                        \n",
       "SRR10664986                               0.0   \n",
       "SRR10664989                               0.0   \n",
       "SRR10665002                               0.0   \n",
       "SRR10665005                               0.0   \n",
       "SRR10665009                               0.0   \n",
       "\n",
       "#OTU ID      e38bafa6321bd4ed4b15f934c3eb652c  \n",
       "SampleID                                       \n",
       "SRR10664986                               0.0  \n",
       "SRR10664989                               0.0  \n",
       "SRR10665002                               0.0  \n",
       "SRR10665005                               0.0  \n",
       "SRR10665009                               0.0  \n",
       "\n",
       "[5 rows x 673 columns]"
      ]
     },
     "execution_count": 4,
     "metadata": {},
     "output_type": "execute_result"
    }
   ],
   "source": [
    "df_count = pd.read_csv('Theis_mSphere2020_qiime2_output/feature-table/feature-table.from_biom.txt', sep=\"\\t\", skiprows=[0], index_col=0)\n",
    "df_count = df_count.loc[df_tax['Feature ID']].T\n",
    "df_count = df_count.loc[df_meta.index]\n",
    "df_count = df_count.loc[:, (df_count != 0).any(axis=0)]\n",
    "print(\"minimum total count = %d\" % df_count.sum(axis=1).min())\n",
    "df_relabun = df_count.div(df_count.sum(axis=1), axis=0)\n",
    "df_relabun.head()"
   ]
  },
  {
   "cell_type": "markdown",
   "id": "faaade9e-8875-4fe2-8eee-cb8e0ce3e643",
   "metadata": {},
   "source": [
    "## Find oral-typical ASVs"
   ]
  },
  {
   "cell_type": "code",
   "execution_count": 5,
   "id": "296f756f-1c44-42e7-b372-bcb08b310263",
   "metadata": {
    "tags": []
   },
   "outputs": [
    {
     "data": {
      "image/png": "[encoded data removed]",
      "text/plain": [
       "<Figure size 432x360 with 1 Axes>"
      ]
     },
     "metadata": {
      "needs_background": "light"
     },
     "output_type": "display_data"
    }
   ],
   "source": [
    "# find mean relative abundance of ASVs in oral and gut samples\n",
    "df_relabun_mean_gut = df_relabun.loc[df_meta[df_meta.BodySite=='Distal'].index].mean(axis=0).to_frame().rename({0:'Distal'}, axis=1)\n",
    "df_relabun_mean_oral = df_relabun.loc[df_meta[df_meta.BodySite=='Oral'].index].mean(axis=0).to_frame().rename({0:'Oral'}, axis=1)\n",
    "#df_relabun_mean_oral = df_relabun_mean_oral[df_relabun_mean_oral.Oral>0] # keep only ASVs present in oral cavity\n",
    "df_relabun_mean = pd.merge(df_relabun_mean_oral, df_relabun_mean_gut, left_index=True, right_index=True, how='left').fillna(0)\n",
    "\n",
    "# read hits to MOMD database\n",
    "df_blast_MOMD = pd.read_csv(\"Theis_mSphere2020_qiime2_output/asv-sequences/blast_MOMD/blast_MOMD_p100.txt\", sep=\"\\t\", comment=\"#\", header=None)\n",
    "df_blast_MOMD.columns = ['query_accver', 'subject_accver', 'perc_identity', 'alignment_length', 'mismatches', 'gap_opens', 'qstart', 'qend', 'sstart', 'send', 'evalue', 'bitscore']\n",
    "df_relabun_mean['Group'] = 'no_hit'\n",
    "df_relabun_mean.loc[set(df_relabun_mean.index).intersection(set(df_blast_MOMD.query_accver)), 'Group'] = 'hit'\n",
    "df_relabun_mean.loc[df_relabun_mean.Distal==0, 'Distal'] = 1e-7\n",
    "df_relabun_mean.loc[df_relabun_mean.Oral==0, 'Oral'] = 1e-7\n",
    "\n",
    "# plot\n",
    "fig, ax = plt.subplots(figsize=(6,5), sharey=True)\n",
    "_ = sns.scatterplot(x=\"Oral\", y=\"Distal\", data=df_relabun_mean, hue='Group', ax=ax, palette='binary_r', s=100)\n",
    "_ = ax.plot([1e-8, 1e0],[1e-4,1e-4],'k--')\n",
    "_ = ax.set_xlim([1e-8,1e0])\n",
    "_ = ax.plot([1e-4,1e-4], [5e-8, 1e0], 'k--')\n",
    "_ = ax.set_ylim([5e-8,0.2])\n",
    "_ = ax.set_yscale('log')\n",
    "_ = ax.set_xscale('log')\n",
    "_ = ax.set_xlabel('Mean relative abundance within oral samples')\n",
    "_ = ax.set_ylabel('Mean relative abundance within gut samples')\n",
    "\n",
    "plt.tight_layout()\n",
    "plt.rcParams['svg.fonttype'] = 'none'\n",
    "fig.savefig(\"oral_typical_Theis_et_al_MOMD_hit.svg\", dpi=600, bbox_inches='tight')"
   ]
  },
  {
   "cell_type": "code",
   "execution_count": 6,
   "id": "8b3ec770-8010-49e7-9704-e5bd9f38f5db",
   "metadata": {},
   "outputs": [
    {
     "data": {
      "text/plain": [
       "17"
      ]
     },
     "execution_count": 6,
     "metadata": {},
     "output_type": "execute_result"
    }
   ],
   "source": [
    "len(df_relabun_mean[(df_relabun_mean.Oral>1e-4) & (df_relabun_mean.Distal<=1e-4)])"
   ]
  },
  {
   "cell_type": "code",
   "execution_count": 7,
   "id": "98dc761b-e5d6-452e-85aa-fbf1765c7dcf",
   "metadata": {},
   "outputs": [
    {
     "data": {
      "text/plain": [
       "5"
      ]
     },
     "execution_count": 7,
     "metadata": {},
     "output_type": "execute_result"
    }
   ],
   "source": [
    "len(df_relabun_mean[(df_relabun_mean.Oral>1e-4) & (df_relabun_mean.Distal<=1e-4) & (df_relabun_mean.Group=='hit')])"
   ]
  },
  {
   "cell_type": "markdown",
   "id": "aadd8244-15ae-440d-87e8-8063b608faa6",
   "metadata": {},
   "source": [
    "## Create fasta files of oral-typical sequences that have no fits in MOMD"
   ]
  },
  {
   "cell_type": "code",
   "execution_count": 8,
   "id": "08ff2eb6-4693-464c-a4b4-86c9f1b51aee",
   "metadata": {},
   "outputs": [
    {
     "name": "stdout",
     "output_type": "stream",
     "text": [
      "17 oral typical bacteria found.\n",
      "17 MOMD seqs are matched to oral-typical bacteria\n",
      "12 oral typical bacteria do not have MOMD hits\n"
     ]
    }
   ],
   "source": [
    "df_oral_typical = df_relabun_mean[(df_relabun_mean.Distal<=1e-4) & (df_relabun_mean.Oral>1e-4)] # note 1e-4 was used as the cutoff\n",
    "oral_typical_bacteria = list(df_oral_typical.index)\n",
    "oral_typical_bacteria_w_MOMD_hits = set(df_blast_MOMD[df_blast_MOMD.query_accver.isin(df_oral_typical.index)].subject_accver)\n",
    "df_oral_typical_no_hit = df_oral_typical[df_oral_typical.Group == 'no_hit']\n",
    "\n",
    "print(\"%d oral typical bacteria found.\" % (len(oral_typical_bacteria)))\n",
    "print(\"%d MOMD seqs are matched to oral-typical bacteria\" % (len(set(oral_typical_bacteria_w_MOMD_hits))))\n",
    "print(\"%d oral typical bacteria do not have MOMD hits\" % (len(df_oral_typical_no_hit)))"
   ]
  },
  {
   "cell_type": "code",
   "execution_count": 9,
   "id": "82964597-4224-4ba2-abab-fb02af7c43b9",
   "metadata": {},
   "outputs": [],
   "source": [
    "fasta_sequences = SeqIO.parse(open(\"Theis_mSphere2020_qiime2_output/asv-sequences/dna-sequences.fasta\"),'fasta')\n",
    "seq_length_dict = {}\n",
    "with open(\"oral_typical_bacteria_wo_hits.fasta\", \"w\") as out_file:\n",
    "    for fasta in fasta_sequences:\n",
    "        name, description, sequence = fasta.id, fasta.description, str(fasta.seq)\n",
    "        if name in list(df_oral_typical_no_hit.index):\n",
    "            out_file.write(\">%s\\n%s\\n\"%(name, sequence))\n",
    "            seq_length_dict[name] = len(sequence)"
   ]
  },
  {
   "cell_type": "markdown",
   "id": "e9712b03-534d-4354-9331-dcd78a354aa6",
   "metadata": {},
   "source": [
    "## Read blast results"
   ]
  },
  {
   "cell_type": "code",
   "execution_count": 10,
   "id": "79d2d9d3-a57e-4707-95f3-a9858186b2b2",
   "metadata": {},
   "outputs": [
    {
     "name": "stdout",
     "output_type": "stream",
     "text": [
      "number of ASVs with exact matches = 6, out of 12\n"
     ]
    }
   ],
   "source": [
    "df_blast_nt = pd.read_csv(\"EE4PTCP401R-Alignment.txt\", sep=\"\\t\", comment=\"#\", header=None)\n",
    "df_blast_nt.columns = ['query_accver', 'subject_accver', 'perc_identity', 'alignment_length', 'mismatches', 'gap_opens', 'qstart', 'qend', 'sstart', 'send', 'evalue', 'bitscore']\n",
    "df_blast_nt = df_blast_nt[df_blast_nt.query_accver.isin(seq_length_dict.keys())]\n",
    "indices_to_keep = []\n",
    "for k,v in seq_length_dict.items():\n",
    "    curr_df = df_blast_nt[df_blast_nt.query_accver==k]\n",
    "    curr_df = curr_df[(curr_df.perc_identity==100) & (curr_df.alignment_length==v) & (curr_df.gap_opens==0) & (curr_df.mismatches==0) & (curr_df.sstart < 2000)] # full length alignment\n",
    "    if len(curr_df)>0:\n",
    "        indices_to_keep.extend(list(curr_df.index))\n",
    "df_blast_nt_filtered = df_blast_nt.loc[indices_to_keep]\n",
    "print(\"number of ASVs with exact matches = %d, out of %d\" %(len(set(df_blast_nt_filtered.query_accver)), len(seq_length_dict.keys())))"
   ]
  },
  {
   "cell_type": "markdown",
   "id": "ca00f537-bf9a-4f03-b6c1-d66d16fba857",
   "metadata": {},
   "source": [
    "## Retrieve isolation sources and host information"
   ]
  },
  {
   "cell_type": "code",
   "execution_count": 11,
   "id": "b36afb44-9e49-4620-a71f-b17b9e091a74",
   "metadata": {},
   "outputs": [
    {
     "name": "stdout",
     "output_type": "stream",
     "text": [
      "0\n"
     ]
    },
    {
     "name": "stderr",
     "output_type": "stream",
     "text": [
      "\n",
      "KeyboardInterrupt\n",
      "\n"
     ]
    }
   ],
   "source": [
    "nt_iso_source = []\n",
    "for k,acc in enumerate(df_blast_nt_filtered.subject_accver):\n",
    "    if k % 100 == 0:\n",
    "        print(k)\n",
    "    query_okay=False\n",
    "    fail_times = 0\n",
    "    while(not query_okay):\n",
    "        try:\n",
    "            handle = Entrez.efetch(db=\"nuccore\",id=acc,retmode=\"text\", rettype=\"gb\")\n",
    "            isolation_source = \"\"\n",
    "            host=\"\"\n",
    "            for line in handle:\n",
    "                if 'host' in line:\n",
    "                    host = line.split(\"\\\"\")[-2]\n",
    "                if 'isolation_source' in line:\n",
    "                    isolation_source = line.split(\"\\\"\")[-2]\n",
    "            query_okay=True\n",
    "        except:\n",
    "            time.sleep(3)\n",
    "            fail_times += 1\n",
    "            \n",
    "            if fail_times == 10:\n",
    "                break\n",
    "    \n",
    "    #print(acc, ',', isolation_source, ',', host)\n",
    "    nt_iso_source.append([acc, isolation_source, host])\n",
    "df_nt_iso_source = pd.DataFrame(nt_iso_source, columns=['subject_accver', 'isolation_source', 'host'])\n",
    "df_blast_nt_filtered_w_source = pd.merge(df_blast_nt_filtered, df_nt_iso_source, left_on='subject_accver', right_on='subject_accver', how='left').fillna('')\n",
    "df_blast_nt_filtered_w_source.to_csv(\"nt_hits_w_source_host.csv\", index=False)\n",
    "df_blast_nt_filtered_w_source.head()"
   ]
  },
  {
   "cell_type": "markdown",
   "id": "74adc89f-a63f-4fe1-956d-5abbb73bb86a",
   "metadata": {},
   "source": [
    "## download NT sequences that have host \"mouse\""
   ]
  },
  {
   "cell_type": "code",
   "execution_count": 12,
   "id": "63c27738-5104-4204-bf50-d6bfea466c2f",
   "metadata": {},
   "outputs": [
    {
     "name": "stderr",
     "output_type": "stream",
     "text": [
      "/var/folders/zg/9bd_wdgn3qg8kl1z973r48mjxx5dnb/T/ipykernel_60168/2556755435.py:9: SettingWithCopyWarning: \n",
      "A value is trying to be set on a copy of a slice from a DataFrame.\n",
      "Try using .loc[row_indexer,col_indexer] = value instead\n",
      "\n",
      "See the caveats in the documentation: https://pandas.pydata.org/pandas-docs/stable/user_guide/indexing.html#returning-a-view-versus-a-copy\n",
      "  df_blast_nt_filtered_in_mouse['record'] = records\n"
     ]
    }
   ],
   "source": [
    "df_blast_nt_filtered_w_source = pd.read_csv(\"nt_hits_w_source_host.csv\")\n",
    "df_blast_nt_filtered_in_mouse = df_blast_nt_filtered_w_source[df_blast_nt_filtered_w_source.host.notnull() &df_blast_nt_filtered_w_source.host.str.contains('mouse|Mus musculus')]\n",
    "records = []\n",
    "for seq_id in df_blast_nt_filtered_in_mouse.subject_accver:\n",
    "    handle = Entrez.efetch(db=\"nucleotide\", id=seq_id, rettype=\"fasta\", retmode=\"text\")\n",
    "    record = handle.read()\n",
    "    record = record.split('\\n')[0]+'\\n'+('').join(record.split('\\n')[1:])\n",
    "    records.append(record)\n",
    "df_blast_nt_filtered_in_mouse['record'] = records"
   ]
  },
  {
   "cell_type": "code",
   "execution_count": 13,
   "id": "04dc6c79-32f1-4747-9c4b-aca105818b61",
   "metadata": {},
   "outputs": [
    {
     "data": {
      "text/plain": [
       "5"
      ]
     },
     "execution_count": 13,
     "metadata": {},
     "output_type": "execute_result"
    }
   ],
   "source": [
    "len(set(df_blast_nt_filtered_in_mouse.query_accver))"
   ]
  },
  {
   "cell_type": "code",
   "execution_count": 14,
   "id": "46103cff-6c71-49f3-bcf7-05da4c19cc2f",
   "metadata": {},
   "outputs": [
    {
     "data": {
      "text/plain": [
       "29"
      ]
     },
     "execution_count": 14,
     "metadata": {},
     "output_type": "execute_result"
    }
   ],
   "source": [
    "len(df_blast_nt_filtered_in_mouse)"
   ]
  },
  {
   "cell_type": "markdown",
   "id": "14f3fa71-5e88-447d-bb96-97af5c0568c0",
   "metadata": {},
   "source": [
    "# Step 2: Find MOMD sequences that match gut bacterial isolates from mGMB, miBC"
   ]
  },
  {
   "cell_type": "code",
   "execution_count": 16,
   "id": "ed8395cd-8042-42ec-a298-ff7c9a16b8c2",
   "metadata": {},
   "outputs": [
    {
     "name": "stdout",
     "output_type": "stream",
     "text": [
      "number of seqs matched to mGMB and miBC = 38\n",
      "['003_001', '029_002', '097_001', '072_001', '011_002', '059_001', '020_003', '017_001', '051_001', '021_008', '020_004', '099_001', '021_006', '007_001', '016_001', '073_001', '011_004', '035_002', '020_005', '010_001', '020_002', '006_001', '029_001', '035_001', '035_003', '011_001', '071_001', '011_005', '020_006', '035_004', '077_001', '021_001', '036_001', '052_001', '035_005', '023_001', '011_003', '079_001', '020_001', '021_002', '021_007', '021_005', '021_003', '021_004', '011_006']\n",
      "# matched taxa = 45\n"
     ]
    }
   ],
   "source": [
    "# read reciprocal results\n",
    "df_blast_fwd = pd.read_csv(\"../../databases/MOMD/blast_MOMD_vs_mGMB_miBC/blast_MOMD_as_query_99.txt\", sep=\"\\t\", comment=\"#\", header=None)\n",
    "df_blast_fwd.columns = ['query_accver', 'subject_accver', 'perc_identity', 'alignment_length', 'mismatches', 'gap_opens', 'qstart', 'qend', 'sstart', 'send', 'evalue', 'bitscore']\n",
    "matched_taxa_fwd = list(df_blast_fwd.query_accver)\n",
    "\n",
    "df_blast_rvs = pd.read_csv(\"../../databases/MOMD/blast_MOMD_vs_mGMB_miBC/blast_MOMD_as_subject_99.txt\", sep=\"\\t\", comment=\"#\", header=None)\n",
    "df_blast_rvs.columns = ['query_accver', 'subject_accver', 'perc_identity', 'alignment_length', 'mismatches', 'gap_opens', 'qstart', 'qend', 'sstart', 'send', 'evalue', 'bitscore']\n",
    "matched_taxa_rvs = list(df_blast_rvs.subject_accver)\n",
    "\n",
    "matched_taxa_total = list(set(matched_taxa_fwd+matched_taxa_rvs))\n",
    "print(\"number of seqs matched to mGMB and miBC = %d\" % (len(matched_taxa_total)))\n",
    "\n",
    "# if more than 3 genomes of the same MOMD taxon are found in the joint database of mGMB and miBC, then remove all other genomes\n",
    "matched_taxa_counts = {}\n",
    "for sid in matched_taxa_total:\n",
    "    if sid.split('_')[0] in matched_taxa_counts.keys():\n",
    "        matched_taxa_counts[sid.split('_')[0]] += 1\n",
    "    else:\n",
    "        matched_taxa_counts[sid.split('_')[0]] = 1\n",
    "matched_taxa_counts_leq_3 = [k for k,v in matched_taxa_counts.items() if v>=3]\n",
    "\n",
    "fasta_sequences = SeqIO.parse(open(\"../../databases/MOMD/MOMD.fasta\"),'fasta')\n",
    "for fasta in fasta_sequences:\n",
    "    if fasta.id.split('_')[0] in matched_taxa_counts_leq_3 and fasta.id not in matched_taxa_total:\n",
    "        matched_taxa_total.append(fasta.id)\n",
    "\n",
    "print(matched_taxa_total)\n",
    "print(\"# matched taxa = %d\" % (len(matched_taxa_total)))"
   ]
  },
  {
   "cell_type": "markdown",
   "id": "48ffc9d5-3ea7-4a10-8ddb-e6ba2c4527db",
   "metadata": {},
   "source": [
    "# Step 3: Construct filtered MOMD database (Redundant)"
   ]
  },
  {
   "cell_type": "code",
   "execution_count": 20,
   "id": "7852347e-84ea-48f5-92e2-ea5f32957b85",
   "metadata": {},
   "outputs": [
    {
     "data": {
      "text/html": [
       "<div>\n",
       "<style scoped>\n",
       "    .dataframe tbody tr th:only-of-type {\n",
       "        vertical-align: middle;\n",
       "    }\n",
       "\n",
       "    .dataframe tbody tr th {\n",
       "        vertical-align: top;\n",
       "    }\n",
       "\n",
       "    .dataframe thead th {\n",
       "        text-align: right;\n",
       "    }\n",
       "</style>\n",
       "<table border=\"1\" class=\"dataframe\">\n",
       "  <thead>\n",
       "    <tr style=\"text-align: right;\">\n",
       "      <th></th>\n",
       "      <th>ID</th>\n",
       "      <th>Description</th>\n",
       "      <th>Taxon</th>\n",
       "      <th>Sequence</th>\n",
       "      <th>Source</th>\n",
       "      <th>Genus</th>\n",
       "    </tr>\n",
       "  </thead>\n",
       "  <tbody>\n",
       "    <tr>\n",
       "      <th>0</th>\n",
       "      <td>KP278091.1</td>\n",
       "      <td>KP278091.1 [Actinobacillus] muris strain 20140...</td>\n",
       "      <td>[Actinobacillus] muris</td>\n",
       "      <td>GCTANANATGCAGTCGACGGTACAGGAAGGAAGCTTGCTTTCTTTG...</td>\n",
       "      <td>NCBI NT</td>\n",
       "      <td>Actinobacillus</td>\n",
       "    </tr>\n",
       "    <tr>\n",
       "      <th>1</th>\n",
       "      <td>KP278086.1</td>\n",
       "      <td>KP278086.1 [Actinobacillus] muris strain 20131...</td>\n",
       "      <td>[Actinobacillus] muris</td>\n",
       "      <td>GCTANNATGCAGTCGACGGTAACAGGAAGGAAGCTTGCTTTCTTTG...</td>\n",
       "      <td>NCBI NT</td>\n",
       "      <td>Actinobacillus</td>\n",
       "    </tr>\n",
       "    <tr>\n",
       "      <th>2</th>\n",
       "      <td>KP278084.1</td>\n",
       "      <td>KP278084.1 [Actinobacillus] muris strain 20134...</td>\n",
       "      <td>[Actinobacillus] muris</td>\n",
       "      <td>GTAACAGGAAGGAAGCTTGCTTTCTTTGCTGACGAGTGGCGGACGG...</td>\n",
       "      <td>NCBI NT</td>\n",
       "      <td>Actinobacillus</td>\n",
       "    </tr>\n",
       "    <tr>\n",
       "      <th>3</th>\n",
       "      <td>KP278083.1</td>\n",
       "      <td>KP278083.1 [Actinobacillus] muris strain 20137...</td>\n",
       "      <td>[Actinobacillus] muris</td>\n",
       "      <td>TANANATGCAGTCGACGGTAACAGGAAGGAAGCTTGCTTTCTTTGC...</td>\n",
       "      <td>NCBI NT</td>\n",
       "      <td>Actinobacillus</td>\n",
       "    </tr>\n",
       "    <tr>\n",
       "      <th>4</th>\n",
       "      <td>GU809187.1</td>\n",
       "      <td>GU809187.1 Pasteurella pneumotropica strain CR...</td>\n",
       "      <td>Pasteurella pneumotropica</td>\n",
       "      <td>TGACGAGTGGCGGACGGGTGAGTAATGCTTGGGAATCTGGCTTATG...</td>\n",
       "      <td>NCBI NT</td>\n",
       "      <td>Pasteurella</td>\n",
       "    </tr>\n",
       "  </tbody>\n",
       "</table>\n",
       "</div>"
      ],
      "text/plain": [
       "           ID                                        Description  \\\n",
       "0  KP278091.1  KP278091.1 [Actinobacillus] muris strain 20140...   \n",
       "1  KP278086.1  KP278086.1 [Actinobacillus] muris strain 20131...   \n",
       "2  KP278084.1  KP278084.1 [Actinobacillus] muris strain 20134...   \n",
       "3  KP278083.1  KP278083.1 [Actinobacillus] muris strain 20137...   \n",
       "4  GU809187.1  GU809187.1 Pasteurella pneumotropica strain CR...   \n",
       "\n",
       "                       Taxon  \\\n",
       "0     [Actinobacillus] muris   \n",
       "1     [Actinobacillus] muris   \n",
       "2     [Actinobacillus] muris   \n",
       "3     [Actinobacillus] muris   \n",
       "4  Pasteurella pneumotropica   \n",
       "\n",
       "                                            Sequence   Source           Genus  \n",
       "0  GCTANANATGCAGTCGACGGTACAGGAAGGAAGCTTGCTTTCTTTG...  NCBI NT  Actinobacillus  \n",
       "1  GCTANNATGCAGTCGACGGTAACAGGAAGGAAGCTTGCTTTCTTTG...  NCBI NT  Actinobacillus  \n",
       "2  GTAACAGGAAGGAAGCTTGCTTTCTTTGCTGACGAGTGGCGGACGG...  NCBI NT  Actinobacillus  \n",
       "3  TANANATGCAGTCGACGGTAACAGGAAGGAAGCTTGCTTTCTTTGC...  NCBI NT  Actinobacillus  \n",
       "4  TGACGAGTGGCGGACGGGTGAGTAATGCTTGGGAATCTGGCTTATG...  NCBI NT     Pasteurella  "
      ]
     },
     "execution_count": 20,
     "metadata": {},
     "output_type": "execute_result"
    }
   ],
   "source": [
    "fasta_sequences = SeqIO.parse(open(\"../../databases/MOMD/MOMD.fasta\"),'fasta')\n",
    "db = []\n",
    "\n",
    "# add 29 sequences from NT blast search\n",
    "for s,r in zip(df_blast_nt_filtered_in_mouse.subject_accver, df_blast_nt_filtered_in_mouse.record):\n",
    "    taxon = (' ').join(r.split(' ')[1:3])\n",
    "    seq = r.split('\\n')[1]\n",
    "    db.append([s, r.lstrip('>').split('\\n')[0], taxon, seq, 'NCBI NT'])\n",
    "    \n",
    "# add MOMD but exclude those matched to mGMB and miBC\n",
    "seqs_removed_due_to_gut_colonization = 0\n",
    "for fasta in fasta_sequences:\n",
    "    name, description, sequence = fasta.id, fasta.description, str(fasta.seq)\n",
    "    sid = description.split('|')[0].strip()\n",
    "    taxon = description.split('|')[1].strip()\n",
    "\n",
    "    # if the current sequence is a hit of oral-typical bacteria, keep it\n",
    "    if sid in oral_typical_bacteria_w_MOMD_hits:\n",
    "        db.append([name, description, taxon, sequence, 'MOMD'])\n",
    "    else:\n",
    "        if sid not in matched_taxa_total:\n",
    "            db.append([name, description, taxon, sequence, 'MOMD'])\n",
    "        else:\n",
    "            seqs_removed_due_to_gut_colonization+=1\n",
    "\n",
    "df_db = pd.DataFrame(db, columns=['ID', 'Description', 'Taxon', 'Sequence', 'Source'])\n",
    "df_db['Genus'] = [x.split(' ')[0] if x != \"Uncultured Streptococcus\" else \"Streptococcus\" for x in df_db.Taxon]\n",
    "df_db.loc[df_db.Genus=='[Actinobacillus]', 'Genus'] = 'Actinobacillus'\n",
    "df_db.head()"
   ]
  },
  {
   "cell_type": "code",
   "execution_count": 21,
   "id": "dea1c74d-4457-4e4b-a1e4-380b9c78d7ae",
   "metadata": {},
   "outputs": [
    {
     "data": {
      "text/plain": [
       "Counter({'NCBI NT': 29, 'MOMD': 127})"
      ]
     },
     "execution_count": 21,
     "metadata": {},
     "output_type": "execute_result"
    }
   ],
   "source": [
    "Counter(df_db.Source)"
   ]
  },
  {
   "cell_type": "code",
   "execution_count": 22,
   "id": "96d5661a-d2b9-46b1-a0f1-f96f8dbb47c1",
   "metadata": {},
   "outputs": [
    {
     "data": {
      "text/plain": [
       "37"
      ]
     },
     "execution_count": 22,
     "metadata": {},
     "output_type": "execute_result"
    }
   ],
   "source": [
    "seqs_removed_due_to_gut_colonization"
   ]
  },
  {
   "cell_type": "markdown",
   "id": "ce5656cc-784c-46a8-a11f-defd524a1cf2",
   "metadata": {},
   "source": [
    "# Step 4: Remove the redundant sequences"
   ]
  },
  {
   "cell_type": "code",
   "execution_count": 29,
   "id": "975b2c44-4d57-45c0-a73c-8224f81dab6c",
   "metadata": {},
   "outputs": [
    {
     "name": "stdout",
     "output_type": "stream",
     "text": [
      "FN599335.1 NCBI NT redundant\n",
      "FN599222.1 NCBI NT redundant\n",
      "022_004 MOMD redundant\n",
      "042_003 MOMD redundant\n",
      "083_002 MOMD redundant\n",
      "058_002 MOMD redundant\n",
      "011_003 MOMD redundant\n",
      "27 from NCBI NT, 122 from MOMD\n"
     ]
    },
    {
     "data": {
      "text/html": [
       "<div>\n",
       "<style scoped>\n",
       "    .dataframe tbody tr th:only-of-type {\n",
       "        vertical-align: middle;\n",
       "    }\n",
       "\n",
       "    .dataframe tbody tr th {\n",
       "        vertical-align: top;\n",
       "    }\n",
       "\n",
       "    .dataframe thead th {\n",
       "        text-align: right;\n",
       "    }\n",
       "</style>\n",
       "<table border=\"1\" class=\"dataframe\">\n",
       "  <thead>\n",
       "    <tr style=\"text-align: right;\">\n",
       "      <th></th>\n",
       "      <th>ID</th>\n",
       "      <th>Description</th>\n",
       "      <th>Taxon</th>\n",
       "      <th>Sequence</th>\n",
       "      <th>Source</th>\n",
       "      <th>Genus</th>\n",
       "    </tr>\n",
       "  </thead>\n",
       "  <tbody>\n",
       "    <tr>\n",
       "      <th>0</th>\n",
       "      <td>KP278091.1</td>\n",
       "      <td>KP278091.1 [Actinobacillus] muris strain 20140...</td>\n",
       "      <td>[Actinobacillus] muris</td>\n",
       "      <td>GCTANANATGCAGTCGACGGTACAGGAAGGAAGCTTGCTTTCTTTG...</td>\n",
       "      <td>NCBI NT</td>\n",
       "      <td>Actinobacillus</td>\n",
       "    </tr>\n",
       "    <tr>\n",
       "      <th>1</th>\n",
       "      <td>KP278086.1</td>\n",
       "      <td>KP278086.1 [Actinobacillus] muris strain 20131...</td>\n",
       "      <td>[Actinobacillus] muris</td>\n",
       "      <td>GCTANNATGCAGTCGACGGTAACAGGAAGGAAGCTTGCTTTCTTTG...</td>\n",
       "      <td>NCBI NT</td>\n",
       "      <td>Actinobacillus</td>\n",
       "    </tr>\n",
       "    <tr>\n",
       "      <th>2</th>\n",
       "      <td>KP278084.1</td>\n",
       "      <td>KP278084.1 [Actinobacillus] muris strain 20134...</td>\n",
       "      <td>[Actinobacillus] muris</td>\n",
       "      <td>GTAACAGGAAGGAAGCTTGCTTTCTTTGCTGACGAGTGGCGGACGG...</td>\n",
       "      <td>NCBI NT</td>\n",
       "      <td>Actinobacillus</td>\n",
       "    </tr>\n",
       "    <tr>\n",
       "      <th>3</th>\n",
       "      <td>KP278083.1</td>\n",
       "      <td>KP278083.1 [Actinobacillus] muris strain 20137...</td>\n",
       "      <td>[Actinobacillus] muris</td>\n",
       "      <td>TANANATGCAGTCGACGGTAACAGGAAGGAAGCTTGCTTTCTTTGC...</td>\n",
       "      <td>NCBI NT</td>\n",
       "      <td>Actinobacillus</td>\n",
       "    </tr>\n",
       "    <tr>\n",
       "      <th>4</th>\n",
       "      <td>GU809187.1</td>\n",
       "      <td>GU809187.1 Pasteurella pneumotropica strain CR...</td>\n",
       "      <td>Pasteurella pneumotropica</td>\n",
       "      <td>TGACGAGTGGCGGACGGGTGAGTAATGCTTGGGAATCTGGCTTATG...</td>\n",
       "      <td>NCBI NT</td>\n",
       "      <td>Pasteurella</td>\n",
       "    </tr>\n",
       "  </tbody>\n",
       "</table>\n",
       "</div>"
      ],
      "text/plain": [
       "           ID                                        Description  \\\n",
       "0  KP278091.1  KP278091.1 [Actinobacillus] muris strain 20140...   \n",
       "1  KP278086.1  KP278086.1 [Actinobacillus] muris strain 20131...   \n",
       "2  KP278084.1  KP278084.1 [Actinobacillus] muris strain 20134...   \n",
       "3  KP278083.1  KP278083.1 [Actinobacillus] muris strain 20137...   \n",
       "4  GU809187.1  GU809187.1 Pasteurella pneumotropica strain CR...   \n",
       "\n",
       "                       Taxon  \\\n",
       "0     [Actinobacillus] muris   \n",
       "1     [Actinobacillus] muris   \n",
       "2     [Actinobacillus] muris   \n",
       "3     [Actinobacillus] muris   \n",
       "4  Pasteurella pneumotropica   \n",
       "\n",
       "                                            Sequence   Source           Genus  \n",
       "0  GCTANANATGCAGTCGACGGTACAGGAAGGAAGCTTGCTTTCTTTG...  NCBI NT  Actinobacillus  \n",
       "1  GCTANNATGCAGTCGACGGTAACAGGAAGGAAGCTTGCTTTCTTTG...  NCBI NT  Actinobacillus  \n",
       "2  GTAACAGGAAGGAAGCTTGCTTTCTTTGCTGACGAGTGGCGGACGG...  NCBI NT  Actinobacillus  \n",
       "3  TANANATGCAGTCGACGGTAACAGGAAGGAAGCTTGCTTTCTTTGC...  NCBI NT  Actinobacillus  \n",
       "4  TGACGAGTGGCGGACGGGTGAGTAATGCTTGGGAATCTGGCTTATG...  NCBI NT     Pasteurella  "
      ]
     },
     "execution_count": 29,
     "metadata": {},
     "output_type": "execute_result"
    }
   ],
   "source": [
    "index_to_keep = []\n",
    "for sid, seq, source in zip(df_db.ID, df_db.Sequence, df_db.Source):\n",
    "    df2_db = df_db[df_db.Sequence.str.contains(seq)]\n",
    "    if len(df2_db) == 1:\n",
    "        index_to_keep.append(sid)\n",
    "    else:\n",
    "        print(sid, source, 'redundant')\n",
    "df_db_nr = deepcopy(df_db[df_db.ID.isin(index_to_keep)])\n",
    "print(\"%d from NCBI NT, %d from MOMD\" % (len(df_db_nr[df_db_nr.Source==\"NCBI NT\"]), len(df_db_nr[df_db_nr.Source=='MOMD'])))\n",
    "df_db_nr.head()"
   ]
  },
  {
   "cell_type": "code",
   "execution_count": null,
   "id": "461b14ed-dabc-4a96-bc8a-91f253117fcd",
   "metadata": {},
   "outputs": [
    {
     "data": {
      "text/html": [
       "<div>\n",
       "<style scoped>\n",
       "    .dataframe tbody tr th:only-of-type {\n",
       "        vertical-align: middle;\n",
       "    }\n",
       "\n",
       "    .dataframe tbody tr th {\n",
       "        vertical-align: top;\n",
       "    }\n",
       "\n",
       "    .dataframe thead th {\n",
       "        text-align: right;\n",
       "    }\n",
       "</style>\n",
       "<table border=\"1\" class=\"dataframe\">\n",
       "  <thead>\n",
       "    <tr style=\"text-align: right;\">\n",
       "      <th></th>\n",
       "      <th>ID</th>\n",
       "      <th>Description</th>\n",
       "      <th>Taxon</th>\n",
       "      <th>Sequence</th>\n",
       "      <th>Source</th>\n",
       "      <th>Genus</th>\n",
       "    </tr>\n",
       "  </thead>\n",
       "  <tbody>\n",
       "    <tr>\n",
       "      <th>138</th>\n",
       "      <td>093_001</td>\n",
       "      <td>093_001 | Lactobacillus murinus | MOT-093 | LM...</td>\n",
       "      <td>Lactobacillus murinus</td>\n",
       "      <td>TGCAAGTCGAACGAAACTTCTTTATCACCGAGTGCTTGCACTCACC...</td>\n",
       "      <td>MOMD</td>\n",
       "      <td>Lactobacillus</td>\n",
       "    </tr>\n",
       "  </tbody>\n",
       "</table>\n",
       "</div>"
      ],
      "text/plain": [
       "          ID                                        Description  \\\n",
       "138  093_001  093_001 | Lactobacillus murinus | MOT-093 | LM...   \n",
       "\n",
       "                     Taxon                                           Sequence  \\\n",
       "138  Lactobacillus murinus  TGCAAGTCGAACGAAACTTCTTTATCACCGAGTGCTTGCACTCACC...   \n",
       "\n",
       "    Source          Genus  \n",
       "138   MOMD  Lactobacillus  "
      ]
     },
     "execution_count": 30,
     "metadata": {},
     "output_type": "execute_result"
    }
   ],
   "source": [
    "df_db_nr[df_db_nr.ID.str.contains('093')]"
   ]
  },
  {
   "cell_type": "code",
   "execution_count": 21,
   "id": "92d1238c-34cf-467e-9fe5-319d1e135810",
   "metadata": {},
   "outputs": [],
   "source": [
    "df_db_nr.to_csv(\"../../databases/fMOMD/fMOMD_info.csv\", index=False)"
   ]
  },
  {
   "cell_type": "markdown",
   "id": "6f17e4d8-f09b-4da5-9589-ad76c21252d3",
   "metadata": {},
   "source": [
    "# Step 5: Write to the fasta file"
   ]
  },
  {
   "cell_type": "code",
   "execution_count": 31,
   "id": "15067547-9e8b-48cc-84e3-c9c71763e20e",
   "metadata": {},
   "outputs": [],
   "source": [
    "with open(\"../../databases/fMOMD/fMOMD.fasta\", \"w\") as out_file:\n",
    "    for desc, seq in zip(df_db_nr.Description, df_db_nr.Sequence):\n",
    "        out_file.write(\">%s\\n\" % desc)\n",
    "        out_file.write(\"%s\\n\" % seq)"
   ]
  },
  {
   "cell_type": "code",
   "execution_count": null,
   "id": "9c58f0a7-02fb-4e0e-9a42-e414c4b4dd2e",
   "metadata": {},
   "outputs": [],
   "source": []
  }
 ],
 "metadata": {
  "kernelspec": {
   "display_name": "Python 3 (ipykernel)",
   "language": "python",
   "name": "python3"
  },
  "language_info": {
   "codemirror_mode": {
    "name": "ipython",
    "version": 3
   },
   "file_extension": ".py",
   "mimetype": "text/x-python",
   "name": "python",
   "nbconvert_exporter": "python",
   "pygments_lexer": "ipython3",
   "version": "3.9.13"
  }
 },
 "nbformat": 4,
 "nbformat_minor": 5
}
