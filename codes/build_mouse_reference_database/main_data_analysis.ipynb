{
 "cells": [
  {
   "cell_type": "code",
   "execution_count": null,
   "id": "21c41c4d-66e5-4b12-a054-b7845e3d8b5a",
   "metadata": {},
   "outputs": [],
   "source": []
  },
  {
   "cell_type": "code",
   "execution_count": null,
   "id": "feb95964-9124-4eb3-a87b-b2b8b6e0989d",
   "metadata": {},
   "outputs": [],
   "source": []
  },
  {
   "cell_type": "code",
   "execution_count": null,
   "id": "99e59802-4caa-4a7a-a063-3267bc5178e2",
   "metadata": {},
   "outputs": [],
   "source": [
    "df_db_nr.to_csv(\"../../databases/fMOMD/fMOMD_info.txt\", index=False)\n",
    "fig, ax = plt.subplots(figsize=(10,4))\n",
    "\n",
    "df_stat = pd.DataFrame.from_dict(dict(Counter(df_db_nr.Genus)), orient=\"index\").sort_values(0, ascending=False).reset_index().rename({'index':'Genus', 0:'Count'}, axis=1)\n",
    "_ = sns.barplot(x=\"Genus\", y=\"Count\", data=df_stat, ax=ax, color='gray')\n",
    "_ = ax.set_xticklabels(ax.get_xticklabels(), rotation=90, horizontalalignment='right')\n",
    "\n",
    "plt.tight_layout()\n",
    "plt.rcParams['svg.fonttype'] = 'none'\n",
    "fig.savefig(\"genera_count_in_filtered_MOMD.svg\", dpi=600, bbox_inches='tight')"
   ]
  }
 ],
 "metadata": {
  "kernelspec": {
   "display_name": "Python 3",
   "language": "python",
   "name": "python3"
  },
  "language_info": {
   "codemirror_mode": {
    "name": "ipython",
    "version": 3
   },
   "file_extension": ".py",
   "mimetype": "text/x-python",
   "name": "python",
   "nbconvert_exporter": "python",
   "pygments_lexer": "ipython3",
   "version": "3.8.5"
  }
 },
 "nbformat": 4,
 "nbformat_minor": 5
}
