{
 "cells": [
  {
   "cell_type": "code",
   "execution_count": 1,
   "metadata": {},
   "outputs": [],
   "source": [
    "import pandas as pd\n",
    "import numpy as np\n",
    "import seaborn as sns\n",
    "import matplotlib.pyplot as plt\n",
    "import scipy.stats as stats\n",
    "from collections import Counter\n",
    "%matplotlib inline\n",
    "from statannot import add_stat_annotation"
   ]
  },
  {
   "cell_type": "markdown",
   "metadata": {},
   "source": [
    "# Read quantitative microbiome data"
   ]
  },
  {
   "cell_type": "code",
   "execution_count": 2,
   "metadata": {},
   "outputs": [
    {
     "name": "stderr",
     "output_type": "stream",
     "text": [
      "/Users/liaoc/opt/anaconda3/lib/python3.8/site-packages/openpyxl/worksheet/_reader.py:312: UserWarning: Unknown extension is not supported and will be removed\n",
      "  warn(msg)\n"
     ]
    },
    {
     "data": {
      "text/html": [
       "<div>\n",
       "<style scoped>\n",
       "    .dataframe tbody tr th:only-of-type {\n",
       "        vertical-align: middle;\n",
       "    }\n",
       "\n",
       "    .dataframe tbody tr th {\n",
       "        vertical-align: top;\n",
       "    }\n",
       "\n",
       "    .dataframe thead th {\n",
       "        text-align: right;\n",
       "    }\n",
       "</style>\n",
       "<table border=\"1\" class=\"dataframe\">\n",
       "  <thead>\n",
       "    <tr style=\"text-align: right;\">\n",
       "      <th></th>\n",
       "      <th>SubjectID</th>\n",
       "      <th>Group</th>\n",
       "      <th>FACS_fresh</th>\n",
       "      <th>FACS_frozen</th>\n",
       "    </tr>\n",
       "  </thead>\n",
       "  <tbody>\n",
       "    <tr>\n",
       "      <th>0</th>\n",
       "      <td>SC01</td>\n",
       "      <td>Healthy</td>\n",
       "      <td>1.971575e+11</td>\n",
       "      <td>1.897660e+11</td>\n",
       "    </tr>\n",
       "    <tr>\n",
       "      <th>1</th>\n",
       "      <td>SC02</td>\n",
       "      <td>Healthy</td>\n",
       "      <td>2.182101e+11</td>\n",
       "      <td>1.484284e+11</td>\n",
       "    </tr>\n",
       "    <tr>\n",
       "      <th>2</th>\n",
       "      <td>SC03</td>\n",
       "      <td>Healthy</td>\n",
       "      <td>1.259898e+11</td>\n",
       "      <td>1.173566e+11</td>\n",
       "    </tr>\n",
       "    <tr>\n",
       "      <th>3</th>\n",
       "      <td>SC04</td>\n",
       "      <td>Healthy</td>\n",
       "      <td>NaN</td>\n",
       "      <td>1.527821e+11</td>\n",
       "    </tr>\n",
       "    <tr>\n",
       "      <th>4</th>\n",
       "      <td>SC05</td>\n",
       "      <td>Healthy</td>\n",
       "      <td>1.269543e+11</td>\n",
       "      <td>1.059558e+11</td>\n",
       "    </tr>\n",
       "  </tbody>\n",
       "</table>\n",
       "</div>"
      ],
      "text/plain": [
       "  SubjectID    Group    FACS_fresh   FACS_frozen\n",
       "0      SC01  Healthy  1.971575e+11  1.897660e+11\n",
       "1      SC02  Healthy  2.182101e+11  1.484284e+11\n",
       "2      SC03  Healthy  1.259898e+11  1.173566e+11\n",
       "3      SC04  Healthy           NaN  1.527821e+11\n",
       "4      SC05  Healthy  1.269543e+11  1.059558e+11"
      ]
     },
     "execution_count": 2,
     "metadata": {},
     "output_type": "execute_result"
    }
   ],
   "source": [
    "# Average cell count (per gram of frozen feces)\n",
    "df_facs = pd.read_excel('supp/41586_2017_BFnature24460_MOESM2_ESM.xlsx',sheet_name='Supplementary Table S5')\n",
    "df_facs = df_facs[['Individual','Health status','Average cell count (per gram of fresh feces)','Average cell count (per gram of frozen feces)']]\n",
    "df_facs.columns = ['SubjectID','Group','FACS_fresh','FACS_frozen']\n",
    "df_facs.head()"
   ]
  },
  {
   "cell_type": "markdown",
   "metadata": {},
   "source": [
    "# Read metadata"
   ]
  },
  {
   "cell_type": "code",
   "execution_count": 3,
   "metadata": {},
   "outputs": [
    {
     "data": {
      "text/html": [
       "<div>\n",
       "<style scoped>\n",
       "    .dataframe tbody tr th:only-of-type {\n",
       "        vertical-align: middle;\n",
       "    }\n",
       "\n",
       "    .dataframe tbody tr th {\n",
       "        vertical-align: top;\n",
       "    }\n",
       "\n",
       "    .dataframe thead th {\n",
       "        text-align: right;\n",
       "    }\n",
       "</style>\n",
       "<table border=\"1\" class=\"dataframe\">\n",
       "  <thead>\n",
       "    <tr style=\"text-align: right;\">\n",
       "      <th></th>\n",
       "      <th>SubjectID</th>\n",
       "      <th>Group</th>\n",
       "      <th>FACS_fresh</th>\n",
       "      <th>FACS_frozen</th>\n",
       "    </tr>\n",
       "    <tr>\n",
       "      <th>Run</th>\n",
       "      <th></th>\n",
       "      <th></th>\n",
       "      <th></th>\n",
       "      <th></th>\n",
       "    </tr>\n",
       "  </thead>\n",
       "  <tbody>\n",
       "    <tr>\n",
       "      <th>ERR2015047</th>\n",
       "      <td>SC01</td>\n",
       "      <td>Healthy</td>\n",
       "      <td>1.971575e+11</td>\n",
       "      <td>1.897660e+11</td>\n",
       "    </tr>\n",
       "    <tr>\n",
       "      <th>ERR2015048</th>\n",
       "      <td>SC02</td>\n",
       "      <td>Healthy</td>\n",
       "      <td>2.182101e+11</td>\n",
       "      <td>1.484284e+11</td>\n",
       "    </tr>\n",
       "    <tr>\n",
       "      <th>ERR2015049</th>\n",
       "      <td>SC03</td>\n",
       "      <td>Healthy</td>\n",
       "      <td>1.259898e+11</td>\n",
       "      <td>1.173566e+11</td>\n",
       "    </tr>\n",
       "    <tr>\n",
       "      <th>ERR2015050</th>\n",
       "      <td>SC04</td>\n",
       "      <td>Healthy</td>\n",
       "      <td>NaN</td>\n",
       "      <td>1.527821e+11</td>\n",
       "    </tr>\n",
       "    <tr>\n",
       "      <th>ERR2015051</th>\n",
       "      <td>SC05</td>\n",
       "      <td>Healthy</td>\n",
       "      <td>1.269543e+11</td>\n",
       "      <td>1.059558e+11</td>\n",
       "    </tr>\n",
       "  </tbody>\n",
       "</table>\n",
       "</div>"
      ],
      "text/plain": [
       "           SubjectID    Group    FACS_fresh   FACS_frozen\n",
       "Run                                                      \n",
       "ERR2015047      SC01  Healthy  1.971575e+11  1.897660e+11\n",
       "ERR2015048      SC02  Healthy  2.182101e+11  1.484284e+11\n",
       "ERR2015049      SC03  Healthy  1.259898e+11  1.173566e+11\n",
       "ERR2015050      SC04  Healthy           NaN  1.527821e+11\n",
       "ERR2015051      SC05  Healthy  1.269543e+11  1.059558e+11"
      ]
     },
     "execution_count": 3,
     "metadata": {},
     "output_type": "execute_result"
    }
   ],
   "source": [
    "df_meta = pd.read_csv('qiime2_output/SraRunTable.txt')\n",
    "df_meta = df_meta[['Run','sample_name']]\n",
    "df_meta.columns = ['Run','SubjectID']\n",
    "df_meta = pd.merge(df_meta, df_facs, left_on='SubjectID', right_on='SubjectID', how='inner').set_index('Run')\n",
    "df_meta.head()"
   ]
  },
  {
   "cell_type": "code",
   "execution_count": 4,
   "metadata": {},
   "outputs": [
    {
     "name": "stdout",
     "output_type": "stream",
     "text": [
      "# frozen data = 135, # fresh data = 39\n"
     ]
    }
   ],
   "source": [
    "print(\"# frozen data = %d, # fresh data = %d\" % (len(df_meta[df_meta.FACS_frozen.notnull()]), len(df_meta[df_meta.FACS_fresh.notnull()])))"
   ]
  },
  {
   "cell_type": "markdown",
   "metadata": {},
   "source": [
    "# Compute oral bacterial fraction"
   ]
  },
  {
   "cell_type": "markdown",
   "metadata": {},
   "source": [
    "## read taxonomy"
   ]
  },
  {
   "cell_type": "code",
   "execution_count": 5,
   "metadata": {},
   "outputs": [
    {
     "data": {
      "text/html": [
       "<div>\n",
       "<style scoped>\n",
       "    .dataframe tbody tr th:only-of-type {\n",
       "        vertical-align: middle;\n",
       "    }\n",
       "\n",
       "    .dataframe tbody tr th {\n",
       "        vertical-align: top;\n",
       "    }\n",
       "\n",
       "    .dataframe thead th {\n",
       "        text-align: right;\n",
       "    }\n",
       "</style>\n",
       "<table border=\"1\" class=\"dataframe\">\n",
       "  <thead>\n",
       "    <tr style=\"text-align: right;\">\n",
       "      <th></th>\n",
       "      <th>ASV</th>\n",
       "      <th>Taxon</th>\n",
       "      <th>Confidence</th>\n",
       "      <th>LowestTaxonomy</th>\n",
       "    </tr>\n",
       "  </thead>\n",
       "  <tbody>\n",
       "    <tr>\n",
       "      <th>0</th>\n",
       "      <td>f5f5e0da89730462abaf6301a9557193</td>\n",
       "      <td>d__Bacteria; p__Firmicutes; c__Clostridia; o__...</td>\n",
       "      <td>0.997650</td>\n",
       "      <td>g__Faecalibacterium</td>\n",
       "    </tr>\n",
       "    <tr>\n",
       "      <th>1</th>\n",
       "      <td>99deb3c5ecb022ec05609ebd1112a557</td>\n",
       "      <td>d__Bacteria; p__Bacteroidota; c__Bacteroidia; ...</td>\n",
       "      <td>1.000000</td>\n",
       "      <td>g__Bacteroides</td>\n",
       "    </tr>\n",
       "    <tr>\n",
       "      <th>2</th>\n",
       "      <td>263e41ea2c25dc87bd2ff5910cf30d40</td>\n",
       "      <td>d__Bacteria; p__Firmicutes; c__Clostridia; o__...</td>\n",
       "      <td>0.854105</td>\n",
       "      <td>g__Agathobacter</td>\n",
       "    </tr>\n",
       "    <tr>\n",
       "      <th>3</th>\n",
       "      <td>59777186ad2e0947e97615b5d6225136</td>\n",
       "      <td>d__Bacteria; p__Firmicutes; c__Clostridia; o__...</td>\n",
       "      <td>0.998053</td>\n",
       "      <td>g__Faecalibacterium</td>\n",
       "    </tr>\n",
       "    <tr>\n",
       "      <th>4</th>\n",
       "      <td>8e175abe6a746b8f33bae9cd7c8192bb</td>\n",
       "      <td>d__Bacteria; p__Firmicutes; c__Clostridia; o__...</td>\n",
       "      <td>0.999072</td>\n",
       "      <td>g__Faecalibacterium</td>\n",
       "    </tr>\n",
       "  </tbody>\n",
       "</table>\n",
       "</div>"
      ],
      "text/plain": [
       "                                ASV  \\\n",
       "0  f5f5e0da89730462abaf6301a9557193   \n",
       "1  99deb3c5ecb022ec05609ebd1112a557   \n",
       "2  263e41ea2c25dc87bd2ff5910cf30d40   \n",
       "3  59777186ad2e0947e97615b5d6225136   \n",
       "4  8e175abe6a746b8f33bae9cd7c8192bb   \n",
       "\n",
       "                                               Taxon  Confidence  \\\n",
       "0  d__Bacteria; p__Firmicutes; c__Clostridia; o__...    0.997650   \n",
       "1  d__Bacteria; p__Bacteroidota; c__Bacteroidia; ...    1.000000   \n",
       "2  d__Bacteria; p__Firmicutes; c__Clostridia; o__...    0.854105   \n",
       "3  d__Bacteria; p__Firmicutes; c__Clostridia; o__...    0.998053   \n",
       "4  d__Bacteria; p__Firmicutes; c__Clostridia; o__...    0.999072   \n",
       "\n",
       "        LowestTaxonomy  \n",
       "0  g__Faecalibacterium  \n",
       "1       g__Bacteroides  \n",
       "2      g__Agathobacter  \n",
       "3  g__Faecalibacterium  \n",
       "4  g__Faecalibacterium  "
      ]
     },
     "execution_count": 5,
     "metadata": {},
     "output_type": "execute_result"
    }
   ],
   "source": [
    "df_tax = pd.read_csv('qiime2_output/taxonomy.tsv', sep=\"\\t\").rename({'Feature ID':'ASV'}, axis=1)\n",
    "df_tax = df_tax[df_tax.Taxon.str.contains('d__Bacteria')]\n",
    "df_tax = df_tax[~(df_tax.Taxon.str.contains('Chloroplast') | df_tax.Taxon.str.contains('Mitochondria'))]\n",
    "df_tax['LowestTaxonomy'] = [t.split(';')[-1].strip() for t in df_tax.Taxon]\n",
    "df_tax.head()"
   ]
  },
  {
   "cell_type": "markdown",
   "metadata": {},
   "source": [
    "## Read count data (filter out samples with less than 1000 reads)"
   ]
  },
  {
   "cell_type": "code",
   "execution_count": 7,
   "metadata": {},
   "outputs": [
    {
     "name": "stdout",
     "output_type": "stream",
     "text": [
      "minimum total count = 7686\n"
     ]
    },
    {
     "name": "stderr",
     "output_type": "stream",
     "text": [
      "/Users/liaoc/opt/anaconda3/lib/python3.8/site-packages/pandas/core/arraylike.py:358: RuntimeWarning: divide by zero encountered in log10\n",
      "  result = getattr(ufunc, method)(*inputs, **kwargs)\n"
     ]
    },
    {
     "data": {
      "text/html": [
       "<div>\n",
       "<style scoped>\n",
       "    .dataframe tbody tr th:only-of-type {\n",
       "        vertical-align: middle;\n",
       "    }\n",
       "\n",
       "    .dataframe tbody tr th {\n",
       "        vertical-align: top;\n",
       "    }\n",
       "\n",
       "    .dataframe thead th {\n",
       "        text-align: right;\n",
       "    }\n",
       "</style>\n",
       "<table border=\"1\" class=\"dataframe\">\n",
       "  <thead>\n",
       "    <tr style=\"text-align: right;\">\n",
       "      <th></th>\n",
       "      <th>SubjectID</th>\n",
       "      <th>Group</th>\n",
       "      <th>FACS_fresh</th>\n",
       "      <th>FACS_frozen</th>\n",
       "      <th>OralFrac</th>\n",
       "      <th>log10_OralFrac</th>\n",
       "      <th>log10_FACS_fresh</th>\n",
       "      <th>log10_FACS_frozen</th>\n",
       "    </tr>\n",
       "  </thead>\n",
       "  <tbody>\n",
       "    <tr>\n",
       "      <th>ERR2015047</th>\n",
       "      <td>SC01</td>\n",
       "      <td>Healthy</td>\n",
       "      <td>1.971575e+11</td>\n",
       "      <td>1.897660e+11</td>\n",
       "      <td>0.000826</td>\n",
       "      <td>-3.083099</td>\n",
       "      <td>11.294813</td>\n",
       "      <td>11.278218</td>\n",
       "    </tr>\n",
       "    <tr>\n",
       "      <th>ERR2015048</th>\n",
       "      <td>SC02</td>\n",
       "      <td>Healthy</td>\n",
       "      <td>2.182101e+11</td>\n",
       "      <td>1.484284e+11</td>\n",
       "      <td>0.101783</td>\n",
       "      <td>-0.992326</td>\n",
       "      <td>11.338875</td>\n",
       "      <td>11.171517</td>\n",
       "    </tr>\n",
       "    <tr>\n",
       "      <th>ERR2015049</th>\n",
       "      <td>SC03</td>\n",
       "      <td>Healthy</td>\n",
       "      <td>1.259898e+11</td>\n",
       "      <td>1.173566e+11</td>\n",
       "      <td>0.001470</td>\n",
       "      <td>-2.832611</td>\n",
       "      <td>11.100336</td>\n",
       "      <td>11.069507</td>\n",
       "    </tr>\n",
       "    <tr>\n",
       "      <th>ERR2015050</th>\n",
       "      <td>SC04</td>\n",
       "      <td>Healthy</td>\n",
       "      <td>NaN</td>\n",
       "      <td>1.527821e+11</td>\n",
       "      <td>0.000000</td>\n",
       "      <td>-inf</td>\n",
       "      <td>NaN</td>\n",
       "      <td>11.184073</td>\n",
       "    </tr>\n",
       "    <tr>\n",
       "      <th>ERR2015051</th>\n",
       "      <td>SC05</td>\n",
       "      <td>Healthy</td>\n",
       "      <td>1.269543e+11</td>\n",
       "      <td>1.059558e+11</td>\n",
       "      <td>0.000304</td>\n",
       "      <td>-3.516720</td>\n",
       "      <td>11.103647</td>\n",
       "      <td>11.025125</td>\n",
       "    </tr>\n",
       "  </tbody>\n",
       "</table>\n",
       "</div>"
      ],
      "text/plain": [
       "           SubjectID    Group    FACS_fresh   FACS_frozen  OralFrac  \\\n",
       "ERR2015047      SC01  Healthy  1.971575e+11  1.897660e+11  0.000826   \n",
       "ERR2015048      SC02  Healthy  2.182101e+11  1.484284e+11  0.101783   \n",
       "ERR2015049      SC03  Healthy  1.259898e+11  1.173566e+11  0.001470   \n",
       "ERR2015050      SC04  Healthy           NaN  1.527821e+11  0.000000   \n",
       "ERR2015051      SC05  Healthy  1.269543e+11  1.059558e+11  0.000304   \n",
       "\n",
       "            log10_OralFrac  log10_FACS_fresh  log10_FACS_frozen  \n",
       "ERR2015047       -3.083099         11.294813          11.278218  \n",
       "ERR2015048       -0.992326         11.338875          11.171517  \n",
       "ERR2015049       -2.832611         11.100336          11.069507  \n",
       "ERR2015050            -inf               NaN          11.184073  \n",
       "ERR2015051       -3.516720         11.103647          11.025125  "
      ]
     },
     "execution_count": 7,
     "metadata": {},
     "output_type": "execute_result"
    }
   ],
   "source": [
    "df_count = pd.read_csv('qiime2_output/feature-table/feature-table.from_biom.txt', sep=\"\\t\", index_col=0, skiprows=[0])\n",
    "df_count = df_count.loc[df_tax['ASV']].T\n",
    "sample_ids_w_suff_reads = list(df_count.sum(axis=1)[df_count.sum(axis=1)>=1000].index)\n",
    "df_count = df_count.loc[set(df_meta.index).intersection(set(sample_ids_w_suff_reads))]\n",
    "df_count = df_count.loc[:, (df_count != 0).any(axis=0)]\n",
    "print(\"minimum total count = %d\" % df_count.sum(axis=1).min())\n",
    "df_relabun = df_count.div(df_count.sum(axis=1), axis=0)\n",
    "\n",
    "df_blast_HMPv35oral = pd.read_csv(\"qiime2_output/asv-sequences/blast_HMPv35oral/blast_HMPv35oral_p100.txt\", sep=\"\\t\", comment=\"#\", header=None)\n",
    "df_blast_HMPv35oral.columns = ['query_accver', 'subject_accver', 'perc_identity', 'alignment_length', 'mismatches', 'gap_opens', 'qstart', 'qend', 'sstart', 'send', 'evalue', 'bitscore']\n",
    "df_oral = df_relabun[set(df_relabun.columns).intersection(set(df_blast_HMPv35oral.query_accver))].sum(axis=1).to_frame().rename({0:'OralFrac'}, axis=1)\n",
    "\n",
    "df_meta_oral = pd.merge(df_meta, df_oral, left_index=True, right_index=True, how='inner')\n",
    "df_meta_oral['log10_OralFrac'] = np.log10(df_meta_oral['OralFrac'])\n",
    "df_meta_oral['log10_FACS_fresh'] = np.log10(df_meta_oral['FACS_fresh'])\n",
    "df_meta_oral['log10_FACS_frozen'] = np.log10(df_meta_oral['FACS_frozen'])\n",
    "df_meta_oral.head()"
   ]
  },
  {
   "cell_type": "code",
   "execution_count": 8,
   "metadata": {},
   "outputs": [
    {
     "name": "stdout",
     "output_type": "stream",
     "text": [
      "all data, n = 97, slope = -0.30, r = -0.41, P = 0.000026\n"
     ]
    },
    {
     "data": {
      "image/png": "[encoded data removed]",
      "text/plain": [
       "<Figure size 360x288 with 1 Axes>"
      ]
     },
     "metadata": {
      "needs_background": "light"
     },
     "output_type": "display_data"
    }
   ],
   "source": [
    "fig, ax = plt.subplots(nrows=1, ncols=1, figsize=(5,4))\n",
    "\n",
    "df2_meta_oral = df_meta_oral[df_meta_oral.OralFrac>0]\n",
    "_ = sns.scatterplot(x=\"log10_OralFrac\", y=\"log10_FACS_frozen\", data=df2_meta_oral, hue='Group', palette='Set2', s=64, ax=ax)\n",
    "_ = sns.regplot(x=\"log10_OralFrac\", y=\"log10_FACS_frozen\", data=df2_meta_oral, scatter=False, color='k', ax=ax)\n",
    "slope, intercept, r_value, p_value, std_err = stats.linregress(df2_meta_oral['log10_OralFrac'], df2_meta_oral['log10_FACS_frozen'])\n",
    "print('all data, n = %d, slope = %2.2f, r = %2.2f, P = %2.6f'%(len(df2_meta_oral), slope, r_value, p_value))\n",
    "_ = ax.set_xlim([-4.05, -0.5])\n",
    "_ = ax.set_ylim([9.6, 11.6])\n",
    "\n",
    "plt.tight_layout()\n",
    "plt.rcParams['svg.fonttype'] = 'none'\n",
    "fig.savefig(\"Vandeputte_oral_vs_load.svg\", dpi=600)"
   ]
  },
  {
   "cell_type": "code",
   "execution_count": 9,
   "metadata": {},
   "outputs": [
    {
     "data": {
      "text/plain": [
       "Counter({'Healthy': 80, 'CD': 17})"
      ]
     },
     "execution_count": 9,
     "metadata": {},
     "output_type": "execute_result"
    }
   ],
   "source": [
    "Counter(df2_meta_oral.Group)"
   ]
  },
  {
   "cell_type": "code",
   "execution_count": 10,
   "metadata": {},
   "outputs": [
    {
     "data": {
      "text/plain": [
       "2.6299366763698984e-05"
      ]
     },
     "execution_count": 10,
     "metadata": {},
     "output_type": "execute_result"
    }
   ],
   "source": [
    "p_value"
   ]
  },
  {
   "cell_type": "code",
   "execution_count": 11,
   "metadata": {},
   "outputs": [
    {
     "name": "stdout",
     "output_type": "stream",
     "text": [
      "p-value annotation legend:\n",
      "ns: 5.00e-02 < p <= 1.00e+00\n",
      "*: 1.00e-02 < p <= 5.00e-02\n",
      "**: 1.00e-03 < p <= 1.00e-02\n",
      "***: 1.00e-04 < p <= 1.00e-03\n",
      "****: p <= 1.00e-04\n",
      "\n",
      "Healthy v.s. CD: Kruskal-Wallis paired samples, P_val=2.393e-02 stat=5.100e+00\n",
      "p-value annotation legend:\n",
      "ns: 5.00e-02 < p <= 1.00e+00\n",
      "*: 1.00e-02 < p <= 5.00e-02\n",
      "**: 1.00e-03 < p <= 1.00e-02\n",
      "***: 1.00e-04 < p <= 1.00e-03\n",
      "****: p <= 1.00e-04\n",
      "\n",
      "Healthy v.s. CD: Kruskal-Wallis paired samples, P_val=8.207e-06 stat=1.989e+01\n"
     ]
    },
    {
     "data": {
      "image/png": "[encoded data removed]",
      "text/plain": [
       "<Figure size 216x396 with 2 Axes>"
      ]
     },
     "metadata": {
      "needs_background": "light"
     },
     "output_type": "display_data"
    }
   ],
   "source": [
    "fig, ax = plt.subplots(nrows=1, ncols=2, figsize=(3,5.5))\n",
    "\n",
    "df2_meta_oral = df_meta_oral[df_meta_oral.OralFrac>0]\n",
    "\n",
    "# oral cavity\n",
    "_ = sns.boxplot(y=\"log10_OralFrac\", x=\"Group\", data=df2_meta_oral, width=.6, ax=ax[0], order=['Healthy','CD'], palette='Set2', linewidth=1, showfliers=False)\n",
    "_ = sns.stripplot(y=\"log10_OralFrac\", x=\"Group\", data=df2_meta_oral, size=2, color=\".3\", linewidth=0, ax=ax[0], jitter=0.2, palette='Set2', dodge=True, order=['Healthy','CD'])\n",
    "_ = add_stat_annotation(ax[0], data=df2_meta_oral, y=\"log10_OralFrac\", x=\"Group\", order=['Healthy','CD'],\n",
    "                        comparisons_correction=None,\n",
    "                        box_pairs=[(\"Healthy\",\"CD\")],\n",
    "                        test='Kruskal', text_format='star', loc='outside', verbose=1)\n",
    "_ = ax[0].set_ylim([-4.05,0.5])\n",
    "_ = ax[0].set_yticks([-4,-3,-2,-1,0])\n",
    "\n",
    "# microbial load\n",
    "_ = sns.boxplot(y=\"log10_FACS_frozen\", x=\"Group\", data=df2_meta_oral, width=.6, ax=ax[1], order=['Healthy','CD'], palette='Set2', linewidth=1, showfliers=False)\n",
    "_ = sns.stripplot(y=\"log10_FACS_frozen\", x=\"Group\", data=df2_meta_oral, size=2, color=\".3\", linewidth=0, ax=ax[1], jitter=0.2, palette='Set2', dodge=True, order=['Healthy','CD'])\n",
    "_ = add_stat_annotation(ax[1], data=df2_meta_oral, y=\"log10_FACS_frozen\", x=\"Group\", order=['Healthy','CD'],\n",
    "                        comparisons_correction=None,\n",
    "                        box_pairs=[(\"Healthy\",\"CD\")],\n",
    "                        test='Kruskal', text_format='star', loc='outside', verbose=1)\n",
    "_ = ax[1].set_ylim([9.6,11.6])\n",
    "_ = ax[1].set_yticks([10,10.5,11,11.5])\n",
    "\n",
    "plt.tight_layout()\n",
    "plt.rcParams['svg.fonttype'] = 'none'\n",
    "fig.savefig(\"Vandeputte2017Nature_oral_box_strip_plot.svg\", dpi=600)"
   ]
  },
  {
   "cell_type": "code",
   "execution_count": null,
   "metadata": {},
   "outputs": [],
   "source": []
  },
  {
   "cell_type": "code",
   "execution_count": null,
   "metadata": {},
   "outputs": [],
   "source": []
  },
  {
   "cell_type": "code",
   "execution_count": null,
   "metadata": {},
   "outputs": [],
   "source": []
  },
  {
   "cell_type": "code",
   "execution_count": null,
   "metadata": {},
   "outputs": [],
   "source": []
  },
  {
   "cell_type": "code",
   "execution_count": null,
   "metadata": {},
   "outputs": [],
   "source": []
  },
  {
   "cell_type": "code",
   "execution_count": null,
   "metadata": {},
   "outputs": [],
   "source": []
  },
  {
   "cell_type": "code",
   "execution_count": null,
   "metadata": {},
   "outputs": [],
   "source": []
  }
 ],
 "metadata": {
  "kernelspec": {
   "display_name": "Python 3",
   "language": "python",
   "name": "python3"
  },
  "language_info": {
   "codemirror_mode": {
    "name": "ipython",
    "version": 3
   },
   "file_extension": ".py",
   "mimetype": "text/x-python",
   "name": "python",
   "nbconvert_exporter": "python",
   "pygments_lexer": "ipython3",
   "version": "3.8.5"
  }
 },
 "nbformat": 4,
 "nbformat_minor": 4
}
