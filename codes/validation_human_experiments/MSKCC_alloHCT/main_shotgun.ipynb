{
 "cells": [
  {
   "cell_type": "code",
   "execution_count": 1,
   "id": "8e4853d4-cce8-41f3-9b80-235c3457d427",
   "metadata": {},
   "outputs": [],
   "source": [
    "import pandas as pd\n",
    "import numpy as np\n",
    "import matplotlib.pyplot as plt\n",
    "import seaborn as sns\n",
    "from copy import deepcopy\n",
    "from skbio.diversity.alpha import shannon\n",
    "from sklearn.metrics import pairwise_distances\n",
    "from collections import Counter"
   ]
  },
  {
   "cell_type": "markdown",
   "id": "7ae2a68d-c53d-4b6a-834b-c805410de4eb",
   "metadata": {},
   "source": [
    "# Load sample metadata and count table"
   ]
  },
  {
   "cell_type": "code",
   "execution_count": 40,
   "id": "9aa34ee1-1975-4cac-9325-ef45e5f49372",
   "metadata": {},
   "outputs": [
    {
     "name": "stdout",
     "output_type": "stream",
     "text": [
      "min seq depth = 1001\n"
     ]
    }
   ],
   "source": [
    "# read sample meta data and eliminate samples without transplant day\n",
    "df_sample = pd.read_csv('tblASVsamples.csv', index_col=0)\n",
    "df_sample = df_sample[df_sample.DayRelativeToNearestHCT.notnull()]\n",
    "\n",
    "# read count data\n",
    "df_count_stacked = pd.read_csv('tblcounts_asv_melt.csv')\n",
    "df_count_stacked = pd.pivot_table(df_count_stacked, index='SampleID', columns='ASV', values='Count', aggfunc=np.sum).fillna(0)\n",
    "df_count_stacked = df_count_stacked[df_count_stacked.sum(axis=1)>=1000]\n",
    "df_count_stacked = df_count_stacked.loc[:, (df_count_stacked != 0).any(axis=0)]\n",
    "print(\"min seq depth = %d\" %(df_count_stacked.sum(axis=1).min()))\n",
    "df_relab_asv =  df_count_stacked.div(df_count_stacked.sum(axis=1), axis=0)\n",
    "\n",
    "# find commmon samples\n",
    "common_samples = set(df_sample.index).intersection(set(df_relab_asv.index))\n",
    "df_sample = df_sample.loc[common_samples]\n",
    "df_relab_asv = df_relab_asv.loc[common_samples]"
   ]
  },
  {
   "cell_type": "code",
   "execution_count": 41,
   "id": "35a73280-34de-4704-aad7-78ab6eae3220",
   "metadata": {},
   "outputs": [],
   "source": [
    "df_tax=pd.read_csv(\"../../validation_human_experiments/MSKCC_alloHCT/tblASVtaxonomy_silva138_v4v5_filter.csv\", index_col=0)\n",
    "strep_asvs = list(df_tax[df_tax.Genus=='Streptococcus'].index)"
   ]
  },
  {
   "cell_type": "code",
   "execution_count": 42,
   "id": "ea2cde06-fcfa-4a9b-90b8-4519bfb0c6ba",
   "metadata": {},
   "outputs": [],
   "source": [
    "df_shotgun = pd.read_csv(\"shotgun/available_shotgun_samples.csv\", header=None)\n",
    "samples_w_shotgun = set(list(df_shotgun[0]))"
   ]
  },
  {
   "cell_type": "markdown",
   "id": "fd9e20dc-14bd-44ba-83fb-37c32e7e347b",
   "metadata": {},
   "source": [
    "# Shotgun samples with >30% relative abudnance of any oral-typical ASV"
   ]
  },
  {
   "cell_type": "code",
   "execution_count": 58,
   "id": "7cad3d1b-3afc-4c18-9184-4f6321bc6568",
   "metadata": {},
   "outputs": [],
   "source": [
    "# get oral bacterial fraction\n",
    "df_blast_100 = pd.read_csv(\"blast_HMPv35oral/blast_HMPv35oral_p100.txt\", sep=\"\\t\", comment=\"#\", header=None)\n",
    "df_blast_100.columns = ['query_accver', 'subject_accver', 'perc_identity', 'alignment_length', 'mismatches', 'gap_opens', 'qstart', 'qend', 'sstart', 'send', 'evalue', 'bitscore']#\n",
    "df2_relab_asv = (df_relab_asv[strep_asvs]>0.3).astype(int)\n",
    "samples_w_30_single_asv = list(df2_relab_asv.sum(axis=1)[df2_relab_asv.sum(axis=1)>0].index)"
   ]
  },
  {
   "cell_type": "markdown",
   "id": "23e11279-512e-4332-b2fe-3469848a4231",
   "metadata": {},
   "source": [
    "# Samples with >10% oral ASV and with shotgun data"
   ]
  },
  {
   "cell_type": "code",
   "execution_count": 59,
   "id": "f18186dd-cb7b-44c2-aafc-70d163bebade",
   "metadata": {},
   "outputs": [
    {
     "data": {
      "text/plain": [
       "10"
      ]
     },
     "execution_count": 59,
     "metadata": {},
     "output_type": "execute_result"
    }
   ],
   "source": [
    "samples_to_use = samples_w_shotgun.intersection(samples_w_30_single_asv)\n",
    "len(samples_to_use)"
   ]
  },
  {
   "cell_type": "code",
   "execution_count": 60,
   "id": "98f8617b-2b47-4a61-8273-1291fe2542ef",
   "metadata": {},
   "outputs": [
    {
     "data": {
      "text/plain": [
       "{'1403H',\n",
       " '1414B',\n",
       " '1414H',\n",
       " '668NN',\n",
       " 'FMT.0069D',\n",
       " 'FMT.0092G',\n",
       " 'FMT.0114G',\n",
       " 'FMT.0114H',\n",
       " 'FMT.0114K',\n",
       " 'FMT.0114P'}"
      ]
     },
     "execution_count": 60,
     "metadata": {},
     "output_type": "execute_result"
    }
   ],
   "source": [
    "samples_to_use"
   ]
  },
  {
   "cell_type": "code",
   "execution_count": 32,
   "id": "88e33ff6-98c8-4671-9303-3e2f193606b3",
   "metadata": {},
   "outputs": [
    {
     "ename": "IndexingError",
     "evalue": "Too many indexers",
     "output_type": "error",
     "traceback": [
      "\u001b[0;31m---------------------------------------------------------------------------\u001b[0m",
      "\u001b[0;31mIndexingError\u001b[0m                             Traceback (most recent call last)",
      "\u001b[0;32m<ipython-input-32-7261ece7741a>\u001b[0m in \u001b[0;36m<module>\u001b[0;34m\u001b[0m\n\u001b[0;32m----> 1\u001b[0;31m \u001b[0mdf_relab_asv\u001b[0m\u001b[0;34m.\u001b[0m\u001b[0mloc\u001b[0m\u001b[0;34m[\u001b[0m\u001b[0msamples_to_use\u001b[0m\u001b[0;34m]\u001b[0m\u001b[0;34m.\u001b[0m\u001b[0mloc\u001b[0m\u001b[0;34m[\u001b[0m\u001b[0;34m:\u001b[0m\u001b[0;34m,\u001b[0m \u001b[0;34m(\u001b[0m\u001b[0mdf_relab_asv\u001b[0m\u001b[0;34m.\u001b[0m\u001b[0mloc\u001b[0m\u001b[0;34m[\u001b[0m\u001b[0msamples_to_use\u001b[0m\u001b[0;34m]\u001b[0m \u001b[0;34m!=\u001b[0m \u001b[0;36m0\u001b[0m\u001b[0;34m)\u001b[0m\u001b[0;34m.\u001b[0m\u001b[0many\u001b[0m\u001b[0;34m(\u001b[0m\u001b[0maxis\u001b[0m\u001b[0;34m=\u001b[0m\u001b[0;36m0\u001b[0m\u001b[0;34m)\u001b[0m\u001b[0;34m]\u001b[0m\u001b[0;34m\u001b[0m\u001b[0;34m\u001b[0m\u001b[0m\n\u001b[0m",
      "\u001b[0;32m~/opt/anaconda3/lib/python3.8/site-packages/pandas/core/indexing.py\u001b[0m in \u001b[0;36m__getitem__\u001b[0;34m(self, key)\u001b[0m\n\u001b[1;32m    887\u001b[0m                     \u001b[0;31m# AttributeError for IntervalTree get_value\u001b[0m\u001b[0;34m\u001b[0m\u001b[0;34m\u001b[0m\u001b[0;34m\u001b[0m\u001b[0m\n\u001b[1;32m    888\u001b[0m                     \u001b[0;32mreturn\u001b[0m \u001b[0mself\u001b[0m\u001b[0;34m.\u001b[0m\u001b[0mobj\u001b[0m\u001b[0;34m.\u001b[0m\u001b[0m_get_value\u001b[0m\u001b[0;34m(\u001b[0m\u001b[0;34m*\u001b[0m\u001b[0mkey\u001b[0m\u001b[0;34m,\u001b[0m \u001b[0mtakeable\u001b[0m\u001b[0;34m=\u001b[0m\u001b[0mself\u001b[0m\u001b[0;34m.\u001b[0m\u001b[0m_takeable\u001b[0m\u001b[0;34m)\u001b[0m\u001b[0;34m\u001b[0m\u001b[0;34m\u001b[0m\u001b[0m\n\u001b[0;32m--> 889\u001b[0;31m             \u001b[0;32mreturn\u001b[0m \u001b[0mself\u001b[0m\u001b[0;34m.\u001b[0m\u001b[0m_getitem_tuple\u001b[0m\u001b[0;34m(\u001b[0m\u001b[0mkey\u001b[0m\u001b[0;34m)\u001b[0m\u001b[0;34m\u001b[0m\u001b[0;34m\u001b[0m\u001b[0m\n\u001b[0m\u001b[1;32m    890\u001b[0m         \u001b[0;32melse\u001b[0m\u001b[0;34m:\u001b[0m\u001b[0;34m\u001b[0m\u001b[0;34m\u001b[0m\u001b[0m\n\u001b[1;32m    891\u001b[0m             \u001b[0;31m# we by definition only have the 0th axis\u001b[0m\u001b[0;34m\u001b[0m\u001b[0;34m\u001b[0m\u001b[0;34m\u001b[0m\u001b[0m\n",
      "\u001b[0;32m~/opt/anaconda3/lib/python3.8/site-packages/pandas/core/indexing.py\u001b[0m in \u001b[0;36m_getitem_tuple\u001b[0;34m(self, tup)\u001b[0m\n\u001b[1;32m   1061\u001b[0m \u001b[0;34m\u001b[0m\u001b[0m\n\u001b[1;32m   1062\u001b[0m         \u001b[0;31m# no multi-index, so validate all of the indexers\u001b[0m\u001b[0;34m\u001b[0m\u001b[0;34m\u001b[0m\u001b[0;34m\u001b[0m\u001b[0m\n\u001b[0;32m-> 1063\u001b[0;31m         \u001b[0mself\u001b[0m\u001b[0;34m.\u001b[0m\u001b[0m_has_valid_tuple\u001b[0m\u001b[0;34m(\u001b[0m\u001b[0mtup\u001b[0m\u001b[0;34m)\u001b[0m\u001b[0;34m\u001b[0m\u001b[0;34m\u001b[0m\u001b[0m\n\u001b[0m\u001b[1;32m   1064\u001b[0m \u001b[0;34m\u001b[0m\u001b[0m\n\u001b[1;32m   1065\u001b[0m         \u001b[0;31m# ugly hack for GH #836\u001b[0m\u001b[0;34m\u001b[0m\u001b[0;34m\u001b[0m\u001b[0;34m\u001b[0m\u001b[0m\n",
      "\u001b[0;32m~/opt/anaconda3/lib/python3.8/site-packages/pandas/core/indexing.py\u001b[0m in \u001b[0;36m_has_valid_tuple\u001b[0;34m(self, key)\u001b[0m\n\u001b[1;32m    718\u001b[0m         \u001b[0mCheck\u001b[0m \u001b[0mthe\u001b[0m \u001b[0mkey\u001b[0m \u001b[0;32mfor\u001b[0m \u001b[0mvalid\u001b[0m \u001b[0mkeys\u001b[0m \u001b[0macross\u001b[0m \u001b[0mmy\u001b[0m \u001b[0mindexer\u001b[0m\u001b[0;34m.\u001b[0m\u001b[0;34m\u001b[0m\u001b[0;34m\u001b[0m\u001b[0m\n\u001b[1;32m    719\u001b[0m         \"\"\"\n\u001b[0;32m--> 720\u001b[0;31m         \u001b[0mself\u001b[0m\u001b[0;34m.\u001b[0m\u001b[0m_validate_key_length\u001b[0m\u001b[0;34m(\u001b[0m\u001b[0mkey\u001b[0m\u001b[0;34m)\u001b[0m\u001b[0;34m\u001b[0m\u001b[0;34m\u001b[0m\u001b[0m\n\u001b[0m\u001b[1;32m    721\u001b[0m         \u001b[0;32mfor\u001b[0m \u001b[0mi\u001b[0m\u001b[0;34m,\u001b[0m \u001b[0mk\u001b[0m \u001b[0;32min\u001b[0m \u001b[0menumerate\u001b[0m\u001b[0;34m(\u001b[0m\u001b[0mkey\u001b[0m\u001b[0;34m)\u001b[0m\u001b[0;34m:\u001b[0m\u001b[0;34m\u001b[0m\u001b[0;34m\u001b[0m\u001b[0m\n\u001b[1;32m    722\u001b[0m             \u001b[0;32mtry\u001b[0m\u001b[0;34m:\u001b[0m\u001b[0;34m\u001b[0m\u001b[0;34m\u001b[0m\u001b[0m\n",
      "\u001b[0;32m~/opt/anaconda3/lib/python3.8/site-packages/pandas/core/indexing.py\u001b[0m in \u001b[0;36m_validate_key_length\u001b[0;34m(self, key)\u001b[0m\n\u001b[1;32m    759\u001b[0m     \u001b[0;32mdef\u001b[0m \u001b[0m_validate_key_length\u001b[0m\u001b[0;34m(\u001b[0m\u001b[0mself\u001b[0m\u001b[0;34m,\u001b[0m \u001b[0mkey\u001b[0m\u001b[0;34m:\u001b[0m \u001b[0mSequence\u001b[0m\u001b[0;34m[\u001b[0m\u001b[0mAny\u001b[0m\u001b[0;34m]\u001b[0m\u001b[0;34m)\u001b[0m \u001b[0;34m->\u001b[0m \u001b[0;32mNone\u001b[0m\u001b[0;34m:\u001b[0m\u001b[0;34m\u001b[0m\u001b[0;34m\u001b[0m\u001b[0m\n\u001b[1;32m    760\u001b[0m         \u001b[0;32mif\u001b[0m \u001b[0mlen\u001b[0m\u001b[0;34m(\u001b[0m\u001b[0mkey\u001b[0m\u001b[0;34m)\u001b[0m \u001b[0;34m>\u001b[0m \u001b[0mself\u001b[0m\u001b[0;34m.\u001b[0m\u001b[0mndim\u001b[0m\u001b[0;34m:\u001b[0m\u001b[0;34m\u001b[0m\u001b[0;34m\u001b[0m\u001b[0m\n\u001b[0;32m--> 761\u001b[0;31m             \u001b[0;32mraise\u001b[0m \u001b[0mIndexingError\u001b[0m\u001b[0;34m(\u001b[0m\u001b[0;34m\"Too many indexers\"\u001b[0m\u001b[0;34m)\u001b[0m\u001b[0;34m\u001b[0m\u001b[0;34m\u001b[0m\u001b[0m\n\u001b[0m\u001b[1;32m    762\u001b[0m \u001b[0;34m\u001b[0m\u001b[0m\n\u001b[1;32m    763\u001b[0m     \u001b[0;32mdef\u001b[0m \u001b[0m_getitem_tuple_same_dim\u001b[0m\u001b[0;34m(\u001b[0m\u001b[0mself\u001b[0m\u001b[0;34m,\u001b[0m \u001b[0mtup\u001b[0m\u001b[0;34m:\u001b[0m \u001b[0mTuple\u001b[0m\u001b[0;34m)\u001b[0m\u001b[0;34m:\u001b[0m\u001b[0;34m\u001b[0m\u001b[0;34m\u001b[0m\u001b[0m\n",
      "\u001b[0;31mIndexingError\u001b[0m: Too many indexers"
     ]
    }
   ],
   "source": [
    "df_relab_asv.loc[samples_to_use].loc[:, (df_relab_asv.loc[samples_to_use] != 0).any(axis=0)]"
   ]
  },
  {
   "cell_type": "markdown",
   "id": "44b204ff-171d-421d-87c1-dbe4aa990231",
   "metadata": {},
   "source": [
    "# Output shotgun results"
   ]
  },
  {
   "cell_type": "code",
   "execution_count": null,
   "id": "dbbcfdd9-7462-452c-a0ec-8c8a2057b3e8",
   "metadata": {},
   "outputs": [],
   "source": []
  },
  {
   "cell_type": "code",
   "execution_count": null,
   "id": "160a00f1-b28e-44b6-829b-733291c831a6",
   "metadata": {},
   "outputs": [],
   "source": []
  },
  {
   "cell_type": "code",
   "execution_count": null,
   "id": "cab2365f-0d23-458f-9b58-a6fdc479707c",
   "metadata": {},
   "outputs": [],
   "source": []
  },
  {
   "cell_type": "code",
   "execution_count": null,
   "id": "8b6e7a86-9e80-492d-9b66-317ec8e1b26e",
   "metadata": {},
   "outputs": [],
   "source": []
  },
  {
   "cell_type": "code",
   "execution_count": null,
   "id": "8af18464-c939-4407-a184-505a066125bc",
   "metadata": {},
   "outputs": [],
   "source": []
  }
 ],
 "metadata": {
  "kernelspec": {
   "display_name": "Python 3",
   "language": "python",
   "name": "python3"
  },
  "language_info": {
   "codemirror_mode": {
    "name": "ipython",
    "version": 3
   },
   "file_extension": ".py",
   "mimetype": "text/x-python",
   "name": "python",
   "nbconvert_exporter": "python",
   "pygments_lexer": "ipython3",
   "version": "3.8.5"
  }
 },
 "nbformat": 4,
 "nbformat_minor": 5
}
