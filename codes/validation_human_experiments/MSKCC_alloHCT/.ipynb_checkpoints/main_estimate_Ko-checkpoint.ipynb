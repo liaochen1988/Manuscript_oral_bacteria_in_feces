{
 "cells": [
  {
   "cell_type": "code",
   "execution_count": 1,
   "id": "e2067d67-1cb7-4706-9294-e1afa274239b",
   "metadata": {},
   "outputs": [],
   "source": [
    "import pandas as pd\n",
    "import numpy as np\n",
    "from copy import deepcopy\n",
    "from scipy.optimize import lsq_linear"
   ]
  },
  {
   "cell_type": "markdown",
   "id": "6fc73011-1a23-41cb-a9f9-13b4c7b70759",
   "metadata": {},
   "source": [
    "# Load metadata and count table"
   ]
  },
  {
   "cell_type": "code",
   "execution_count": 6,
   "id": "3f3333f5-d40c-4cdd-b625-2701d7a2aa94",
   "metadata": {},
   "outputs": [],
   "source": [
    "# read sample meta data and eliminate samples without transplant day\n",
    "df_sample = pd.read_csv('tblASVsamples.csv', index_col=0)\n",
    "df_sample = df_sample[df_sample.DayRelativeToNearestHCT.notnull()]\n",
    "\n",
    "# read count data\n",
    "df_count = pd.read_csv('tblcounts_asv_melt.csv')\n",
    "df_count = pd.pivot_table(df_count, index='SampleID', columns='ASV', values='Count', aggfunc=np.sum).fillna(0)\n",
    "sample_ids_w_suff_reads = list(df_count.sum(axis=1)[df_count.sum(axis=1)>=1000].index)\n",
    "df_count = df_count.loc[set(df_sample.index).intersection(set(sample_ids_w_suff_reads))]\n",
    "df_relab =  df_count.div(df_count.sum(axis=1), axis=0)\n",
    "                         \n",
    "# find commmon samples\n",
    "common_samples = set(df_sample.index).intersection(set(df_relab.index))\n",
    "df_sample = df_sample.loc[common_samples]\n",
    "df_relab = df_relab.loc[common_samples]"
   ]
  },
  {
   "cell_type": "markdown",
   "id": "278b565e-6bcf-47c8-92c0-829a2a0c62f3",
   "metadata": {},
   "source": [
    "# Compute oral fraction"
   ]
  },
  {
   "cell_type": "code",
   "execution_count": 7,
   "id": "9d5c4764-b9b6-47b6-9f2f-fc7c32096c7a",
   "metadata": {},
   "outputs": [
    {
     "data": {
      "text/html": [
       "<div>\n",
       "<style scoped>\n",
       "    .dataframe tbody tr th:only-of-type {\n",
       "        vertical-align: middle;\n",
       "    }\n",
       "\n",
       "    .dataframe tbody tr th {\n",
       "        vertical-align: top;\n",
       "    }\n",
       "\n",
       "    .dataframe thead th {\n",
       "        text-align: right;\n",
       "    }\n",
       "</style>\n",
       "<table border=\"1\" class=\"dataframe\">\n",
       "  <thead>\n",
       "    <tr style=\"text-align: right;\">\n",
       "      <th></th>\n",
       "      <th>OralFrac_HMPv35oral</th>\n",
       "    </tr>\n",
       "    <tr>\n",
       "      <th>SampleID</th>\n",
       "      <th></th>\n",
       "    </tr>\n",
       "  </thead>\n",
       "  <tbody>\n",
       "    <tr>\n",
       "      <th>1001</th>\n",
       "      <td>0.0</td>\n",
       "    </tr>\n",
       "    <tr>\n",
       "      <th>1002</th>\n",
       "      <td>0.0</td>\n",
       "    </tr>\n",
       "    <tr>\n",
       "      <th>1008</th>\n",
       "      <td>0.0</td>\n",
       "    </tr>\n",
       "    <tr>\n",
       "      <th>1017</th>\n",
       "      <td>0.0</td>\n",
       "    </tr>\n",
       "    <tr>\n",
       "      <th>103A</th>\n",
       "      <td>0.0</td>\n",
       "    </tr>\n",
       "  </tbody>\n",
       "</table>\n",
       "</div>"
      ],
      "text/plain": [
       "          OralFrac_HMPv35oral\n",
       "SampleID                     \n",
       "1001                      0.0\n",
       "1002                      0.0\n",
       "1008                      0.0\n",
       "1017                      0.0\n",
       "103A                      0.0"
      ]
     },
     "execution_count": 7,
     "metadata": {},
     "output_type": "execute_result"
    }
   ],
   "source": [
    "# get oral bacterial fraction\n",
    "df_blast = pd.read_csv(\"blast_HMPv35oral/blast_HMPv35oral_p100.txt\", sep=\"\\t\", comment=\"#\", header=None)\n",
    "df_blast.columns = ['query_accver', 'subject_accver', 'perc_identity', 'alignment_length', 'mismatches', 'gap_opens', 'qstart', 'qend', 'sstart', 'send', 'evalue', 'bitscore']#\n",
    "df_oral_total = df_relab[set(df_blast.query_accver).intersection(df_relab.columns)].sum(axis=1).to_frame()\n",
    "df_oral_total.columns = ['OralFrac_HMPv35oral']\n",
    "df_oral_total = df_oral_total.reset_index('SampleID').sort_values(['OralFrac_HMPv35oral','SampleID']).set_index('SampleID')\n",
    "df_oral_total.head()"
   ]
  },
  {
   "cell_type": "markdown",
   "id": "bb582ab9-dbd5-42bb-be89-bb9639475250",
   "metadata": {},
   "source": [
    "# Load qPCR table"
   ]
  },
  {
   "cell_type": "code",
   "execution_count": 8,
   "id": "9b3abe41-a5ad-47a5-a078-02d17352660f",
   "metadata": {},
   "outputs": [
    {
     "data": {
      "text/html": [
       "<div>\n",
       "<style scoped>\n",
       "    .dataframe tbody tr th:only-of-type {\n",
       "        vertical-align: middle;\n",
       "    }\n",
       "\n",
       "    .dataframe tbody tr th {\n",
       "        vertical-align: top;\n",
       "    }\n",
       "\n",
       "    .dataframe thead th {\n",
       "        text-align: right;\n",
       "    }\n",
       "</style>\n",
       "<table border=\"1\" class=\"dataframe\">\n",
       "  <thead>\n",
       "    <tr style=\"text-align: right;\">\n",
       "      <th></th>\n",
       "      <th>qPCR16S</th>\n",
       "    </tr>\n",
       "    <tr>\n",
       "      <th>SampleID</th>\n",
       "      <th></th>\n",
       "    </tr>\n",
       "  </thead>\n",
       "  <tbody>\n",
       "    <tr>\n",
       "      <th>1015A</th>\n",
       "      <td>5.379385e+07</td>\n",
       "    </tr>\n",
       "    <tr>\n",
       "      <th>1015D</th>\n",
       "      <td>3.877487e+03</td>\n",
       "    </tr>\n",
       "    <tr>\n",
       "      <th>1015G</th>\n",
       "      <td>5.280994e+06</td>\n",
       "    </tr>\n",
       "    <tr>\n",
       "      <th>1015H</th>\n",
       "      <td>7.332446e+05</td>\n",
       "    </tr>\n",
       "    <tr>\n",
       "      <th>1016A</th>\n",
       "      <td>5.752710e+06</td>\n",
       "    </tr>\n",
       "  </tbody>\n",
       "</table>\n",
       "</div>"
      ],
      "text/plain": [
       "               qPCR16S\n",
       "SampleID              \n",
       "1015A     5.379385e+07\n",
       "1015D     3.877487e+03\n",
       "1015G     5.280994e+06\n",
       "1015H     7.332446e+05\n",
       "1016A     5.752710e+06"
      ]
     },
     "execution_count": 8,
     "metadata": {},
     "output_type": "execute_result"
    }
   ],
   "source": [
    "df_qpcr = pd.read_csv(\"tblqpcr.csv\", index_col=0)\n",
    "df_qpcr.head()"
   ]
  },
  {
   "cell_type": "markdown",
   "id": "9b88e9d5-ecba-43ee-ac6c-8447b0c08dde",
   "metadata": {},
   "source": [
    "# Load antibiotic table"
   ]
  },
  {
   "cell_type": "code",
   "execution_count": 9,
   "id": "97b1dc44-7a78-4f34-bf42-8641fd688c13",
   "metadata": {},
   "outputs": [
    {
     "data": {
      "text/html": [
       "<div>\n",
       "<style scoped>\n",
       "    .dataframe tbody tr th:only-of-type {\n",
       "        vertical-align: middle;\n",
       "    }\n",
       "\n",
       "    .dataframe tbody tr th {\n",
       "        vertical-align: top;\n",
       "    }\n",
       "\n",
       "    .dataframe thead th {\n",
       "        text-align: right;\n",
       "    }\n",
       "</style>\n",
       "<table border=\"1\" class=\"dataframe\">\n",
       "  <thead>\n",
       "    <tr style=\"text-align: right;\">\n",
       "      <th></th>\n",
       "      <th>PatientID</th>\n",
       "      <th>Factor</th>\n",
       "      <th>Category</th>\n",
       "      <th>AntiInfective</th>\n",
       "      <th>Route</th>\n",
       "      <th>Timepoint</th>\n",
       "      <th>DayRelativeToNearestHCT</th>\n",
       "    </tr>\n",
       "  </thead>\n",
       "  <tbody>\n",
       "    <tr>\n",
       "      <th>0</th>\n",
       "      <td>1000</td>\n",
       "      <td>ciprofloxacin</td>\n",
       "      <td>quinolones</td>\n",
       "      <td>True</td>\n",
       "      <td>intravenous</td>\n",
       "      <td>-160</td>\n",
       "      <td>-169</td>\n",
       "    </tr>\n",
       "    <tr>\n",
       "      <th>2</th>\n",
       "      <td>1000</td>\n",
       "      <td>aztreonam</td>\n",
       "      <td>miscellaneous antibiotics</td>\n",
       "      <td>True</td>\n",
       "      <td>intravenous</td>\n",
       "      <td>-151</td>\n",
       "      <td>-160</td>\n",
       "    </tr>\n",
       "    <tr>\n",
       "      <th>3</th>\n",
       "      <td>1000</td>\n",
       "      <td>vancomycin</td>\n",
       "      <td>glycopeptide antibiotics</td>\n",
       "      <td>True</td>\n",
       "      <td>intravenous</td>\n",
       "      <td>-151</td>\n",
       "      <td>-160</td>\n",
       "    </tr>\n",
       "    <tr>\n",
       "      <th>4</th>\n",
       "      <td>1000</td>\n",
       "      <td>aztreonam</td>\n",
       "      <td>miscellaneous antibiotics</td>\n",
       "      <td>True</td>\n",
       "      <td>intravenous</td>\n",
       "      <td>-150</td>\n",
       "      <td>-159</td>\n",
       "    </tr>\n",
       "    <tr>\n",
       "      <th>6</th>\n",
       "      <td>1000</td>\n",
       "      <td>vancomycin</td>\n",
       "      <td>glycopeptide antibiotics</td>\n",
       "      <td>True</td>\n",
       "      <td>intravenous</td>\n",
       "      <td>-150</td>\n",
       "      <td>-159</td>\n",
       "    </tr>\n",
       "  </tbody>\n",
       "</table>\n",
       "</div>"
      ],
      "text/plain": [
       "  PatientID         Factor                   Category  AntiInfective  \\\n",
       "0      1000  ciprofloxacin                 quinolones           True   \n",
       "2      1000      aztreonam  miscellaneous antibiotics           True   \n",
       "3      1000     vancomycin   glycopeptide antibiotics           True   \n",
       "4      1000      aztreonam  miscellaneous antibiotics           True   \n",
       "6      1000     vancomycin   glycopeptide antibiotics           True   \n",
       "\n",
       "         Route  Timepoint  DayRelativeToNearestHCT  \n",
       "0  intravenous       -160                     -169  \n",
       "2  intravenous       -151                     -160  \n",
       "3  intravenous       -151                     -160  \n",
       "4  intravenous       -150                     -159  \n",
       "6  intravenous       -150                     -159  "
      ]
     },
     "execution_count": 9,
     "metadata": {},
     "output_type": "execute_result"
    }
   ],
   "source": [
    "df_drug = pd.read_csv(\"tbldrug.csv\", low_memory=False)\n",
    "df_drug = df_drug[df_drug.AntiInfective==True].reset_index(drop=True)\n",
    "\n",
    "# convert to single day entry\n",
    "df_drug_single_day = []\n",
    "for index in df_drug.index:\n",
    "    start_tps = df_drug.loc[index,'StartTimepoint']\n",
    "    stop_tps = df_drug.loc[index,'StopTimepoint']\n",
    "    start_day = df_drug.loc[index,'StartDayRelativeToNearestHCT']\n",
    "    for timepoint in np.arange(start_tps,stop_tps+1):\n",
    "        res = list(df_drug.loc[index])\n",
    "        res.append(timepoint)\n",
    "        res.append(timepoint-start_tps+start_day)\n",
    "        df_drug_single_day.append(res)\n",
    "df_drug_single_day = pd.DataFrame(df_drug_single_day, columns=list(df_drug.columns)+['Timepoint','DayRelativeToNearestHCT'])\n",
    "df_drug_single_day = df_drug_single_day.drop(['StartTimepoint','StopTimepoint','StartDayRelativeToNearestHCT','StopDayRelativeToNearestHCT'], axis=1)\n",
    "df_drug = deepcopy(df_drug_single_day)\n",
    "df_drug = df_drug[df_drug.DayRelativeToNearestHCT.notnull()]\n",
    "df_drug = df_drug.drop_duplicates()\n",
    "\n",
    "# only keep antibiotics\n",
    "df_drug = df_drug[df_drug.Category.isin(['aminoglycosides','carbapenems','cephalosporins','glycopeptide antibiotics','glycylcyclines',\n",
    "                                         'leprostatics','lincomycin derivatives','macrolide derivatives','miscellaneous antibiotics',\n",
    "                                         'oxazolidinone antibiotics', 'penicillins','quinolones','sulfonamides','tetracyclines'])]\n",
    "\n",
    "\n",
    "df_drug.head()"
   ]
  },
  {
   "cell_type": "markdown",
   "id": "0af7648e-223f-44d6-bcec-774e568d346f",
   "metadata": {},
   "source": [
    "# Find samples >=X% oral bacteria, no antibiotioc on that day and qPCR are available"
   ]
  },
  {
   "cell_type": "code",
   "execution_count": null,
   "id": "497a2945-ea8a-4aed-96ad-511f457e2b59",
   "metadata": {},
   "outputs": [],
   "source": [
    "for perc in [0.3,0.4,0.5,0.6,0.7]:\n",
    "    res = []\n",
    "    pid_visited = []\n",
    "    a = []\n",
    "    b = []\n",
    "    for sid in df_oral_total[df_oral_total.OralFrac_HMPv35oral>=perc].index:\n",
    "        tps = df_sample.loc[sid,'Timepoint']\n",
    "        pid = df_sample.loc[sid,'PatientID']\n",
    "        if pid in pid_visited:\n",
    "            continue\n",
    "        curr_df_drug = df_drug[(df_drug.PatientID==pid) & (df_drug.Timepoint==tps)]\n",
    "\n",
    "        # no antibiotic use on the day of the sample collection\n",
    "        if len(curr_df_drug)==0:\n",
    "\n",
    "            # find out all samples that do not have antibiotics\n",
    "            curr_df_sample = df_sample[df_sample.PatientID==pid]\n",
    "            curr_df_drug = df_drug[(df_drug.PatientID==pid)]\n",
    "            filtered_curr_df_sample = curr_df_sample[~curr_df_sample.Timepoint.isin(list(curr_df_drug.Timepoint))]\n",
    "            filtered_curr_df_sample = pd.merge(filtered_curr_df_sample, df_oral_total, left_index=True, right_index=True)\n",
    "            filtered_curr_df_sample = pd.merge(filtered_curr_df_sample, df_qpcr, left_index=True, right_index=True).sort_values('Timepoint')\n",
    "            if len(filtered_curr_df_sample) == 0:\n",
    "                continue\n",
    "\n",
    "            # solve a linear regression problem\n",
    "            for x,y in zip(filtered_curr_df_sample.OralFrac_HMPv35oral, filtered_curr_df_sample.qPCR16S):\n",
    "                a.append([y*x, y*(1-x)])\n",
    "                b.append(1)\n",
    "            pid_visited.append(pid)\n",
    "    a = np.array(a)\n",
    "    b = np.array(b)\n",
    "    res=lsq_linear(a,b,lsmr_tol='auto', verbose=0)\n",
    "    K_o,K_g = 1./res.x\n",
    "    print(perc, len(pid_visited), \"K_g/K_o = %2.2f\" % (K_g/K_o))"
   ]
  },
  {
   "cell_type": "code",
   "execution_count": 10,
   "id": "b7b1fc04-a129-46a0-94c0-034cbb29712b",
   "metadata": {},
   "outputs": [
    {
     "data": {
      "text/plain": [
       "1385856668.248695"
      ]
     },
     "execution_count": 10,
     "metadata": {},
     "output_type": "execute_result"
    }
   ],
   "source": [
    "2.92e10/21.07"
   ]
  },
  {
   "cell_type": "code",
   "execution_count": null,
   "id": "b40354ca-b488-42c1-bf3f-a99912b15886",
   "metadata": {},
   "outputs": [],
   "source": []
  }
 ],
 "metadata": {
  "kernelspec": {
   "display_name": "Python 3 (ipykernel)",
   "language": "python",
   "name": "python3"
  },
  "language_info": {
   "codemirror_mode": {
    "name": "ipython",
    "version": 3
   },
   "file_extension": ".py",
   "mimetype": "text/x-python",
   "name": "python",
   "nbconvert_exporter": "python",
   "pygments_lexer": "ipython3",
   "version": "3.9.9"
  }
 },
 "nbformat": 4,
 "nbformat_minor": 5
}
