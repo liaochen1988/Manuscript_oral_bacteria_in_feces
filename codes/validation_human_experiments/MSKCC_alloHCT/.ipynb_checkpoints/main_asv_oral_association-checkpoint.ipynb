{
 "cells": [
  {
   "cell_type": "code",
   "execution_count": 10,
   "id": "29876920-c737-4c30-b692-21d3d935fb6b",
   "metadata": {},
   "outputs": [],
   "source": [
    "import pandas as pd\n",
    "import numpy as np\n",
    "import matplotlib.pyplot as plt\n",
    "import seaborn as sns\n",
    "from copy import deepcopy\n",
    "from skbio.diversity.alpha import shannon\n",
    "from sklearn.metrics import pairwise_distances\n",
    "from collections import Counter\n",
    "import scipy.cluster.hierarchy as sch\n",
    "from scipy.spatial.distance import squareform\n",
    "from scipy.stats import spearmanr,kendalltau\n",
    "from scipy.cluster.hierarchy import leaves_list\n",
    "from scipy import stats\n",
    "from statsmodels.stats.multitest import multipletests"
   ]
  },
  {
   "cell_type": "code",
   "execution_count": 2,
   "id": "a4a2af71-b188-4d80-a611-74eead45a2d7",
   "metadata": {},
   "outputs": [
    {
     "name": "stdout",
     "output_type": "stream",
     "text": [
      "min seq depth = 1001\n"
     ]
    }
   ],
   "source": [
    "# read sample meta data and eliminate samples without transplant day\n",
    "df_sample = pd.read_csv('tblASVsamples.csv', index_col=0)\n",
    "df_sample = df_sample[df_sample.DayRelativeToNearestHCT.notnull()]\n",
    "\n",
    "# read count data\n",
    "df_count_stacked = pd.read_csv('tblcounts_asv_melt.csv')\n",
    "df_count_stacked = pd.pivot_table(df_count_stacked, index='SampleID', columns='ASV', values='Count', aggfunc=np.sum).fillna(0)\n",
    "df_count_stacked = df_count_stacked[df_count_stacked.sum(axis=1)>=1000]\n",
    "df_count_stacked = df_count_stacked.loc[:, (df_count_stacked != 0).any(axis=0)]\n",
    "print(\"min seq depth = %d\" %(df_count_stacked.sum(axis=1).min()))\n",
    "df_relab_asv =  df_count_stacked.div(df_count_stacked.sum(axis=1), axis=0)\n",
    "\n",
    "# find commmon samples\n",
    "common_samples = set(df_sample.index).intersection(set(df_relab_asv.index))\n",
    "df_sample = df_sample.loc[common_samples]\n",
    "df_relab_asv = df_relab_asv.loc[common_samples]"
   ]
  },
  {
   "cell_type": "code",
   "execution_count": 8,
   "id": "efa92479-552e-45fd-8fb6-a529dec2db57",
   "metadata": {},
   "outputs": [],
   "source": [
    "# get oral bacterial fraction\n",
    "df_blast_100 = pd.read_csv(\"blast_HMPv35oral/blast_HMPv35oral_p100.txt\", sep=\"\\t\", comment=\"#\", header=None)\n",
    "df_blast_100.columns = ['query_accver', 'subject_accver', 'perc_identity', 'alignment_length', 'mismatches', 'gap_opens', 'qstart', 'qend', 'sstart', 'send', 'evalue', 'bitscore']#\n",
    "df_oral_total = df_relab_asv[set(df_blast_100.query_accver).intersection(df_relab_asv.columns)].sum(axis=1).to_frame()\n",
    "df_oral_total.columns = ['OralFrac_HMPv35oral']\n",
    "df_oral_total = df_oral_total.reset_index('SampleID').sort_values(['OralFrac_HMPv35oral','SampleID']).set_index('SampleID')\n",
    "df_oral_asv = pd.merge(df_oral_total, df_relab_asv, left_index=True, right_index=True, how='inner')"
   ]
  },
  {
   "cell_type": "code",
   "execution_count": null,
   "id": "3df66035-9c0c-4334-849f-6566cf638ca8",
   "metadata": {},
   "outputs": [
    {
     "name": "stderr",
     "output_type": "stream",
     "text": [
      "/Users/liaoc/opt/anaconda3/lib/python3.8/site-packages/scipy/stats/_stats_py.py:4529: SpearmanRConstantInputWarning: An input array is constant; the correlation coefficient is not defined.\n",
      "  warnings.warn(SpearmanRConstantInputWarning())\n"
     ]
    }
   ],
   "source": [
    "res = []\n",
    "for col in df_oral_asv.columns:\n",
    "    rho, p = stats.spearmanr(df_oral_asv.OralFrac_HMPv35oral, df_oral_asv[col])\n",
    "    res.append([col, rho, p])\n",
    "df_res = pd.DataFrame(res, columns=['ASV','Coef','P'])\n",
    "df_res = df_res[df_res.P.notnull()]\n",
    "df_res['Padj'] = multipletests(df_res['P'], alpha=0.05, method='fdr_bh')[1]\n",
    "df_res['Is_Oral'] = 0\n",
    "df_res.loc[df_res.ASV.isin(df_blast_100.query_accver), 'Is_Oral'] = 1\n",
    "df_tax = pd.read_csv('tblASVtaxonomy_silva138_v4v5_filter.csv')\n",
    "df_res = pd.merge(df_res, df_tax[['ASV','LowestClassifiedTaxa']], left_on='ASV', right_on='ASV', how='left')\n",
    "df_res.head()"
   ]
  },
  {
   "cell_type": "code",
   "execution_count": null,
   "id": "400981e5-f501-4ffa-a034-9a6e598bcad8",
   "metadata": {},
   "outputs": [],
   "source": []
  },
  {
   "cell_type": "code",
   "execution_count": null,
   "id": "5dcf18a8-001c-467b-9bba-695505673097",
   "metadata": {},
   "outputs": [],
   "source": []
  },
  {
   "cell_type": "code",
   "execution_count": null,
   "id": "3641397d-65db-45d4-81a6-5264b9843498",
   "metadata": {},
   "outputs": [],
   "source": []
  }
 ],
 "metadata": {
  "kernelspec": {
   "display_name": "Python 3",
   "language": "python",
   "name": "python3"
  },
  "language_info": {
   "codemirror_mode": {
    "name": "ipython",
    "version": 3
   },
   "file_extension": ".py",
   "mimetype": "text/x-python",
   "name": "python",
   "nbconvert_exporter": "python",
   "pygments_lexer": "ipython3",
   "version": "3.8.5"
  }
 },
 "nbformat": 4,
 "nbformat_minor": 5
}
