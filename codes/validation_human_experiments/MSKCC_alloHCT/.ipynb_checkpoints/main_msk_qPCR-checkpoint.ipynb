{
 "cells": [
  {
   "cell_type": "code",
   "execution_count": 11,
   "id": "7211d36e-e21b-4763-a9d9-fd6a6a81b914",
   "metadata": {},
   "outputs": [],
   "source": [
    "import pandas as pd\n",
    "import numpy as np\n",
    "import matplotlib.pyplot as plt\n",
    "%matplotlib inline\n",
    "import scipy\n",
    "from scipy import stats\n",
    "import seaborn as sns\n",
    "from copy import deepcopy\n",
    "from statsmodels.stats.multitest import multipletests\n",
    "import scipy.stats as stats\n",
    "from scipy.stats import pearsonr\n",
    "from joblib import Parallel, delayed\n",
    "from statannot import add_stat_annotation\n",
    "from scipy.interpolate import interp1d\n",
    "from sklearn.metrics import r2_score\n",
    "from scipy.optimize import curve_fit\n",
    "from sklearn.linear_model import HuberRegressor\n",
    "from collections import Counter"
   ]
  },
  {
   "cell_type": "markdown",
   "id": "416198ed-c3e6-40f2-bf4b-bf9f50d80565",
   "metadata": {},
   "source": [
    "# Load sample metadata and count table"
   ]
  },
  {
   "cell_type": "code",
   "execution_count": 2,
   "id": "69965056-71af-4967-8bc7-c50b01acd88b",
   "metadata": {},
   "outputs": [],
   "source": [
    "# read sample meta data and eliminate samples without transplant day\n",
    "df_sample = pd.read_csv('tblASVsamples.csv', index_col=0)\n",
    "\n",
    "# read count data\n",
    "df_count = pd.read_csv('tblcounts_asv_melt.csv')\n",
    "df_count = pd.pivot_table(df_count, index='SampleID', columns='ASV', values='Count', aggfunc=np.sum).fillna(0)\n",
    "sample_ids_w_suff_reads = list(df_count.sum(axis=1)[df_count.sum(axis=1)>=1000].index)\n",
    "df_count = df_count.loc[set(df_sample.index).intersection(set(sample_ids_w_suff_reads))]\n",
    "df_relab_asv =  df_count.div(df_count.sum(axis=1), axis=0)\n",
    "\n",
    "# find commmon samples\n",
    "common_samples = set(df_sample.index).intersection(set(df_relab_asv.index))\n",
    "df_sample = df_sample.loc[common_samples]\n",
    "df_relab_asv = df_relab_asv.loc[common_samples]"
   ]
  },
  {
   "cell_type": "markdown",
   "id": "a6cb9daa-79ed-4e9a-93d6-060e7882c7e0",
   "metadata": {},
   "source": [
    "# Compute oral percentage and qPCR"
   ]
  },
  {
   "cell_type": "code",
   "execution_count": 3,
   "id": "aa22a3d0-0ec8-4a69-92ce-4f4ab21ad038",
   "metadata": {},
   "outputs": [
    {
     "name": "stderr",
     "output_type": "stream",
     "text": [
      "/Users/liaoc/opt/anaconda3/lib/python3.8/site-packages/pandas/core/arraylike.py:358: RuntimeWarning: divide by zero encountered in log10\n",
      "  result = getattr(ufunc, method)(*inputs, **kwargs)\n"
     ]
    },
    {
     "data": {
      "text/html": [
       "<div>\n",
       "<style scoped>\n",
       "    .dataframe tbody tr th:only-of-type {\n",
       "        vertical-align: middle;\n",
       "    }\n",
       "\n",
       "    .dataframe tbody tr th {\n",
       "        vertical-align: top;\n",
       "    }\n",
       "\n",
       "    .dataframe thead th {\n",
       "        text-align: right;\n",
       "    }\n",
       "</style>\n",
       "<table border=\"1\" class=\"dataframe\">\n",
       "  <thead>\n",
       "    <tr style=\"text-align: right;\">\n",
       "      <th></th>\n",
       "      <th>OralFrac_filteredHOMD</th>\n",
       "      <th>log10_OralFrac_filteredHOMD</th>\n",
       "      <th>qPCR16S</th>\n",
       "      <th>log10_qPCR16S</th>\n",
       "      <th>PatientID</th>\n",
       "      <th>Timepoint</th>\n",
       "      <th>Consistency</th>\n",
       "      <th>Accession</th>\n",
       "      <th>BioProject</th>\n",
       "      <th>DayRelativeToNearestHCT</th>\n",
       "    </tr>\n",
       "    <tr>\n",
       "      <th>SampleID</th>\n",
       "      <th></th>\n",
       "      <th></th>\n",
       "      <th></th>\n",
       "      <th></th>\n",
       "      <th></th>\n",
       "      <th></th>\n",
       "      <th></th>\n",
       "      <th></th>\n",
       "      <th></th>\n",
       "      <th></th>\n",
       "    </tr>\n",
       "  </thead>\n",
       "  <tbody>\n",
       "    <tr>\n",
       "      <th>FMT.0106M</th>\n",
       "      <td>0.000060</td>\n",
       "      <td>-4.219279</td>\n",
       "      <td>1.080924e+08</td>\n",
       "      <td>8.033795</td>\n",
       "      <td>FMT.0106</td>\n",
       "      <td>28</td>\n",
       "      <td>liquid</td>\n",
       "      <td>SRR11421877</td>\n",
       "      <td>PRJNA545312</td>\n",
       "      <td>13.0</td>\n",
       "    </tr>\n",
       "    <tr>\n",
       "      <th>2163I</th>\n",
       "      <td>0.000070</td>\n",
       "      <td>-4.153200</td>\n",
       "      <td>2.594621e+07</td>\n",
       "      <td>7.414074</td>\n",
       "      <td>2163</td>\n",
       "      <td>11</td>\n",
       "      <td>liquid</td>\n",
       "      <td>SRR11117148</td>\n",
       "      <td>PRJNA607574</td>\n",
       "      <td>8.0</td>\n",
       "    </tr>\n",
       "    <tr>\n",
       "      <th>2163J</th>\n",
       "      <td>0.000098</td>\n",
       "      <td>-4.008491</td>\n",
       "      <td>6.648320e+06</td>\n",
       "      <td>6.822712</td>\n",
       "      <td>2163</td>\n",
       "      <td>15</td>\n",
       "      <td>liquid</td>\n",
       "      <td>SRR11117147</td>\n",
       "      <td>PRJNA607574</td>\n",
       "      <td>12.0</td>\n",
       "    </tr>\n",
       "    <tr>\n",
       "      <th>1842Q</th>\n",
       "      <td>0.000108</td>\n",
       "      <td>-3.967548</td>\n",
       "      <td>1.054196e+06</td>\n",
       "      <td>6.022921</td>\n",
       "      <td>1842</td>\n",
       "      <td>36</td>\n",
       "      <td>formed</td>\n",
       "      <td>SRR11115175</td>\n",
       "      <td>PRJNA607574</td>\n",
       "      <td>29.0</td>\n",
       "    </tr>\n",
       "    <tr>\n",
       "      <th>1842P</th>\n",
       "      <td>0.000111</td>\n",
       "      <td>-3.956350</td>\n",
       "      <td>6.300635e+04</td>\n",
       "      <td>4.799384</td>\n",
       "      <td>1842</td>\n",
       "      <td>35</td>\n",
       "      <td>liquid</td>\n",
       "      <td>SRR11115176</td>\n",
       "      <td>PRJNA607574</td>\n",
       "      <td>28.0</td>\n",
       "    </tr>\n",
       "  </tbody>\n",
       "</table>\n",
       "</div>"
      ],
      "text/plain": [
       "           OralFrac_filteredHOMD  log10_OralFrac_filteredHOMD       qPCR16S  \\\n",
       "SampleID                                                                      \n",
       "FMT.0106M               0.000060                    -4.219279  1.080924e+08   \n",
       "2163I                   0.000070                    -4.153200  2.594621e+07   \n",
       "2163J                   0.000098                    -4.008491  6.648320e+06   \n",
       "1842Q                   0.000108                    -3.967548  1.054196e+06   \n",
       "1842P                   0.000111                    -3.956350  6.300635e+04   \n",
       "\n",
       "           log10_qPCR16S PatientID  Timepoint Consistency    Accession  \\\n",
       "SampleID                                                                 \n",
       "FMT.0106M       8.033795  FMT.0106         28      liquid  SRR11421877   \n",
       "2163I           7.414074      2163         11      liquid  SRR11117148   \n",
       "2163J           6.822712      2163         15      liquid  SRR11117147   \n",
       "1842Q           6.022921      1842         36      formed  SRR11115175   \n",
       "1842P           4.799384      1842         35      liquid  SRR11115176   \n",
       "\n",
       "            BioProject  DayRelativeToNearestHCT  \n",
       "SampleID                                         \n",
       "FMT.0106M  PRJNA545312                     13.0  \n",
       "2163I      PRJNA607574                      8.0  \n",
       "2163J      PRJNA607574                     12.0  \n",
       "1842Q      PRJNA607574                     29.0  \n",
       "1842P      PRJNA607574                     28.0  "
      ]
     },
     "execution_count": 3,
     "metadata": {},
     "output_type": "execute_result"
    }
   ],
   "source": [
    "# get oral bacterial fraction\n",
    "df_blast_100 = pd.read_csv(\"blast_HMPv35oral/blast_HMPv35oral_p100.txt\", sep=\"\\t\", comment=\"#\", header=None)\n",
    "df_blast_100.columns = ['query_accver', 'subject_accver', 'perc_identity', 'alignment_length', 'mismatches', 'gap_opens', 'qstart', 'qend', 'sstart', 'send', 'evalue', 'bitscore']#\n",
    "df_oral_total = df_relab_asv[set(df_blast_100.query_accver).intersection(df_relab_asv.columns)].sum(axis=1).to_frame()\n",
    "df_oral_total.columns = ['OralFrac_HMPv35oral']\n",
    "df_oral_total = df_oral_total.reset_index('SampleID').sort_values(['OralFrac_HMPv35oral','SampleID']).set_index('SampleID')\n",
    "df_oral_total['log10_OralFrac_HMPv35oral'] = np.log10(df_oral_total['OralFrac_HMPv35oral'])\n",
    "\n",
    "# read qPCR data\n",
    "df_qpcr=pd.read_csv('tblqpcr.csv', index_col=0)\n",
    "df_qpcr = df_qpcr[df_qpcr.qPCR16S>0]\n",
    "df_qpcr['log10_qPCR16S'] = np.log10(df_qpcr.qPCR16S)\n",
    "\n",
    "# joint sample, oral fraction and qpcr\n",
    "df = pd.merge(df_oral_total, df_qpcr, left_index=True, right_index=True, how='inner')\n",
    "df = pd.merge(df, df_sample, left_index=True, right_index=True, how='inner')\n",
    "df = df[df.OralFrac_HMPv35oral>0]\n",
    "df.head()"
   ]
  },
  {
   "cell_type": "code",
   "execution_count": 4,
   "id": "ab0ddff4-40e3-45bd-8c36-1366ee825b6c",
   "metadata": {},
   "outputs": [
    {
     "data": {
      "text/plain": [
       "3274"
      ]
     },
     "execution_count": 4,
     "metadata": {},
     "output_type": "execute_result"
    }
   ],
   "source": [
    "len(df)"
   ]
  },
  {
   "cell_type": "markdown",
   "id": "9ecaca89-98e5-4cf1-9dd1-b4ffc8db44d0",
   "metadata": {},
   "source": [
    "# Plot correlation between oral fraction and qPCR"
   ]
  },
  {
   "cell_type": "code",
   "execution_count": 18,
   "id": "eb8670c0-2c76-4626-a69d-0a04f07110c5",
   "metadata": {},
   "outputs": [
    {
     "data": {
      "image/png": "[encoded data removed]",
      "text/plain": [
       "<Figure size 576x360 with 1 Axes>"
      ]
     },
     "metadata": {
      "needs_background": "light"
     },
     "output_type": "display_data"
    }
   ],
   "source": [
    "fig, ax = plt.subplots(nrows=1, ncols=1, figsize=(8,5))\n",
    "\n",
    "df = df[df.qPCR16S>=1e3]\n",
    "_ = sns.regplot(data=df, x='log10_OralFrac_HMPv35oral', y='log10_qPCR16S', ax=ax, scatter_kws={\"color\": \"black\"}, line_kws={\"color\": \"red\"}, scatter=False)\n",
    "_ = sns.scatterplot(data=df, x='log10_OralFrac_HMPv35oral', y='log10_qPCR16S', ax=ax, color='lightgray', edgecolor='lightgray')\n",
    "_ = ax.set_ylabel('Total bacterial load')\n",
    "_ = ax.set_xlabel('Oral bacterial fraction')\n",
    "slope, intercept, r_value, p_value, std_err = stats.linregress(df.log10_OralFrac_HMPv35oral, df.log10_qPCR16S)\n",
    "_ = ax.set_title('slope=%2.2f, r=%2.3f, P=%2.2e'%(slope, r_value, p_value))\n",
    "_ = ax.set_xlim([-4.25, 0.25])\n",
    "_ = ax.set_ylim([2.5,10.5])\n",
    "    \n",
    "plt.tight_layout()\n",
    "plt.rcParams['svg.fonttype'] = 'none'\n",
    "fig.savefig(\"correlation_oralfrac_qpcr_msk.png\", dpi=600)\n",
    "fig.savefig(\"correlation_oralfrac_qpcr_msk.svg\", dpi=600)"
   ]
  },
  {
   "cell_type": "markdown",
   "id": "d051db3e-7396-425b-9556-5fbe768fe848",
   "metadata": {},
   "source": [
    "# Binned distribution"
   ]
  },
  {
   "cell_type": "code",
   "execution_count": 9,
   "id": "626f1c26-9871-4cca-ba2d-f5cf62cbaa6e",
   "metadata": {},
   "outputs": [
    {
     "data": {
      "image/png": "[encoded data removed]",
      "text/plain": [
       "<Figure size 720x144 with 1 Axes>"
      ]
     },
     "metadata": {
      "needs_background": "light"
     },
     "output_type": "display_data"
    }
   ],
   "source": [
    "fig, ax = plt.subplots(nrows=1, ncols=1, figsize=(10,2))\n",
    "\n",
    "# calculate binned values\n",
    "bins = np.linspace(-4,0,21)\n",
    "digitized = np.digitize(list(df.log10_OralFrac_HMPv35oral), bins)\n",
    "df['Bins']=digitized\n",
    "\n",
    "# plot\n",
    "_ = sns.barplot(x='Bins', y='log10_qPCR16S', data=df, ax=ax, color='grey', capsize=0.25)\n",
    "_ = ax.set_ylim([5,9])\n",
    "plt.rcParams['svg.fonttype'] = 'none'\n",
    "fig.savefig(\"binned_barplot_oral_qpcr.svg\")"
   ]
  },
  {
   "cell_type": "code",
   "execution_count": null,
   "id": "c3fc7779-7a04-4124-8fb6-a718ff5b85ce",
   "metadata": {},
   "outputs": [],
   "source": []
  }
 ],
 "metadata": {
  "kernelspec": {
   "display_name": "Python 3",
   "language": "python",
   "name": "python3"
  },
  "language_info": {
   "codemirror_mode": {
    "name": "ipython",
    "version": 3
   },
   "file_extension": ".py",
   "mimetype": "text/x-python",
   "name": "python",
   "nbconvert_exporter": "python",
   "pygments_lexer": "ipython3",
   "version": "3.8.5"
  }
 },
 "nbformat": 4,
 "nbformat_minor": 5
}
