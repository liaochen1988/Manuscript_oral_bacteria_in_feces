{
 "cells": [
  {
   "cell_type": "code",
   "execution_count": 7,
   "id": "7709b878-ca36-4719-bbee-6e96d6197f09",
   "metadata": {},
   "outputs": [],
   "source": [
    "import pandas as pd\n",
    "from Bio import SeqIO\n",
    "import os\n",
    "from Bio.Seq import Seq"
   ]
  },
  {
   "cell_type": "code",
   "execution_count": 9,
   "id": "d2e28e0f-f526-407b-a900-8083f9c6f79f",
   "metadata": {},
   "outputs": [],
   "source": [
    "seq = 'AGCGCAGGCGGTTTGATAAGTCTGAAGTTAAAGGCTGTGGCTCAACCATAGTTCGCTTTGGAAACTGTCAAACTTGAGTGCAGAAGGGGAGAGTGGAATTCCATGTGTAGCGGTGAAATGCGTAGATATATGGAGGAACACCGGTGGCGAAAGCGGCTCTCTGGTCTGTAACTGACGCTGAGGCTCGAAAGCGTGGGGAGCGAACAGGATTAGATACCCTGGTAGTCCACGCCGTAAACGATGAGTGCTAGGTGTTGGATCCTTTCCGGGATTCAGTGCCGCAGCTAACGCATTAAGCACTCCGCCTGGGGAGTACGACCGCAAGGTTGAA'\n",
    "ASV_8 = Seq(seq)\n",
    "ASV_8_rev = ASV_8.reverse_complement()"
   ]
  },
  {
   "cell_type": "code",
   "execution_count": 12,
   "id": "252f4117-6d4a-4684-98dc-d2bf41f0b9d6",
   "metadata": {},
   "outputs": [
    {
     "data": {
      "text/plain": [
       "Seq('AGCGCAGGCGGTTTGATAAGTCTGAAGTTAAAGGCTGTGGCTCAACCATAGTTC...GAA')"
      ]
     },
     "execution_count": 12,
     "metadata": {},
     "output_type": "execute_result"
    }
   ],
   "source": [
    "ASV_8"
   ]
  },
  {
   "cell_type": "code",
   "execution_count": 10,
   "id": "f43dd2bb-132c-43b8-afa3-0553841aea16",
   "metadata": {},
   "outputs": [
    {
     "data": {
      "text/plain": [
       "Seq('TTCAACCTTGCGGTCGTACTCCCCAGGCGGAGTGCTTAATGCGTTAGCTGCGGC...GCT')"
      ]
     },
     "execution_count": 10,
     "metadata": {},
     "output_type": "execute_result"
    }
   ],
   "source": [
    "ASV_8_rev"
   ]
  },
  {
   "cell_type": "code",
   "execution_count": 20,
   "id": "0b8783e4-788f-439a-b236-e21bd3b56044",
   "metadata": {},
   "outputs": [
    {
     "name": "stdout",
     "output_type": "stream",
     "text": [
      "1042W_21.fa k141_1558 forward\n",
      "1414H_20.fa k119_2977 reverse\n",
      "1105E_26.fa k141_1064 forward\n",
      "1044J_11.fa k141_5378 forward\n"
     ]
    }
   ],
   "source": [
    "for f in os.listdir('./'):\n",
    "    if f.endswith('.fa'):\n",
    "        fasta_sequences = SeqIO.parse(open(f),'fasta')\n",
    "        for fasta in fasta_sequences:\n",
    "            name, sequence = fasta.id, str(fasta.seq)\n",
    "            if str(ASV_8) in sequence:\n",
    "                print(f, name, 'forward')\n",
    "            if str(ASV_8_rev) in sequence:\n",
    "                print(f, name, 'reverse')"
   ]
  },
  {
   "cell_type": "code",
   "execution_count": null,
   "id": "daceaf74-cdf7-4668-a187-db46f79a8fd3",
   "metadata": {},
   "outputs": [],
   "source": []
  }
 ],
 "metadata": {
  "kernelspec": {
   "display_name": "Python 3 (ipykernel)",
   "language": "python",
   "name": "python3"
  },
  "language_info": {
   "codemirror_mode": {
    "name": "ipython",
    "version": 3
   },
   "file_extension": ".py",
   "mimetype": "text/x-python",
   "name": "python",
   "nbconvert_exporter": "python",
   "pygments_lexer": "ipython3",
   "version": "3.9.13"
  }
 },
 "nbformat": 4,
 "nbformat_minor": 5
}
