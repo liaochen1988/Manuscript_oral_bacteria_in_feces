{
 "cells": [
  {
   "cell_type": "code",
   "execution_count": 21,
   "metadata": {},
   "outputs": [],
   "source": [
    "import pandas as pd\n",
    "import matplotlib.pyplot as plt\n",
    "import seaborn as sns\n",
    "import numpy as np\n",
    "import scipy.stats as stats\n",
    "from scipy.integrate import odeint\n",
    "from copy import deepcopy\n",
    "from scipy.interpolate import interp1d\n",
    "from scipy.interpolate import griddata\n",
    "from scipy.stats import pearsonr\n",
    "import scipy\n",
    "from sklearn.metrics import auc\n",
    "%matplotlib inline"
   ]
  },
  {
   "cell_type": "markdown",
   "metadata": {},
   "source": [
    "# Determine growth rate of oral and gut bacteria"
   ]
  },
  {
   "cell_type": "code",
   "execution_count": 2,
   "metadata": {},
   "outputs": [
    {
     "data": {
      "text/html": [
       "<div>\n",
       "<style scoped>\n",
       "    .dataframe tbody tr th:only-of-type {\n",
       "        vertical-align: middle;\n",
       "    }\n",
       "\n",
       "    .dataframe tbody tr th {\n",
       "        vertical-align: top;\n",
       "    }\n",
       "\n",
       "    .dataframe thead th {\n",
       "        text-align: right;\n",
       "    }\n",
       "</style>\n",
       "<table border=\"1\" class=\"dataframe\">\n",
       "  <thead>\n",
       "    <tr style=\"text-align: right;\">\n",
       "      <th></th>\n",
       "      <th>taxon</th>\n",
       "      <th>MeanRelabunOral</th>\n",
       "      <th>PrevalenceOral</th>\n",
       "      <th>MeanRelabunGut</th>\n",
       "      <th>PrevalenceGut</th>\n",
       "      <th>species</th>\n",
       "      <th>species_binomial</th>\n",
       "    </tr>\n",
       "  </thead>\n",
       "  <tbody>\n",
       "    <tr>\n",
       "      <th>0</th>\n",
       "      <td>k__Bacteria|p__Actinobacteria|c__Actinobacteri...</td>\n",
       "      <td>0.550773</td>\n",
       "      <td>0.458484</td>\n",
       "      <td>0.000039</td>\n",
       "      <td>0.009404</td>\n",
       "      <td>Actinobaculum_sp_oral_taxon_183</td>\n",
       "      <td>Actinobaculum sp</td>\n",
       "    </tr>\n",
       "    <tr>\n",
       "      <th>1</th>\n",
       "      <td>k__Bacteria|p__Actinobacteria|c__Actinobacteri...</td>\n",
       "      <td>0.143748</td>\n",
       "      <td>0.395307</td>\n",
       "      <td>0.000021</td>\n",
       "      <td>0.009404</td>\n",
       "      <td>Actinomyces_johnsonii</td>\n",
       "      <td>Actinomyces johnsonii</td>\n",
       "    </tr>\n",
       "    <tr>\n",
       "      <th>2</th>\n",
       "      <td>k__Bacteria|p__Actinobacteria|c__Actinobacteri...</td>\n",
       "      <td>0.354643</td>\n",
       "      <td>0.402527</td>\n",
       "      <td>0.000000</td>\n",
       "      <td>0.000000</td>\n",
       "      <td>Actinomyces_massiliensis</td>\n",
       "      <td>Actinomyces massiliensis</td>\n",
       "    </tr>\n",
       "    <tr>\n",
       "      <th>3</th>\n",
       "      <td>k__Bacteria|p__Actinobacteria|c__Actinobacteri...</td>\n",
       "      <td>0.505413</td>\n",
       "      <td>0.635379</td>\n",
       "      <td>0.000074</td>\n",
       "      <td>0.018809</td>\n",
       "      <td>Actinomyces_naeslundii</td>\n",
       "      <td>Actinomyces naeslundii</td>\n",
       "    </tr>\n",
       "    <tr>\n",
       "      <th>4</th>\n",
       "      <td>k__Bacteria|p__Actinobacteria|c__Actinobacteri...</td>\n",
       "      <td>0.127484</td>\n",
       "      <td>0.500000</td>\n",
       "      <td>0.000110</td>\n",
       "      <td>0.034483</td>\n",
       "      <td>Actinomyces_sp_S6_Spd3</td>\n",
       "      <td>Actinomyces sp</td>\n",
       "    </tr>\n",
       "  </tbody>\n",
       "</table>\n",
       "</div>"
      ],
      "text/plain": [
       "                                               taxon  MeanRelabunOral  \\\n",
       "0  k__Bacteria|p__Actinobacteria|c__Actinobacteri...         0.550773   \n",
       "1  k__Bacteria|p__Actinobacteria|c__Actinobacteri...         0.143748   \n",
       "2  k__Bacteria|p__Actinobacteria|c__Actinobacteri...         0.354643   \n",
       "3  k__Bacteria|p__Actinobacteria|c__Actinobacteri...         0.505413   \n",
       "4  k__Bacteria|p__Actinobacteria|c__Actinobacteri...         0.127484   \n",
       "\n",
       "   PrevalenceOral  MeanRelabunGut  PrevalenceGut  \\\n",
       "0        0.458484        0.000039       0.009404   \n",
       "1        0.395307        0.000021       0.009404   \n",
       "2        0.402527        0.000000       0.000000   \n",
       "3        0.635379        0.000074       0.018809   \n",
       "4        0.500000        0.000110       0.034483   \n",
       "\n",
       "                           species          species_binomial  \n",
       "0  Actinobaculum_sp_oral_taxon_183          Actinobaculum sp  \n",
       "1            Actinomyces_johnsonii     Actinomyces johnsonii  \n",
       "2         Actinomyces_massiliensis  Actinomyces massiliensis  \n",
       "3           Actinomyces_naeslundii    Actinomyces naeslundii  \n",
       "4           Actinomyces_sp_S6_Spd3            Actinomyces sp  "
      ]
     },
     "execution_count": 2,
     "metadata": {},
     "output_type": "execute_result"
    }
   ],
   "source": [
    "df_oral_taxa = pd.read_csv(\"../../databases/fHOMD/oral_typical_species.csv\")\n",
    "df_oral_taxa.head()"
   ]
  },
  {
   "cell_type": "code",
   "execution_count": 3,
   "metadata": {},
   "outputs": [
    {
     "data": {
      "text/html": [
       "<div>\n",
       "<style scoped>\n",
       "    .dataframe tbody tr th:only-of-type {\n",
       "        vertical-align: middle;\n",
       "    }\n",
       "\n",
       "    .dataframe tbody tr th {\n",
       "        vertical-align: top;\n",
       "    }\n",
       "\n",
       "    .dataframe thead th {\n",
       "        text-align: right;\n",
       "    }\n",
       "</style>\n",
       "<table border=\"1\" class=\"dataframe\">\n",
       "  <thead>\n",
       "    <tr style=\"text-align: right;\">\n",
       "      <th></th>\n",
       "      <th>agoraid</th>\n",
       "      <th>max_growth_rate</th>\n",
       "      <th>medium</th>\n",
       "      <th>species_binomial</th>\n",
       "      <th>is_oral</th>\n",
       "    </tr>\n",
       "  </thead>\n",
       "  <tbody>\n",
       "    <tr>\n",
       "      <th>4908</th>\n",
       "      <td>Abiotrophia_defectiva_ATCC_49176</td>\n",
       "      <td>0.229485</td>\n",
       "      <td>AGORA_WD</td>\n",
       "      <td>Abiotrophia defectiva</td>\n",
       "      <td>No</td>\n",
       "    </tr>\n",
       "    <tr>\n",
       "      <th>4909</th>\n",
       "      <td>Achromobacter_xylosoxidans_A8</td>\n",
       "      <td>0.402918</td>\n",
       "      <td>AGORA_WD</td>\n",
       "      <td>Achromobacter xylosoxidans</td>\n",
       "      <td>No</td>\n",
       "    </tr>\n",
       "    <tr>\n",
       "      <th>4910</th>\n",
       "      <td>Achromobacter_xylosoxidans_NBRC_15126</td>\n",
       "      <td>0.217327</td>\n",
       "      <td>AGORA_WD</td>\n",
       "      <td>Achromobacter xylosoxidans</td>\n",
       "      <td>No</td>\n",
       "    </tr>\n",
       "    <tr>\n",
       "      <th>4911</th>\n",
       "      <td>Acidaminococcus_fermentans_DSM_20731</td>\n",
       "      <td>0.200883</td>\n",
       "      <td>AGORA_WD</td>\n",
       "      <td>Acidaminococcus fermentans</td>\n",
       "      <td>No</td>\n",
       "    </tr>\n",
       "    <tr>\n",
       "      <th>4912</th>\n",
       "      <td>Acidaminococcus_intestini_RyC_MR95</td>\n",
       "      <td>0.066094</td>\n",
       "      <td>AGORA_WD</td>\n",
       "      <td>Acidaminococcus intestini</td>\n",
       "      <td>No</td>\n",
       "    </tr>\n",
       "  </tbody>\n",
       "</table>\n",
       "</div>"
      ],
      "text/plain": [
       "                                    agoraid  max_growth_rate    medium  \\\n",
       "4908       Abiotrophia_defectiva_ATCC_49176         0.229485  AGORA_WD   \n",
       "4909          Achromobacter_xylosoxidans_A8         0.402918  AGORA_WD   \n",
       "4910  Achromobacter_xylosoxidans_NBRC_15126         0.217327  AGORA_WD   \n",
       "4911   Acidaminococcus_fermentans_DSM_20731         0.200883  AGORA_WD   \n",
       "4912     Acidaminococcus_intestini_RyC_MR95         0.066094  AGORA_WD   \n",
       "\n",
       "                species_binomial is_oral  \n",
       "4908       Abiotrophia defectiva      No  \n",
       "4909  Achromobacter xylosoxidans      No  \n",
       "4910  Achromobacter xylosoxidans      No  \n",
       "4911  Acidaminococcus fermentans      No  \n",
       "4912   Acidaminococcus intestini      No  "
      ]
     },
     "execution_count": 3,
     "metadata": {},
     "output_type": "execute_result"
    }
   ],
   "source": [
    "df_growth = pd.read_csv(\"tbl_max_growth.csv\")\n",
    "df_growth = df_growth[df_growth.medium==\"AGORA_WD\"]\n",
    "df_growth['species_binomial'] = [(' ').join(x.split('_')[0:2]) for x in df_growth.agoraid]\n",
    "df_growth['is_oral'] = ['Yes' if x in list(df_oral_taxa.species_binomial) else 'No' for x in df_growth.species_binomial]\n",
    "df_growth.head()"
   ]
  },
  {
   "cell_type": "code",
   "execution_count": 4,
   "metadata": {},
   "outputs": [
    {
     "data": {
      "text/plain": [
       "is_oral\n",
       "No     0.350523\n",
       "Yes    0.225570\n",
       "Name: max_growth_rate, dtype: float64"
      ]
     },
     "execution_count": 4,
     "metadata": {},
     "output_type": "execute_result"
    }
   ],
   "source": [
    "df_growth.groupby('is_oral')['max_growth_rate'].agg(np.mean)"
   ]
  },
  {
   "cell_type": "code",
   "execution_count": 5,
   "metadata": {},
   "outputs": [
    {
     "data": {
      "text/plain": [
       "(60, 758)"
      ]
     },
     "execution_count": 5,
     "metadata": {},
     "output_type": "execute_result"
    }
   ],
   "source": [
    "len(df_growth[df_growth.is_oral=='Yes']),len(df_growth[df_growth.is_oral=='No'])"
   ]
  },
  {
   "cell_type": "code",
   "execution_count": 6,
   "metadata": {},
   "outputs": [
    {
     "data": {
      "image/png": "[encoded data removed]",
      "text/plain": [
       "<Figure size 288x288 with 1 Axes>"
      ]
     },
     "metadata": {
      "needs_background": "light"
     },
     "output_type": "display_data"
    }
   ],
   "source": [
    "fig, ax = plt.subplots(figsize=(4,4))\n",
    "\n",
    "_ = sns.boxplot(x=\"is_oral\", y=\"max_growth_rate\", data=df_growth, ax=ax,\n",
    "                width=0.4, color=\"skyblue\", linewidth=2, showfliers=False\n",
    "               )\n",
    "_ = sns.stripplot(x=\"is_oral\", y=\"max_growth_rate\", data=df_growth, ax=ax,\n",
    "                  color=\"crimson\", linewidth=1, alpha=0.4\n",
    "                 )\n",
    "_ = ax.set_xticklabels(['Gut','Oral'], fontsize=12)\n",
    "_ = ax.set_xlabel('')\n",
    "_ = ax.set_ylabel('Maximum growth rate (1/h)', fontsize=12)\n",
    "\n",
    "plt.tight_layout()\n",
    "plt.rcParams['svg.fonttype'] = 'none'\n",
    "fig.savefig(\"gut_oral_bact_growth_rate.svg\", dpi=600, bbox_inches='tight')"
   ]
  },
  {
   "cell_type": "markdown",
   "metadata": {},
   "source": [
    "# Parameters"
   ]
  },
  {
   "cell_type": "code",
   "execution_count": 7,
   "metadata": {},
   "outputs": [],
   "source": [
    "alpha_o = 3.10e5 # oral-gut transmission rate\n",
    "K_o = 1.39e9 # carrying capacity of oral bacteria, cfu/g\n",
    "K_g = 2.92e10 # carrying capacity of gut bacteria, cfu/g\n",
    "gamma_o = 0.23 # maximum growth rate of oral bacteria, 1/h\n",
    "gamma_g = 0.35 # maximum growht rate of gut bacteria, 1/h\n",
    "D = 0.08 # fecal excretion rate, 1/h"
   ]
  },
  {
   "cell_type": "markdown",
   "metadata": {},
   "source": [
    "# Model"
   ]
  },
  {
   "cell_type": "code",
   "execution_count": 8,
   "metadata": {},
   "outputs": [],
   "source": [
    "def glv(y, t, eps_o, eps_g, tstop):\n",
    "    B_o, B_g = y\n",
    "    if t <= tstop:\n",
    "        epsilon_o_prime = eps_o\n",
    "        epsilon_g_prime = eps_g\n",
    "    else:\n",
    "        epsilon_o_prime = 1\n",
    "        epsilon_g_prime = 1\n",
    "    dydt = [\n",
    "        alpha_o + gamma_o * (1-B_o/K_o-B_g/K_g) * B_o * epsilon_o_prime - D*B_o,\n",
    "                  gamma_g * (1-B_o/K_o-B_g/K_g) * B_g * epsilon_g_prime - D*B_g\n",
    "    ]\n",
    "    return dydt"
   ]
  },
  {
   "cell_type": "markdown",
   "metadata": {},
   "source": [
    "# Plot the conditions of epsilon_o and epsilon_g that have (1) relative enrichment and (2) no active expansion"
   ]
  },
  {
   "cell_type": "code",
   "execution_count": 57,
   "metadata": {},
   "outputs": [],
   "source": [
    "epsilon_o = np.linspace(0,1,101)\n",
    "epsilon_g = np.linspace(0,1,101)\n",
    "tend = 100 # simulation time"
   ]
  },
  {
   "cell_type": "code",
   "execution_count": 58,
   "metadata": {},
   "outputs": [
    {
     "data": {
      "text/html": [
       "<div>\n",
       "<style scoped>\n",
       "    .dataframe tbody tr th:only-of-type {\n",
       "        vertical-align: middle;\n",
       "    }\n",
       "\n",
       "    .dataframe tbody tr th {\n",
       "        vertical-align: top;\n",
       "    }\n",
       "\n",
       "    .dataframe thead th {\n",
       "        text-align: right;\n",
       "    }\n",
       "</style>\n",
       "<table border=\"1\" class=\"dataframe\">\n",
       "  <thead>\n",
       "    <tr style=\"text-align: right;\">\n",
       "      <th></th>\n",
       "      <th>Epsilon_g</th>\n",
       "      <th>Epsilon_o</th>\n",
       "      <th>AUC_Rel</th>\n",
       "      <th>AUC_Abs</th>\n",
       "      <th>Satisfied</th>\n",
       "    </tr>\n",
       "  </thead>\n",
       "  <tbody>\n",
       "    <tr>\n",
       "      <th>0</th>\n",
       "      <td>0.0</td>\n",
       "      <td>0.00</td>\n",
       "      <td>5.198388</td>\n",
       "      <td>-6.498514e+08</td>\n",
       "      <td>1</td>\n",
       "    </tr>\n",
       "    <tr>\n",
       "      <th>1</th>\n",
       "      <td>0.0</td>\n",
       "      <td>0.01</td>\n",
       "      <td>5.324438</td>\n",
       "      <td>-6.393262e+08</td>\n",
       "      <td>1</td>\n",
       "    </tr>\n",
       "    <tr>\n",
       "      <th>2</th>\n",
       "      <td>0.0</td>\n",
       "      <td>0.02</td>\n",
       "      <td>5.456663</td>\n",
       "      <td>-6.282916e+08</td>\n",
       "      <td>1</td>\n",
       "    </tr>\n",
       "    <tr>\n",
       "      <th>3</th>\n",
       "      <td>0.0</td>\n",
       "      <td>0.03</td>\n",
       "      <td>5.595507</td>\n",
       "      <td>-6.167101e+08</td>\n",
       "      <td>1</td>\n",
       "    </tr>\n",
       "    <tr>\n",
       "      <th>4</th>\n",
       "      <td>0.0</td>\n",
       "      <td>0.04</td>\n",
       "      <td>5.741450</td>\n",
       "      <td>-6.045404e+08</td>\n",
       "      <td>1</td>\n",
       "    </tr>\n",
       "  </tbody>\n",
       "</table>\n",
       "</div>"
      ],
      "text/plain": [
       "   Epsilon_g  Epsilon_o   AUC_Rel       AUC_Abs  Satisfied\n",
       "0        0.0       0.00  5.198388 -6.498514e+08          1\n",
       "1        0.0       0.01  5.324438 -6.393262e+08          1\n",
       "2        0.0       0.02  5.456663 -6.282916e+08          1\n",
       "3        0.0       0.03  5.595507 -6.167101e+08          1\n",
       "4        0.0       0.04  5.741450 -6.045404e+08          1"
      ]
     },
     "execution_count": 58,
     "metadata": {},
     "output_type": "execute_result"
    }
   ],
   "source": [
    "# get steady state before any perturbation\n",
    "sol = odeint(glv, [0.1,0.1], np.linspace(0,2000,100), args=(1,1,tend))\n",
    "steady_state = list(sol[-1])\n",
    "\n",
    "# add perturbations\n",
    "res = []\n",
    "for eps_g in epsilon_g:\n",
    "    for eps_o in epsilon_o:\n",
    "        tspan = np.linspace(0, tend, int(tend)+1)\n",
    "        sol = odeint(glv, steady_state, tspan, args=(eps_o, eps_g, tend))\n",
    "        df2 = pd.DataFrame(sol, index=tspan, columns=['B_o','B_g'])\n",
    "        df2['Loadt'] = df2['B_o']+df2['B_g']\n",
    "        df2['Oralf'] = df2['B_o']/df2['Loadt']\n",
    "        df2['Epsilon_o'] = eps_o\n",
    "        df2['Epsilon_g'] = eps_g\n",
    "        \n",
    "        # relative enrichment\n",
    "        auc_rel = auc(tspan, df2.Oralf-steady_state[0]/(steady_state[0]+steady_state[1]))\n",
    "        auc_abs = auc(tspan, df2.B_o-steady_state[0])\n",
    "        satisfied = 0\n",
    "        if auc_rel >=0 and auc_abs<=0:\n",
    "            satisfied = 1\n",
    "        res.append([eps_g, eps_o, auc_rel, auc_abs, satisfied])\n",
    "df = pd.DataFrame(res, columns=['Epsilon_g','Epsilon_o','AUC_Rel','AUC_Abs','Satisfied'])\n",
    "df.head()"
   ]
  },
  {
   "cell_type": "code",
   "execution_count": 59,
   "metadata": {},
   "outputs": [
    {
     "data": {
      "image/png": "[encoded data removed]",
      "text/plain": [
       "<Figure size 504x396 with 2 Axes>"
      ]
     },
     "metadata": {
      "needs_background": "light"
     },
     "output_type": "display_data"
    }
   ],
   "source": [
    "fig, ax = plt.subplots(figsize=(7,5.5))\n",
    "\n",
    "df2plot = pd.pivot_table(df, index='Epsilon_g', columns='Epsilon_o', values='Satisfied')\n",
    "_ = sns.heatmap(df2plot, ax=ax, cmap=\"RdYlGn\", vmin=0, vmax=1, linewidth=0, linecolor='gray') \n",
    "\n",
    "plt.tight_layout()\n",
    "plt.rcParams['svg.fonttype'] = 'none'\n",
    "fig.savefig(\"heatmap_satisfied.png\", dpi=600, bbox_inches='tight')"
   ]
  },
  {
   "cell_type": "markdown",
   "metadata": {},
   "source": [
    "# Plot the conditions of epsilon_o and epsilon_g that have increased relative and absolute abundances"
   ]
  },
  {
   "cell_type": "code",
   "execution_count": 92,
   "metadata": {},
   "outputs": [],
   "source": [
    "epsilon_o = np.linspace(0,1,101)\n",
    "epsilon_g = np.linspace(0,1,101)\n",
    "tend = 100 # simulation time"
   ]
  },
  {
   "cell_type": "code",
   "execution_count": 101,
   "metadata": {},
   "outputs": [
    {
     "data": {
      "text/html": [
       "<div>\n",
       "<style scoped>\n",
       "    .dataframe tbody tr th:only-of-type {\n",
       "        vertical-align: middle;\n",
       "    }\n",
       "\n",
       "    .dataframe tbody tr th {\n",
       "        vertical-align: top;\n",
       "    }\n",
       "\n",
       "    .dataframe thead th {\n",
       "        text-align: right;\n",
       "    }\n",
       "</style>\n",
       "<table border=\"1\" class=\"dataframe\">\n",
       "  <thead>\n",
       "    <tr style=\"text-align: right;\">\n",
       "      <th></th>\n",
       "      <th>Epsilon_g</th>\n",
       "      <th>Epsilon_o</th>\n",
       "      <th>AUC_Rel</th>\n",
       "      <th>AUC_Abs</th>\n",
       "      <th>Satisfied</th>\n",
       "    </tr>\n",
       "  </thead>\n",
       "  <tbody>\n",
       "    <tr>\n",
       "      <th>0</th>\n",
       "      <td>0.0</td>\n",
       "      <td>0.00</td>\n",
       "      <td>5.198388</td>\n",
       "      <td>-6.498514e+08</td>\n",
       "      <td>0</td>\n",
       "    </tr>\n",
       "    <tr>\n",
       "      <th>1</th>\n",
       "      <td>0.0</td>\n",
       "      <td>0.01</td>\n",
       "      <td>5.324438</td>\n",
       "      <td>-6.393262e+08</td>\n",
       "      <td>0</td>\n",
       "    </tr>\n",
       "    <tr>\n",
       "      <th>2</th>\n",
       "      <td>0.0</td>\n",
       "      <td>0.02</td>\n",
       "      <td>5.456663</td>\n",
       "      <td>-6.282916e+08</td>\n",
       "      <td>0</td>\n",
       "    </tr>\n",
       "    <tr>\n",
       "      <th>3</th>\n",
       "      <td>0.0</td>\n",
       "      <td>0.03</td>\n",
       "      <td>5.595507</td>\n",
       "      <td>-6.167101e+08</td>\n",
       "      <td>0</td>\n",
       "    </tr>\n",
       "    <tr>\n",
       "      <th>4</th>\n",
       "      <td>0.0</td>\n",
       "      <td>0.04</td>\n",
       "      <td>5.741450</td>\n",
       "      <td>-6.045404e+08</td>\n",
       "      <td>0</td>\n",
       "    </tr>\n",
       "  </tbody>\n",
       "</table>\n",
       "</div>"
      ],
      "text/plain": [
       "   Epsilon_g  Epsilon_o   AUC_Rel       AUC_Abs  Satisfied\n",
       "0        0.0       0.00  5.198388 -6.498514e+08          0\n",
       "1        0.0       0.01  5.324438 -6.393262e+08          0\n",
       "2        0.0       0.02  5.456663 -6.282916e+08          0\n",
       "3        0.0       0.03  5.595507 -6.167101e+08          0\n",
       "4        0.0       0.04  5.741450 -6.045404e+08          0"
      ]
     },
     "execution_count": 101,
     "metadata": {},
     "output_type": "execute_result"
    }
   ],
   "source": [
    "# get steady state before any perturbation\n",
    "sol = odeint(glv, [0.1,0.1], np.linspace(0,2000,100), args=(1,1,tend))\n",
    "steady_state = list(sol[-1])\n",
    "\n",
    "# add perturbations\n",
    "res = []\n",
    "for eps_g in epsilon_g:\n",
    "    for eps_o in epsilon_o:\n",
    "        tspan = np.linspace(0, tend, int(tend)+1)\n",
    "        sol = odeint(glv, steady_state, tspan, args=(eps_o, eps_g, tend))\n",
    "        df2 = pd.DataFrame(sol, index=tspan, columns=['B_o','B_g'])\n",
    "        df2['Loadt'] = df2['B_o']+df2['B_g']\n",
    "        df2['Oralf'] = df2['B_o']/df2['Loadt']\n",
    "        df2['Epsilon_o'] = eps_o\n",
    "        df2['Epsilon_g'] = eps_g\n",
    "        \n",
    "        # relative enrichment\n",
    "        auc_rel = auc(tspan, df2.Oralf-steady_state[0]/(steady_state[0]+steady_state[1]))\n",
    "        auc_abs = auc(tspan, df2.B_o-steady_state[0])\n",
    "        satisfied = 0\n",
    "        if auc_rel <=0 and auc_abs>=0:\n",
    "            satisfied = 1\n",
    "        res.append([eps_g, eps_o, auc_rel, auc_abs, satisfied])\n",
    "df = pd.DataFrame(res, columns=['Epsilon_g','Epsilon_o','AUC_Rel','AUC_Abs','Satisfied'])\n",
    "df.head()"
   ]
  },
  {
   "cell_type": "code",
   "execution_count": 102,
   "metadata": {},
   "outputs": [
    {
     "data": {
      "image/png": "[encoded data removed]",
      "text/plain": [
       "<Figure size 504x396 with 2 Axes>"
      ]
     },
     "metadata": {
      "needs_background": "light"
     },
     "output_type": "display_data"
    }
   ],
   "source": [
    "fig, ax = plt.subplots(figsize=(7,5.5))\n",
    "\n",
    "df2plot = pd.pivot_table(df, index='Epsilon_g', columns='Epsilon_o', values='Satisfied')\n",
    "_ = sns.heatmap(df2plot, ax=ax, cmap=\"RdYlGn\", vmin=0, vmax=1, linewidth=0, linecolor='gray') \n",
    "\n",
    "plt.tight_layout()\n",
    "plt.rcParams['svg.fonttype'] = 'none'\n",
    "fig.savefig(\"heatmap_satisfied_both_increase.png\", dpi=600, bbox_inches='tight')"
   ]
  },
  {
   "cell_type": "markdown",
   "metadata": {},
   "source": [
    "# Plot oral load for a variety of Eo and Eg"
   ]
  },
  {
   "cell_type": "code",
   "execution_count": 66,
   "metadata": {},
   "outputs": [],
   "source": [
    "epsilon_o = np.linspace(0,1,5)\n",
    "epsilon_g = np.linspace(0,1,5)\n",
    "tend = 100 # simulation time"
   ]
  },
  {
   "cell_type": "code",
   "execution_count": 67,
   "metadata": {},
   "outputs": [
    {
     "data": {
      "text/plain": [
       "array([0.  , 0.25, 0.5 , 0.75, 1.  ])"
      ]
     },
     "execution_count": 67,
     "metadata": {},
     "output_type": "execute_result"
    }
   ],
   "source": [
    "epsilon_o"
   ]
  },
  {
   "cell_type": "code",
   "execution_count": 80,
   "metadata": {},
   "outputs": [
    {
     "data": {
      "text/html": [
       "<div>\n",
       "<style scoped>\n",
       "    .dataframe tbody tr th:only-of-type {\n",
       "        vertical-align: middle;\n",
       "    }\n",
       "\n",
       "    .dataframe tbody tr th {\n",
       "        vertical-align: top;\n",
       "    }\n",
       "\n",
       "    .dataframe thead th {\n",
       "        text-align: right;\n",
       "    }\n",
       "</style>\n",
       "<table border=\"1\" class=\"dataframe\">\n",
       "  <thead>\n",
       "    <tr style=\"text-align: right;\">\n",
       "      <th></th>\n",
       "      <th>Time</th>\n",
       "      <th>B_o</th>\n",
       "      <th>B_g</th>\n",
       "      <th>Loadt</th>\n",
       "      <th>Oralf</th>\n",
       "      <th>Gutf</th>\n",
       "      <th>Epsilon_o</th>\n",
       "      <th>Epsilon_g</th>\n",
       "      <th>Epsilon_diff</th>\n",
       "    </tr>\n",
       "  </thead>\n",
       "  <tbody>\n",
       "    <tr>\n",
       "      <th>0</th>\n",
       "      <td>0.0</td>\n",
       "      <td>1.130208e+07</td>\n",
       "      <td>2.228829e+10</td>\n",
       "      <td>2.229959e+10</td>\n",
       "      <td>0.000507</td>\n",
       "      <td>0.999493</td>\n",
       "      <td>0.0</td>\n",
       "      <td>0.0</td>\n",
       "      <td>0.0</td>\n",
       "    </tr>\n",
       "    <tr>\n",
       "      <th>1</th>\n",
       "      <td>1.0</td>\n",
       "      <td>1.073106e+07</td>\n",
       "      <td>2.057468e+10</td>\n",
       "      <td>2.058542e+10</td>\n",
       "      <td>0.000521</td>\n",
       "      <td>0.999479</td>\n",
       "      <td>0.0</td>\n",
       "      <td>0.0</td>\n",
       "      <td>0.0</td>\n",
       "    </tr>\n",
       "    <tr>\n",
       "      <th>2</th>\n",
       "      <td>2.0</td>\n",
       "      <td>1.020394e+07</td>\n",
       "      <td>1.899283e+10</td>\n",
       "      <td>1.900303e+10</td>\n",
       "      <td>0.000537</td>\n",
       "      <td>0.999463</td>\n",
       "      <td>0.0</td>\n",
       "      <td>0.0</td>\n",
       "      <td>0.0</td>\n",
       "    </tr>\n",
       "    <tr>\n",
       "      <th>3</th>\n",
       "      <td>3.0</td>\n",
       "      <td>9.717351e+06</td>\n",
       "      <td>1.753259e+10</td>\n",
       "      <td>1.754231e+10</td>\n",
       "      <td>0.000554</td>\n",
       "      <td>0.999446</td>\n",
       "      <td>0.0</td>\n",
       "      <td>0.0</td>\n",
       "      <td>0.0</td>\n",
       "    </tr>\n",
       "    <tr>\n",
       "      <th>4</th>\n",
       "      <td>4.0</td>\n",
       "      <td>9.268169e+06</td>\n",
       "      <td>1.618462e+10</td>\n",
       "      <td>1.619389e+10</td>\n",
       "      <td>0.000572</td>\n",
       "      <td>0.999428</td>\n",
       "      <td>0.0</td>\n",
       "      <td>0.0</td>\n",
       "      <td>0.0</td>\n",
       "    </tr>\n",
       "  </tbody>\n",
       "</table>\n",
       "</div>"
      ],
      "text/plain": [
       "   Time           B_o           B_g         Loadt     Oralf      Gutf  \\\n",
       "0   0.0  1.130208e+07  2.228829e+10  2.229959e+10  0.000507  0.999493   \n",
       "1   1.0  1.073106e+07  2.057468e+10  2.058542e+10  0.000521  0.999479   \n",
       "2   2.0  1.020394e+07  1.899283e+10  1.900303e+10  0.000537  0.999463   \n",
       "3   3.0  9.717351e+06  1.753259e+10  1.754231e+10  0.000554  0.999446   \n",
       "4   4.0  9.268169e+06  1.618462e+10  1.619389e+10  0.000572  0.999428   \n",
       "\n",
       "   Epsilon_o  Epsilon_g  Epsilon_diff  \n",
       "0        0.0        0.0           0.0  \n",
       "1        0.0        0.0           0.0  \n",
       "2        0.0        0.0           0.0  \n",
       "3        0.0        0.0           0.0  \n",
       "4        0.0        0.0           0.0  "
      ]
     },
     "execution_count": 80,
     "metadata": {},
     "output_type": "execute_result"
    }
   ],
   "source": [
    "# get steady state before any perturbation\n",
    "sol = odeint(glv, [0.1,0.1], np.linspace(0,2000,100), args=(1,1,tend))\n",
    "steady_state = list(sol[-1])\n",
    "\n",
    "# add perturbations\n",
    "df = None\n",
    "for eps_o in epsilon_o:\n",
    "    for eps_g in epsilon_g:\n",
    "        tspan = np.linspace(0, tend, int(tend)+1)\n",
    "        sol = odeint(glv, steady_state, tspan, args=(eps_o, eps_g, tend))\n",
    "        df2 = pd.DataFrame(sol, index=tspan, columns=['B_o','B_g'])\n",
    "        df2['Loadt'] = df2['B_o']+df2['B_g']\n",
    "        df2['Oralf'] = df2['B_o']/df2['Loadt']\n",
    "        df2['Gutf'] = 1-df2['Oralf']\n",
    "        df2['Epsilon_o'] = eps_o\n",
    "        df2['Epsilon_g'] = eps_g\n",
    "        df2['Epsilon_diff'] = eps_o-eps_g\n",
    "        if df is None:\n",
    "            df = deepcopy(df2)\n",
    "        else:\n",
    "            df = pd.concat([df,df2])\n",
    "df.index.name='Time'\n",
    "df = df.reset_index()\n",
    "df.head()"
   ]
  },
  {
   "cell_type": "code",
   "execution_count": 91,
   "metadata": {},
   "outputs": [
    {
     "data": {
      "image/png": "[encoded data removed]",
      "text/plain": [
       "<Figure size 864x720 with 25 Axes>"
      ]
     },
     "metadata": {
      "needs_background": "light"
     },
     "output_type": "display_data"
    }
   ],
   "source": [
    "fig, ax = plt.subplots(nrows=5, ncols=5, figsize=(12,10), sharex=True, sharey=True)\n",
    "\n",
    "for i,eps_o in enumerate(epsilon_o):\n",
    "    for j,eps_g in enumerate(epsilon_g):\n",
    "        curr_df = df[(df.Epsilon_o==eps_o) & (df.Epsilon_g==eps_g)].sort_values('Time')\n",
    "        _ = sns.lineplot(x=\"Time\", y='Oralf', data=curr_df, ax=ax[i,j], zorder=-10, linewidth=1, color='k')\n",
    "        #_ = ax[i,j].plot([0,100],[steady_state[0],steady_state[0]],'k--')\n",
    "        if ax[i,j].get_legend() is not None:\n",
    "            _ = ax[i,j].get_legend().remove()\n",
    "_ = ax[i,j].set_xlim([0,100])\n",
    "_ = ax[i,j].set_yscale('log')\n",
    "_ = ax[i,j].minorticks_off()\n",
    "_ = ax[i,j].set_xlabel('', fontsize=15)\n",
    "_ = ax[i,j].set_ylabel('', fontsize=15)\n",
    "_ = ax[i,j].set_ylim([8e-5,1.5])\n",
    "\n",
    "plt.tight_layout()\n",
    "plt.rcParams['svg.fonttype'] = 'none'\n",
    "fig.savefig(\"grid_search_oral_fraction.svg\", dpi=600, bbox_inches='tight')"
   ]
  },
  {
   "cell_type": "markdown",
   "metadata": {},
   "source": [
    "# Plot which hypothesis dominates the oral bacterial loads changes"
   ]
  },
  {
   "cell_type": "code",
   "execution_count": null,
   "metadata": {},
   "outputs": [],
   "source": [
    "epsilon_o = np.linspace(0,1,101)\n",
    "epsilon_g = np.linspace(0,1,101)\n",
    "tend = 100 # simulation time"
   ]
  },
  {
   "cell_type": "code",
   "execution_count": null,
   "metadata": {},
   "outputs": [
    {
     "name": "stderr",
     "output_type": "stream",
     "text": [
      "/var/folders/zg/9bd_wdgn3qg8kl1z973r48mjxx5dnb/T/ipykernel_42718/3150832703.py:16: RuntimeWarning: divide by zero encountered in log10\n",
      "  df2['log10_Epsilon_o'] = np.log10(eps_o)\n"
     ]
    }
   ],
   "source": [
    "# get steady state before any perturbation\n",
    "sol = odeint(glv, [0.1,0.1], np.linspace(0,2000,100), args=(1,1,tend))\n",
    "steady_state = list(sol[-1])\n",
    "\n",
    "# add perturbations\n",
    "res = []\n",
    "for eps_g in epsilon_g:\n",
    "    for eps_o in epsilon_o:\n",
    "        tspan = np.linspace(0, tend, int(tend)+1)\n",
    "        sol = odeint(glv, steady_state, tspan, args=(eps_o, eps_g, tend))\n",
    "        df2 = pd.DataFrame(sol, index=tspan, columns=['B_o','B_g'])\n",
    "        df2['Loadt'] = df2['B_o']+df2['B_g']\n",
    "        df2['Oralf'] = df2['B_o']/df2['Loadt']\n",
    "        df2['Gutf'] = 1-df2['Oralf']\n",
    "        df2['Epsilon_o'] = eps_o\n",
    "        df2['log10_Epsilon_o'] = np.log10(eps_o)\n",
    "        df2['Epsilon_g'] = eps_g\n",
    "        df2['Epsilon_diff'] = eps_o-eps_g\n",
    "        if df is None:\n",
    "            df = deepcopy(df2)\n",
    "        else:\n",
    "            df = pd.concat([df,df2])\n",
    "df.index.name='Time'\n",
    "df = df.reset_index()\n",
    "\n",
    "res = []\n",
    "res2 = []\n",
    "for B_o_f, B_g_f in zip(df.B_o, df.B_g):\n",
    "    B_o_i = steady_state[0]\n",
    "    B_g_i = steady_state[1]\n",
    "    Oralf_i = B_o_i/(B_o_i+B_g_i)\n",
    "    Oralf_f = B_o_f/(B_o_f+B_g_f)\n",
    "    Oralf_fix_Bo = B_o_i/(B_o_i+B_g_f)\n",
    "    Oralf_fix_Bg = B_o_f/(B_o_f+B_g_i)\n",
    "    if np.abs(Oralf_fix_Bo-Oralf_f) > np.abs(Oralf_fix_Bg-Oralf_f):\n",
    "        # expansion\n",
    "        res.append(0)\n",
    "        res2.append(-Oralf_fix_Bg/Oralf_f)\n",
    "    else:\n",
    "        # marker\n",
    "        res.append(1)\n",
    "        res2.append(Oralf_fix_Bo/Oralf_f)\n",
    "df['Hypothesis'] = res\n",
    "df['Ratio'] = res2\n",
    "df.head()\n",
    "\n",
    "df.head()"
   ]
  },
  {
   "cell_type": "code",
   "execution_count": null,
   "metadata": {},
   "outputs": [],
   "source": [
    "fig, ax = plt.subplots(figsize=(7,5.5))\n",
    "\n",
    "df2plot = pd.pivot_table(df, index='Epsilon_g', columns='Epsilon_o', values='Satisfied')\n",
    "_ = sns.heatmap(df2plot, ax=ax, cmap=\"RdYlGn\", vmin=0, vmax=1, linewidth=0, linecolor='gray') \n",
    "\n",
    "plt.tight_layout()\n",
    "plt.rcParams['svg.fonttype'] = 'none'\n",
    "fig.savefig(\"heatmap_satisfied_both_increase.png\", dpi=600, bbox_inches='tight')"
   ]
  },
  {
   "cell_type": "code",
   "execution_count": null,
   "metadata": {},
   "outputs": [],
   "source": []
  },
  {
   "cell_type": "code",
   "execution_count": null,
   "metadata": {},
   "outputs": [],
   "source": []
  },
  {
   "cell_type": "code",
   "execution_count": null,
   "metadata": {},
   "outputs": [],
   "source": []
  }
 ],
 "metadata": {
  "kernelspec": {
   "display_name": "Python 3 (ipykernel)",
   "language": "python",
   "name": "python3"
  },
  "language_info": {
   "codemirror_mode": {
    "name": "ipython",
    "version": 3
   },
   "file_extension": ".py",
   "mimetype": "text/x-python",
   "name": "python",
   "nbconvert_exporter": "python",
   "pygments_lexer": "ipython3",
   "version": "3.9.9"
  }
 },
 "nbformat": 4,
 "nbformat_minor": 4
}
